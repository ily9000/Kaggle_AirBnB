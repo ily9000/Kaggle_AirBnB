{
 "cells": [
  {
   "cell_type": "code",
   "execution_count": 1,
   "metadata": {
    "collapsed": false
   },
   "outputs": [],
   "source": [
    "#%matplotlib inline\n",
    "import numpy as np\n",
    "import pandas as pd\n",
    "import scipy.sparse\n",
    "from sklearn import preprocessing\n",
    "from sklearn.grid_search import ParameterGrid\n",
    "import xgboost as xgb\n",
    "import pickle\n",
    "#import graphviz\n",
    "import matplotlib.pyplot as plt\n",
    "%matplotlib inline"
   ]
  },
  {
   "cell_type": "markdown",
   "metadata": {},
   "source": [
    "Read in just the testing and training data."
   ]
  },
  {
   "cell_type": "code",
   "execution_count": 30,
   "metadata": {
    "collapsed": false
   },
   "outputs": [],
   "source": [
    "error = pd.read_pickle('scripts/cv_results/actions_e20/search3/res1.p')\n",
    "error2 = pd.read_pickle('scripts/cv_results/actions_e20/search3/res5.p')\n",
    "error6 = pd.read_pickle('scripts/cv_results/actions_e20/search3/res6.p')\n",
    "e = pd.read_pickle('scripts/cv_results/actions_e20/errors_search3.p')\n",
    "param = pd.read_pickle('scripts/cv_results/actions_e20/params_search3.p')\n",
    "#error['mean'] = error.apply(np.mean, axis = 1)\n",
    "# error = error.astype(np.float64)\n",
    "# error['mean'] = error.mean(1)\n",
    "# error['std'] = error.std(1)"
   ]
  },
  {
   "cell_type": "code",
   "execution_count": 108,
   "metadata": {
    "collapsed": false
   },
   "outputs": [
    {
     "data": {
      "text/html": [
       "<div>\n",
       "<table border=\"1\" class=\"dataframe\">\n",
       "  <thead>\n",
       "    <tr style=\"text-align: right;\">\n",
       "      <th></th>\n",
       "      <th>subsample</th>\n",
       "      <th>eta</th>\n",
       "      <th>colsample_bytree</th>\n",
       "      <th>max_depth</th>\n",
       "      <th>details</th>\n",
       "    </tr>\n",
       "  </thead>\n",
       "  <tbody>\n",
       "    <tr>\n",
       "      <th>0</th>\n",
       "      <td>0.7</td>\n",
       "      <td>0.16</td>\n",
       "      <td>0.30</td>\n",
       "      <td>6</td>\n",
       "      <td>actions2</td>\n",
       "    </tr>\n",
       "    <tr>\n",
       "      <th>1</th>\n",
       "      <td>0.7</td>\n",
       "      <td>0.16</td>\n",
       "      <td>0.60</td>\n",
       "      <td>6</td>\n",
       "      <td>actions2</td>\n",
       "    </tr>\n",
       "    <tr>\n",
       "      <th>2</th>\n",
       "      <td>0.7</td>\n",
       "      <td>0.16</td>\n",
       "      <td>0.60</td>\n",
       "      <td>6</td>\n",
       "      <td>actions3_nodrop</td>\n",
       "    </tr>\n",
       "    <tr>\n",
       "      <th>3</th>\n",
       "      <td>0.7</td>\n",
       "      <td>0.16</td>\n",
       "      <td>0.60</td>\n",
       "      <td>6</td>\n",
       "      <td>actions3_dropped_p4total</td>\n",
       "    </tr>\n",
       "    <tr>\n",
       "      <th>4</th>\n",
       "      <td>0.9</td>\n",
       "      <td>0.13</td>\n",
       "      <td>0.45</td>\n",
       "      <td>6</td>\n",
       "      <td>actions3_nodrop</td>\n",
       "    </tr>\n",
       "    <tr>\n",
       "      <th>5</th>\n",
       "      <td>0.9</td>\n",
       "      <td>0.13</td>\n",
       "      <td>0.60</td>\n",
       "      <td>6</td>\n",
       "      <td>actions3_nodrop</td>\n",
       "    </tr>\n",
       "    <tr>\n",
       "      <th>6</th>\n",
       "      <td>0.9</td>\n",
       "      <td>0.13</td>\n",
       "      <td>0.45</td>\n",
       "      <td>6</td>\n",
       "      <td>actions3_nodrop, ndcg_all</td>\n",
       "    </tr>\n",
       "    <tr>\n",
       "      <th>7</th>\n",
       "      <td>0.9</td>\n",
       "      <td>0.13</td>\n",
       "      <td>0.45</td>\n",
       "      <td>6</td>\n",
       "      <td>actions3_nodrop, sklearn_kfold</td>\n",
       "    </tr>\n",
       "    <tr>\n",
       "      <th>8</th>\n",
       "      <td>0.9</td>\n",
       "      <td>0.13</td>\n",
       "      <td>0.45</td>\n",
       "      <td>6</td>\n",
       "      <td>nodrop, sklearn_kfold, foreign</td>\n",
       "    </tr>\n",
       "    <tr>\n",
       "      <th>9</th>\n",
       "      <td>0.9</td>\n",
       "      <td>0.13</td>\n",
       "      <td>0.45</td>\n",
       "      <td>6</td>\n",
       "      <td>nodrop, sklearn_kfold, usNdf</td>\n",
       "    </tr>\n",
       "    <tr>\n",
       "      <th>10</th>\n",
       "      <td>0.9</td>\n",
       "      <td>0.10</td>\n",
       "      <td>0.45</td>\n",
       "      <td>6</td>\n",
       "      <td>nodrop, sklearn_kfold, foreign</td>\n",
       "    </tr>\n",
       "    <tr>\n",
       "      <th>11</th>\n",
       "      <td>0.9</td>\n",
       "      <td>0.10</td>\n",
       "      <td>0.60</td>\n",
       "      <td>6</td>\n",
       "      <td>nodrop, sklearn_kfold, foreign</td>\n",
       "    </tr>\n",
       "  </tbody>\n",
       "</table>\n",
       "</div>"
      ],
      "text/plain": [
       "    subsample   eta  colsample_bytree  max_depth  \\\n",
       "0         0.7  0.16              0.30          6   \n",
       "1         0.7  0.16              0.60          6   \n",
       "2         0.7  0.16              0.60          6   \n",
       "3         0.7  0.16              0.60          6   \n",
       "4         0.9  0.13              0.45          6   \n",
       "5         0.9  0.13              0.60          6   \n",
       "6         0.9  0.13              0.45          6   \n",
       "7         0.9  0.13              0.45          6   \n",
       "8         0.9  0.13              0.45          6   \n",
       "9         0.9  0.13              0.45          6   \n",
       "10        0.9  0.10              0.45          6   \n",
       "11        0.9  0.10              0.60          6   \n",
       "\n",
       "                           details  \n",
       "0                         actions2  \n",
       "1                         actions2  \n",
       "2                  actions3_nodrop  \n",
       "3         actions3_dropped_p4total  \n",
       "4                  actions3_nodrop  \n",
       "5                  actions3_nodrop  \n",
       "6        actions3_nodrop, ndcg_all  \n",
       "7   actions3_nodrop, sklearn_kfold  \n",
       "8   nodrop, sklearn_kfold, foreign  \n",
       "9     nodrop, sklearn_kfold, usNdf  \n",
       "10  nodrop, sklearn_kfold, foreign  \n",
       "11  nodrop, sklearn_kfold, foreign  "
      ]
     },
     "execution_count": 108,
     "metadata": {},
     "output_type": "execute_result"
    }
   ],
   "source": [
    "param"
   ]
  },
  {
   "cell_type": "code",
   "execution_count": 109,
   "metadata": {
    "collapsed": false
   },
   "outputs": [
    {
     "data": {
      "text/html": [
       "<div>\n",
       "<table border=\"1\" class=\"dataframe\">\n",
       "  <thead>\n",
       "    <tr style=\"text-align: right;\">\n",
       "      <th></th>\n",
       "      <th>valid_mean8</th>\n",
       "      <th>valid_mean9</th>\n",
       "      <th>valid_mean10</th>\n",
       "      <th>valid_mean11</th>\n",
       "    </tr>\n",
       "  </thead>\n",
       "  <tbody>\n",
       "    <tr>\n",
       "      <th>90</th>\n",
       "      <td>0.144073</td>\n",
       "      <td>0.073770</td>\n",
       "      <td>0.143850</td>\n",
       "      <td>0.143830</td>\n",
       "    </tr>\n",
       "    <tr>\n",
       "      <th>91</th>\n",
       "      <td>0.144182</td>\n",
       "      <td>0.073788</td>\n",
       "      <td>0.143837</td>\n",
       "      <td>0.143835</td>\n",
       "    </tr>\n",
       "    <tr>\n",
       "      <th>92</th>\n",
       "      <td>0.144153</td>\n",
       "      <td>0.073767</td>\n",
       "      <td>0.143825</td>\n",
       "      <td>0.143872</td>\n",
       "    </tr>\n",
       "    <tr>\n",
       "      <th>93</th>\n",
       "      <td>0.144147</td>\n",
       "      <td>0.073838</td>\n",
       "      <td>0.143802</td>\n",
       "      <td>0.143867</td>\n",
       "    </tr>\n",
       "    <tr>\n",
       "      <th>94</th>\n",
       "      <td>0.144048</td>\n",
       "      <td>0.073812</td>\n",
       "      <td>0.143768</td>\n",
       "      <td>0.143880</td>\n",
       "    </tr>\n",
       "    <tr>\n",
       "      <th>95</th>\n",
       "      <td>0.144070</td>\n",
       "      <td>0.073722</td>\n",
       "      <td>0.143757</td>\n",
       "      <td>0.143933</td>\n",
       "    </tr>\n",
       "    <tr>\n",
       "      <th>96</th>\n",
       "      <td>0.144117</td>\n",
       "      <td>0.073632</td>\n",
       "      <td>0.143790</td>\n",
       "      <td>0.143855</td>\n",
       "    </tr>\n",
       "    <tr>\n",
       "      <th>97</th>\n",
       "      <td>0.144190</td>\n",
       "      <td>0.073672</td>\n",
       "      <td>0.143850</td>\n",
       "      <td>0.143883</td>\n",
       "    </tr>\n",
       "    <tr>\n",
       "      <th>98</th>\n",
       "      <td>0.144085</td>\n",
       "      <td>0.073688</td>\n",
       "      <td>0.143858</td>\n",
       "      <td>0.143808</td>\n",
       "    </tr>\n",
       "    <tr>\n",
       "      <th>99</th>\n",
       "      <td>0.144092</td>\n",
       "      <td>0.073707</td>\n",
       "      <td>0.143827</td>\n",
       "      <td>0.143792</td>\n",
       "    </tr>\n",
       "    <tr>\n",
       "      <th>100</th>\n",
       "      <td>0.144105</td>\n",
       "      <td>0.073710</td>\n",
       "      <td>0.143875</td>\n",
       "      <td>0.143843</td>\n",
       "    </tr>\n",
       "    <tr>\n",
       "      <th>101</th>\n",
       "      <td>0.144240</td>\n",
       "      <td>0.073700</td>\n",
       "      <td>0.143840</td>\n",
       "      <td>0.143838</td>\n",
       "    </tr>\n",
       "    <tr>\n",
       "      <th>102</th>\n",
       "      <td>0.144260</td>\n",
       "      <td>0.073670</td>\n",
       "      <td>0.143853</td>\n",
       "      <td>0.143893</td>\n",
       "    </tr>\n",
       "    <tr>\n",
       "      <th>103</th>\n",
       "      <td>0.144158</td>\n",
       "      <td>0.073658</td>\n",
       "      <td>0.143890</td>\n",
       "      <td>0.143862</td>\n",
       "    </tr>\n",
       "    <tr>\n",
       "      <th>104</th>\n",
       "      <td>0.144040</td>\n",
       "      <td>0.073607</td>\n",
       "      <td>0.143823</td>\n",
       "      <td>0.143823</td>\n",
       "    </tr>\n",
       "    <tr>\n",
       "      <th>105</th>\n",
       "      <td>0.144095</td>\n",
       "      <td>0.073625</td>\n",
       "      <td>0.143842</td>\n",
       "      <td>0.143843</td>\n",
       "    </tr>\n",
       "    <tr>\n",
       "      <th>106</th>\n",
       "      <td>0.144167</td>\n",
       "      <td>0.073637</td>\n",
       "      <td>0.143867</td>\n",
       "      <td>0.143855</td>\n",
       "    </tr>\n",
       "    <tr>\n",
       "      <th>107</th>\n",
       "      <td>0.144208</td>\n",
       "      <td>0.073597</td>\n",
       "      <td>0.143838</td>\n",
       "      <td>0.143868</td>\n",
       "    </tr>\n",
       "    <tr>\n",
       "      <th>108</th>\n",
       "      <td>0.144193</td>\n",
       "      <td>0.073622</td>\n",
       "      <td>0.143828</td>\n",
       "      <td>0.143890</td>\n",
       "    </tr>\n",
       "    <tr>\n",
       "      <th>109</th>\n",
       "      <td>0.144243</td>\n",
       "      <td>0.073635</td>\n",
       "      <td>0.143810</td>\n",
       "      <td>0.143910</td>\n",
       "    </tr>\n",
       "    <tr>\n",
       "      <th>110</th>\n",
       "      <td>0.144160</td>\n",
       "      <td>0.073620</td>\n",
       "      <td>0.143853</td>\n",
       "      <td>0.143888</td>\n",
       "    </tr>\n",
       "    <tr>\n",
       "      <th>111</th>\n",
       "      <td>0.144118</td>\n",
       "      <td>0.073570</td>\n",
       "      <td>0.143875</td>\n",
       "      <td>0.143915</td>\n",
       "    </tr>\n",
       "    <tr>\n",
       "      <th>112</th>\n",
       "      <td>0.144123</td>\n",
       "      <td>0.073625</td>\n",
       "      <td>0.143845</td>\n",
       "      <td>0.143888</td>\n",
       "    </tr>\n",
       "    <tr>\n",
       "      <th>113</th>\n",
       "      <td>0.144038</td>\n",
       "      <td>0.073647</td>\n",
       "      <td>0.143803</td>\n",
       "      <td>0.143948</td>\n",
       "    </tr>\n",
       "    <tr>\n",
       "      <th>114</th>\n",
       "      <td>0.144123</td>\n",
       "      <td>0.073677</td>\n",
       "      <td>0.143772</td>\n",
       "      <td>0.143893</td>\n",
       "    </tr>\n",
       "    <tr>\n",
       "      <th>115</th>\n",
       "      <td>0.144118</td>\n",
       "      <td>0.073670</td>\n",
       "      <td>0.143767</td>\n",
       "      <td>0.143813</td>\n",
       "    </tr>\n",
       "    <tr>\n",
       "      <th>116</th>\n",
       "      <td>0.144145</td>\n",
       "      <td>0.073675</td>\n",
       "      <td>0.143720</td>\n",
       "      <td>0.143898</td>\n",
       "    </tr>\n",
       "    <tr>\n",
       "      <th>117</th>\n",
       "      <td>0.144182</td>\n",
       "      <td>0.073742</td>\n",
       "      <td>0.143690</td>\n",
       "      <td>0.143937</td>\n",
       "    </tr>\n",
       "    <tr>\n",
       "      <th>118</th>\n",
       "      <td>0.144137</td>\n",
       "      <td>0.073768</td>\n",
       "      <td>0.143698</td>\n",
       "      <td>0.143980</td>\n",
       "    </tr>\n",
       "    <tr>\n",
       "      <th>119</th>\n",
       "      <td>0.144143</td>\n",
       "      <td>0.073775</td>\n",
       "      <td>0.143770</td>\n",
       "      <td>0.143918</td>\n",
       "    </tr>\n",
       "    <tr>\n",
       "      <th>120</th>\n",
       "      <td>NaN</td>\n",
       "      <td>NaN</td>\n",
       "      <td>0.143723</td>\n",
       "      <td>0.143953</td>\n",
       "    </tr>\n",
       "    <tr>\n",
       "      <th>121</th>\n",
       "      <td>NaN</td>\n",
       "      <td>NaN</td>\n",
       "      <td>0.143823</td>\n",
       "      <td>0.143973</td>\n",
       "    </tr>\n",
       "    <tr>\n",
       "      <th>122</th>\n",
       "      <td>NaN</td>\n",
       "      <td>NaN</td>\n",
       "      <td>0.143798</td>\n",
       "      <td>0.143988</td>\n",
       "    </tr>\n",
       "    <tr>\n",
       "      <th>123</th>\n",
       "      <td>NaN</td>\n",
       "      <td>NaN</td>\n",
       "      <td>0.143817</td>\n",
       "      <td>0.143965</td>\n",
       "    </tr>\n",
       "    <tr>\n",
       "      <th>124</th>\n",
       "      <td>NaN</td>\n",
       "      <td>NaN</td>\n",
       "      <td>0.143762</td>\n",
       "      <td>0.143933</td>\n",
       "    </tr>\n",
       "    <tr>\n",
       "      <th>125</th>\n",
       "      <td>NaN</td>\n",
       "      <td>NaN</td>\n",
       "      <td>0.143782</td>\n",
       "      <td>0.143938</td>\n",
       "    </tr>\n",
       "    <tr>\n",
       "      <th>126</th>\n",
       "      <td>NaN</td>\n",
       "      <td>NaN</td>\n",
       "      <td>0.143730</td>\n",
       "      <td>0.143920</td>\n",
       "    </tr>\n",
       "    <tr>\n",
       "      <th>127</th>\n",
       "      <td>NaN</td>\n",
       "      <td>NaN</td>\n",
       "      <td>0.143767</td>\n",
       "      <td>0.143898</td>\n",
       "    </tr>\n",
       "    <tr>\n",
       "      <th>128</th>\n",
       "      <td>NaN</td>\n",
       "      <td>NaN</td>\n",
       "      <td>0.143798</td>\n",
       "      <td>0.143837</td>\n",
       "    </tr>\n",
       "    <tr>\n",
       "      <th>129</th>\n",
       "      <td>NaN</td>\n",
       "      <td>NaN</td>\n",
       "      <td>0.143755</td>\n",
       "      <td>0.143878</td>\n",
       "    </tr>\n",
       "    <tr>\n",
       "      <th>130</th>\n",
       "      <td>NaN</td>\n",
       "      <td>NaN</td>\n",
       "      <td>0.143798</td>\n",
       "      <td>0.143903</td>\n",
       "    </tr>\n",
       "    <tr>\n",
       "      <th>131</th>\n",
       "      <td>NaN</td>\n",
       "      <td>NaN</td>\n",
       "      <td>0.143785</td>\n",
       "      <td>0.143935</td>\n",
       "    </tr>\n",
       "    <tr>\n",
       "      <th>132</th>\n",
       "      <td>NaN</td>\n",
       "      <td>NaN</td>\n",
       "      <td>0.143775</td>\n",
       "      <td>0.143893</td>\n",
       "    </tr>\n",
       "    <tr>\n",
       "      <th>133</th>\n",
       "      <td>NaN</td>\n",
       "      <td>NaN</td>\n",
       "      <td>0.143765</td>\n",
       "      <td>0.143830</td>\n",
       "    </tr>\n",
       "    <tr>\n",
       "      <th>134</th>\n",
       "      <td>NaN</td>\n",
       "      <td>NaN</td>\n",
       "      <td>0.143693</td>\n",
       "      <td>0.143817</td>\n",
       "    </tr>\n",
       "    <tr>\n",
       "      <th>135</th>\n",
       "      <td>NaN</td>\n",
       "      <td>NaN</td>\n",
       "      <td>0.143723</td>\n",
       "      <td>0.143803</td>\n",
       "    </tr>\n",
       "    <tr>\n",
       "      <th>136</th>\n",
       "      <td>NaN</td>\n",
       "      <td>NaN</td>\n",
       "      <td>0.143715</td>\n",
       "      <td>0.143837</td>\n",
       "    </tr>\n",
       "    <tr>\n",
       "      <th>137</th>\n",
       "      <td>NaN</td>\n",
       "      <td>NaN</td>\n",
       "      <td>0.143708</td>\n",
       "      <td>0.143875</td>\n",
       "    </tr>\n",
       "    <tr>\n",
       "      <th>138</th>\n",
       "      <td>NaN</td>\n",
       "      <td>NaN</td>\n",
       "      <td>0.143635</td>\n",
       "      <td>0.143935</td>\n",
       "    </tr>\n",
       "    <tr>\n",
       "      <th>139</th>\n",
       "      <td>NaN</td>\n",
       "      <td>NaN</td>\n",
       "      <td>0.143682</td>\n",
       "      <td>0.143952</td>\n",
       "    </tr>\n",
       "    <tr>\n",
       "      <th>140</th>\n",
       "      <td>NaN</td>\n",
       "      <td>NaN</td>\n",
       "      <td>0.143683</td>\n",
       "      <td>0.143960</td>\n",
       "    </tr>\n",
       "    <tr>\n",
       "      <th>141</th>\n",
       "      <td>NaN</td>\n",
       "      <td>NaN</td>\n",
       "      <td>0.143718</td>\n",
       "      <td>0.143918</td>\n",
       "    </tr>\n",
       "    <tr>\n",
       "      <th>142</th>\n",
       "      <td>NaN</td>\n",
       "      <td>NaN</td>\n",
       "      <td>0.143750</td>\n",
       "      <td>0.143987</td>\n",
       "    </tr>\n",
       "    <tr>\n",
       "      <th>143</th>\n",
       "      <td>NaN</td>\n",
       "      <td>NaN</td>\n",
       "      <td>0.143775</td>\n",
       "      <td>0.144025</td>\n",
       "    </tr>\n",
       "    <tr>\n",
       "      <th>144</th>\n",
       "      <td>NaN</td>\n",
       "      <td>NaN</td>\n",
       "      <td>0.143680</td>\n",
       "      <td>0.143982</td>\n",
       "    </tr>\n",
       "    <tr>\n",
       "      <th>145</th>\n",
       "      <td>NaN</td>\n",
       "      <td>NaN</td>\n",
       "      <td>0.143700</td>\n",
       "      <td>0.144005</td>\n",
       "    </tr>\n",
       "    <tr>\n",
       "      <th>146</th>\n",
       "      <td>NaN</td>\n",
       "      <td>NaN</td>\n",
       "      <td>0.143727</td>\n",
       "      <td>0.144038</td>\n",
       "    </tr>\n",
       "    <tr>\n",
       "      <th>147</th>\n",
       "      <td>NaN</td>\n",
       "      <td>NaN</td>\n",
       "      <td>0.143733</td>\n",
       "      <td>0.143975</td>\n",
       "    </tr>\n",
       "    <tr>\n",
       "      <th>148</th>\n",
       "      <td>NaN</td>\n",
       "      <td>NaN</td>\n",
       "      <td>0.143693</td>\n",
       "      <td>0.143998</td>\n",
       "    </tr>\n",
       "    <tr>\n",
       "      <th>149</th>\n",
       "      <td>NaN</td>\n",
       "      <td>NaN</td>\n",
       "      <td>0.143703</td>\n",
       "      <td>0.144007</td>\n",
       "    </tr>\n",
       "  </tbody>\n",
       "</table>\n",
       "</div>"
      ],
      "text/plain": [
       "     valid_mean8  valid_mean9  valid_mean10  valid_mean11\n",
       "90      0.144073     0.073770      0.143850      0.143830\n",
       "91      0.144182     0.073788      0.143837      0.143835\n",
       "92      0.144153     0.073767      0.143825      0.143872\n",
       "93      0.144147     0.073838      0.143802      0.143867\n",
       "94      0.144048     0.073812      0.143768      0.143880\n",
       "95      0.144070     0.073722      0.143757      0.143933\n",
       "96      0.144117     0.073632      0.143790      0.143855\n",
       "97      0.144190     0.073672      0.143850      0.143883\n",
       "98      0.144085     0.073688      0.143858      0.143808\n",
       "99      0.144092     0.073707      0.143827      0.143792\n",
       "100     0.144105     0.073710      0.143875      0.143843\n",
       "101     0.144240     0.073700      0.143840      0.143838\n",
       "102     0.144260     0.073670      0.143853      0.143893\n",
       "103     0.144158     0.073658      0.143890      0.143862\n",
       "104     0.144040     0.073607      0.143823      0.143823\n",
       "105     0.144095     0.073625      0.143842      0.143843\n",
       "106     0.144167     0.073637      0.143867      0.143855\n",
       "107     0.144208     0.073597      0.143838      0.143868\n",
       "108     0.144193     0.073622      0.143828      0.143890\n",
       "109     0.144243     0.073635      0.143810      0.143910\n",
       "110     0.144160     0.073620      0.143853      0.143888\n",
       "111     0.144118     0.073570      0.143875      0.143915\n",
       "112     0.144123     0.073625      0.143845      0.143888\n",
       "113     0.144038     0.073647      0.143803      0.143948\n",
       "114     0.144123     0.073677      0.143772      0.143893\n",
       "115     0.144118     0.073670      0.143767      0.143813\n",
       "116     0.144145     0.073675      0.143720      0.143898\n",
       "117     0.144182     0.073742      0.143690      0.143937\n",
       "118     0.144137     0.073768      0.143698      0.143980\n",
       "119     0.144143     0.073775      0.143770      0.143918\n",
       "120          NaN          NaN      0.143723      0.143953\n",
       "121          NaN          NaN      0.143823      0.143973\n",
       "122          NaN          NaN      0.143798      0.143988\n",
       "123          NaN          NaN      0.143817      0.143965\n",
       "124          NaN          NaN      0.143762      0.143933\n",
       "125          NaN          NaN      0.143782      0.143938\n",
       "126          NaN          NaN      0.143730      0.143920\n",
       "127          NaN          NaN      0.143767      0.143898\n",
       "128          NaN          NaN      0.143798      0.143837\n",
       "129          NaN          NaN      0.143755      0.143878\n",
       "130          NaN          NaN      0.143798      0.143903\n",
       "131          NaN          NaN      0.143785      0.143935\n",
       "132          NaN          NaN      0.143775      0.143893\n",
       "133          NaN          NaN      0.143765      0.143830\n",
       "134          NaN          NaN      0.143693      0.143817\n",
       "135          NaN          NaN      0.143723      0.143803\n",
       "136          NaN          NaN      0.143715      0.143837\n",
       "137          NaN          NaN      0.143708      0.143875\n",
       "138          NaN          NaN      0.143635      0.143935\n",
       "139          NaN          NaN      0.143682      0.143952\n",
       "140          NaN          NaN      0.143683      0.143960\n",
       "141          NaN          NaN      0.143718      0.143918\n",
       "142          NaN          NaN      0.143750      0.143987\n",
       "143          NaN          NaN      0.143775      0.144025\n",
       "144          NaN          NaN      0.143680      0.143982\n",
       "145          NaN          NaN      0.143700      0.144005\n",
       "146          NaN          NaN      0.143727      0.144038\n",
       "147          NaN          NaN      0.143733      0.143975\n",
       "148          NaN          NaN      0.143693      0.143998\n",
       "149          NaN          NaN      0.143703      0.144007"
      ]
     },
     "execution_count": 109,
     "metadata": {},
     "output_type": "execute_result"
    }
   ],
   "source": [
    "e.loc[90:,e.columns.str.contains('valid.*mean')].iloc[:,-4:]"
   ]
  },
  {
   "cell_type": "code",
   "execution_count": 57,
   "metadata": {
    "collapsed": false
   },
   "outputs": [],
   "source": [
    "param.loc[11,'details'] ='nodrop, sklearn_kfold, foreign'"
   ]
  },
  {
   "cell_type": "code",
   "execution_count": 93,
   "metadata": {
    "collapsed": false,
    "scrolled": false
   },
   "outputs": [],
   "source": [
    "x_10 = e.loc[70:,e.columns.str.contains('valid.*mean')].iloc[:,-2]\n",
    "x_11 = e.loc[70:,e.columns.str.contains('valid.*mean')].iloc[:,-1]"
   ]
  },
  {
   "cell_type": "code",
   "execution_count": 94,
   "metadata": {
    "collapsed": false
   },
   "outputs": [
    {
     "data": {
      "text/plain": [
       "[<matplotlib.lines.Line2D at 0x7fe8a6c86d90>]"
      ]
     },
     "execution_count": 94,
     "metadata": {},
     "output_type": "execute_result"
    },
    {
     "data": {
      "image/png": "[encoded data removed]",
      "text/plain": [
       "<matplotlib.figure.Figure at 0x7fe8a6be0150>"
      ]
     },
     "metadata": {},
     "output_type": "display_data"
    }
   ],
   "source": [
    "plt.plot(np.arange(len(x_10)), x_10)"
   ]
  },
  {
   "cell_type": "code",
   "execution_count": 95,
   "metadata": {
    "collapsed": false
   },
   "outputs": [
    {
     "data": {
      "text/plain": [
       "[<matplotlib.lines.Line2D at 0x7fe8a6aa1c50>]"
      ]
     },
     "execution_count": 95,
     "metadata": {},
     "output_type": "execute_result"
    },
    {
     "data": {
      "image/png": "[encoded data removed]",
      "text/plain": [
       "<matplotlib.figure.Figure at 0x7fe8a6b05c90>"
      ]
     },
     "metadata": {},
     "output_type": "display_data"
    }
   ],
   "source": [
    "plt.plot(np.arange(len(x_11)), x_11)"
   ]
  },
  {
   "cell_type": "code",
   "execution_count": 22,
   "metadata": {
    "collapsed": false
   },
   "outputs": [
    {
     "data": {
      "text/plain": [
       "[<matplotlib.lines.Line2D at 0x7fe8b12b6290>]"
      ]
     },
     "execution_count": 22,
     "metadata": {},
     "output_type": "execute_result"
    },
    {
     "data": {
      "image/png": "[encoded data removed]",
      "text/plain": [
       "<matplotlib.figure.Figure at 0x7fe8a7842c90>"
      ]
     },
     "metadata": {},
     "output_type": "display_data"
    }
   ],
   "source": [
    "plt.plot(np.arange(len(x_for)), x_us)"
   ]
  },
  {
   "cell_type": "code",
   "execution_count": 13,
   "metadata": {
    "collapsed": false
   },
   "outputs": [
    {
     "data": {
      "text/plain": [
       "[<matplotlib.lines.Line2D at 0x7fe8a794ca50>]"
      ]
     },
     "execution_count": 13,
     "metadata": {},
     "output_type": "execute_result"
    },
    {
     "data": {
      "image/png": "[encoded data removed]",
      "text/plain": [
       "<matplotlib.figure.Figure at 0x7fe8b13cb690>"
      ]
     },
     "metadata": {},
     "output_type": "display_data"
    }
   ],
   "source": [
    "plt.plot(np.arange(len(x_for)), x_for)"
   ]
  },
  {
   "cell_type": "code",
   "execution_count": 18,
   "metadata": {
    "collapsed": false
   },
   "outputs": [
    {
     "data": {
      "text/plain": [
       "[<matplotlib.lines.Line2D at 0x7fe8a78f6dd0>]"
      ]
     },
     "execution_count": 18,
     "metadata": {},
     "output_type": "execute_result"
    },
    {
     "data": {
      "image/png": "[encoded data removed]",
      "text/plain": [
       "<matplotlib.figure.Figure at 0x7fe8a7862510>"
      ]
     },
     "metadata": {},
     "output_type": "display_data"
    }
   ],
   "source": [
    "plt.plot(np.arange(len(x_all)), x_all)"
   ]
  },
  {
   "cell_type": "code",
   "execution_count": 67,
   "metadata": {
    "collapsed": false
   },
   "outputs": [
    {
     "data": {
      "text/plain": [
       "[<matplotlib.lines.Line2D at 0x7f6f9f566e10>]"
      ]
     },
     "execution_count": 67,
     "metadata": {},
     "output_type": "execute_result"
    },
    {
     "data": {
      "image/png": "[encoded data removed]",
      "text/plain": [
       "<matplotlib.figure.Figure at 0x7f6f9f5f0f10>"
      ]
     },
     "metadata": {},
     "output_type": "display_data"
    }
   ],
   "source": [
    "plt.plot(np.arange(len(x1)), x1)"
   ]
  },
  {
   "cell_type": "code",
   "execution_count": 3,
   "metadata": {
    "collapsed": false
   },
   "outputs": [],
   "source": [
    "#train_100 = pd.read_csv('Airbnb_data/train_users_2.csv', nrows = 100, index_col='id')\n",
    "train_data = pd.read_csv('data/train_users_2.csv', index_col = 'id')\n",
    "test_data = pd.read_csv('data/test_users.csv', index_col = 'id')\n",
    "#sessions = pd.read_csv('../data/sessions.csv')\n",
    "#age = pd.read_csv('Airbnb_data/age_gender_bkts.csv')\n",
    "#countries = pd.read_csv('Airbnb_data/countries.csv')\n",
    "all_df = pd.read_pickle('data/all_df.p')"
   ]
  },
  {
   "cell_type": "code",
   "execution_count": 5,
   "metadata": {
    "collapsed": false
   },
   "outputs": [],
   "source": [
    "error = pd.read_pickle('scripts/cv_results.p')\n",
    "params = pd.read_pickle('scripts/cv_params.p')"
   ]
  },
  {
   "cell_type": "code",
   "execution_count": 6,
   "metadata": {
    "collapsed": false,
    "scrolled": true
   },
   "outputs": [],
   "source": [
    "res = pd.concat([error, params], axis = 1)"
   ]
  },
  {
   "cell_type": "code",
   "execution_count": 7,
   "metadata": {
    "collapsed": false
   },
   "outputs": [],
   "source": [
    "res.sort_values(by = 'test-error-mean', axis = 0);"
   ]
  },
  {
   "cell_type": "code",
   "execution_count": 6,
   "metadata": {
    "collapsed": false
   },
   "outputs": [
    {
     "ename": "NameError",
     "evalue": "name 'all_df' is not defined",
     "output_type": "error",
     "traceback": [
      "\u001b[1;31m---------------------------------------------------------------------------\u001b[0m",
      "\u001b[1;31mNameError\u001b[0m                                 Traceback (most recent call last)",
      "\u001b[1;32m<ipython-input-6-ec52a63c0fff>\u001b[0m in \u001b[0;36m<module>\u001b[1;34m()\u001b[0m\n\u001b[0;32m      2\u001b[0m     \u001b[0mbst\u001b[0m \u001b[1;33m=\u001b[0m \u001b[0mpickle\u001b[0m\u001b[1;33m.\u001b[0m\u001b[0mload\u001b[0m\u001b[1;33m(\u001b[0m\u001b[0mf\u001b[0m\u001b[1;33m)\u001b[0m\u001b[1;33m\u001b[0m\u001b[0m\n\u001b[0;32m      3\u001b[0m \u001b[0mfeatures\u001b[0m \u001b[1;33m=\u001b[0m \u001b[0msorted\u001b[0m\u001b[1;33m(\u001b[0m\u001b[0mbst\u001b[0m\u001b[1;33m.\u001b[0m\u001b[0mget_fscore\u001b[0m\u001b[1;33m(\u001b[0m\u001b[1;33m)\u001b[0m\u001b[1;33m.\u001b[0m\u001b[0mitems\u001b[0m\u001b[1;33m(\u001b[0m\u001b[1;33m)\u001b[0m\u001b[1;33m,\u001b[0m \u001b[0mkey\u001b[0m \u001b[1;33m=\u001b[0m \u001b[1;32mlambda\u001b[0m \u001b[0mx\u001b[0m\u001b[1;33m:\u001b[0m \u001b[0mx\u001b[0m\u001b[1;33m[\u001b[0m\u001b[1;36m1\u001b[0m\u001b[1;33m]\u001b[0m\u001b[1;33m,\u001b[0m \u001b[0mreverse\u001b[0m \u001b[1;33m=\u001b[0m \u001b[0mTrue\u001b[0m\u001b[1;33m)\u001b[0m\u001b[1;33m\u001b[0m\u001b[0m\n\u001b[1;32m----> 4\u001b[1;33m \u001b[1;33m[\u001b[0m\u001b[1;33m(\u001b[0m\u001b[0mfeat\u001b[0m\u001b[1;33m,\u001b[0m \u001b[0mall_df\u001b[0m\u001b[1;33m.\u001b[0m\u001b[0mcolumns\u001b[0m\u001b[1;33m[\u001b[0m\u001b[0mint\u001b[0m\u001b[1;33m(\u001b[0m\u001b[0mfeat\u001b[0m\u001b[1;33m[\u001b[0m\u001b[1;36m1\u001b[0m\u001b[1;33m:\u001b[0m\u001b[1;33m]\u001b[0m\u001b[1;33m)\u001b[0m\u001b[1;33m]\u001b[0m\u001b[1;33m,\u001b[0m \u001b[0mscore\u001b[0m\u001b[1;33m)\u001b[0m \u001b[1;32mfor\u001b[0m \u001b[0mfeat\u001b[0m\u001b[1;33m,\u001b[0m \u001b[0mscore\u001b[0m \u001b[1;32min\u001b[0m \u001b[0mfeatures\u001b[0m\u001b[1;33m]\u001b[0m\u001b[1;33m\u001b[0m\u001b[0m\n\u001b[0m",
      "\u001b[1;31mNameError\u001b[0m: name 'all_df' is not defined"
     ]
    }
   ],
   "source": [
    "with open('xgbmodels/sessions_e20_25n.p', 'rb') as f:\n",
    "    bst = pickle.load(f)\n",
    "features = sorted(bst.get_fscore().items(), key = lambda x: x[1], reverse = True)\n",
    "[(feat, all_df.columns[int(feat[1:])], score) for feat, score in features]"
   ]
  },
  {
   "cell_type": "code",
   "execution_count": null,
   "metadata": {
    "collapsed": false,
    "scrolled": false
   },
   "outputs": [],
   "source": [
    "xgb.to_graphviz(bst, num_trees=11)"
   ]
  },
  {
   "cell_type": "code",
   "execution_count": null,
   "metadata": {
    "collapsed": false,
    "scrolled": true
   },
   "outputs": [],
   "source": [
    "submission = pd.DataFrame(np.column_stack([idx, cntr]), columns = ['id', 'country'])\n",
    "submission.to_csv('submissions/datebin_model.csv', index=False)"
   ]
  }
 ],
 "metadata": {
  "kernelspec": {
   "display_name": "Python 2",
   "language": "python",
   "name": "python2"
  },
  "language_info": {
   "codemirror_mode": {
    "name": "ipython",
    "version": 2
   },
   "file_extension": ".py",
   "mimetype": "text/x-python",
   "name": "python",
   "nbconvert_exporter": "python",
   "pygments_lexer": "ipython2",
   "version": "2.7.11"
  }
 },
 "nbformat": 4,
 "nbformat_minor": 0
}
