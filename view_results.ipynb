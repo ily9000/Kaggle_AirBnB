{
 "cells": [
  {
   "cell_type": "code",
   "execution_count": 4,
   "metadata": {
    "collapsed": false
   },
   "outputs": [],
   "source": [
    "#%matplotlib inline\n",
    "import numpy as np\n",
    "import pandas as pd\n",
    "import scipy.sparse\n",
    "from sklearn import preprocessing\n",
    "from sklearn.grid_search import ParameterGrid\n",
    "import xgboost as xgb\n",
    "import pickle\n",
    "#import graphviz\n",
    "import matplotlib.pyplot as plt\n",
    "%matplotlib inline"
   ]
  },
  {
   "cell_type": "markdown",
   "metadata": {},
   "source": [
    "Read in just the testing and training data."
   ]
  },
  {
   "cell_type": "code",
   "execution_count": 4,
   "metadata": {
    "collapsed": false
   },
   "outputs": [],
   "source": [
    "error = pd.read_pickle('scripts/cv_results/actions_e20/search3/res1.p')\n",
    "error2 = pd.read_pickle('scripts/cv_results/actions_e20/search3/res2.p')\n",
    "error3 = pd.read_pickle('scripts/cv_results/actions_e20/search3/res3.p')\n",
    "param = pd.read_pickle('scripts/cv_results/actions_e20/params_search3.p')\n",
    "#error['mean'] = error.apply(np.mean, axis = 1)\n",
    "# error = error.astype(np.float64)\n",
    "# error['mean'] = error.mean(1)\n",
    "# error['std'] = error.std(1)"
   ]
  },
  {
   "cell_type": "code",
   "execution_count": 12,
   "metadata": {
    "collapsed": true
   },
   "outputs": [],
   "source": [
    "e = pd.read_pickle('scripts/cv_results/actions_e20/errors_search3.p')"
   ]
  },
  {
   "cell_type": "code",
   "execution_count": 73,
   "metadata": {
    "collapsed": false,
    "scrolled": true
   },
   "outputs": [
    {
     "data": {
      "text/plain": [
       "array([[ 0.93256448,  0.62660586,  0.74023929,  0.77185785,  0.8494271 ,\n",
       "         0.25523737,  0.70191142,  0.92506626,  0.05066993,  0.13680322,\n",
       "         0.33484532,  0.79135205],\n",
       "       [ 0.73633954,  0.16127526,  0.29845055,  0.38180343,  0.00160176,\n",
       "         0.74566444,  0.29698703,  0.63758913,  0.09085475,  0.19466672,\n",
       "         0.81161352,  0.48289619],\n",
       "       [ 0.37229718,  0.7960031 ,  0.7785618 ,  0.16127571,  0.68537243,\n",
       "         0.25210643,  0.36793332,  0.5164617 ,  0.83848124,  0.92516093,\n",
       "         0.73563729,  0.62202602],\n",
       "       [ 0.57595445,  0.76819302,  0.97809294,  0.86944491,  0.18356635,\n",
       "         0.17604503,  0.98292014,  0.3398307 ,  0.2085289 ,  0.60122573,\n",
       "         0.37420214,  0.44382043],\n",
       "       [ 0.31071988,  0.07375503,  0.48942148,  0.64711025,  0.30565487,\n",
       "         0.72061194,  0.54664345,  0.64695656,  0.45589011,  0.41181492,\n",
       "         0.18243736,  0.24911338],\n",
       "       [ 0.39246987,  0.45375168,  0.10360674,  0.08689044,  0.1223181 ,\n",
       "         0.82367548,  0.88403689,  0.32400984,  0.55482278,  0.05127112,\n",
       "         0.41873708,  0.75341287],\n",
       "       [ 0.79583174,  0.49732754,  0.92533272,  0.31248984,  0.40336403,\n",
       "         0.10053394,  0.43775947,  0.44351111,  0.70938603,  0.53440342,\n",
       "         0.1980865 ,  0.87634826],\n",
       "       [ 0.85222886,  0.01214219,  0.27476551,  0.78091618,  0.93650749,\n",
       "         0.964908  ,  0.37049781,  0.88575128,  0.70673879,  0.59199148,\n",
       "         0.75928197,  0.76640136],\n",
       "       [ 0.67427187,  0.561216  ,  0.59183561,  0.06950201,  0.42490988,\n",
       "         0.18738085,  0.29678599,  0.52470585,  0.84327547,  0.76542668,\n",
       "         0.28832004,  0.69699522],\n",
       "       [ 0.63075285,  0.18016933,  0.21253014,  0.54269787,  0.96818288,\n",
       "         0.9765568 ,  0.0216533 ,  0.39526686,  0.24481521,  0.70930593,\n",
       "         0.17634755,  0.72395437]])"
      ]
     },
     "execution_count": 73,
     "metadata": {},
     "output_type": "execute_result"
    }
   ],
   "source": [
    "a = np.random.rand(10,12)\n",
    "a"
   ]
  },
  {
   "cell_type": "code",
   "execution_count": 150,
   "metadata": {
    "collapsed": false
   },
   "outputs": [],
   "source": [
    "pred = a.argsort(axis = 1)[:,::-1][:,0:5]"
   ]
  },
  {
   "cell_type": "code",
   "execution_count": 147,
   "metadata": {
    "collapsed": false
   },
   "outputs": [
    {
     "data": {
      "text/plain": [
       "array([[ 0,  7,  4, 11,  3,  2,  6,  1, 10,  5,  9,  8],\n",
       "       [10,  5,  0,  7, 11,  3,  2,  6,  9,  1,  8,  4],\n",
       "       [ 9,  8,  1,  2, 10,  4, 11,  7,  0,  6,  5,  3],\n",
       "       [ 6,  2,  3,  1,  9,  0, 11, 10,  7,  8,  4,  5],\n",
       "       [ 5,  3,  7,  6,  2,  8,  9,  0,  4, 11, 10,  1],\n",
       "       [ 6,  5, 11,  8,  1, 10,  0,  7,  4,  2,  3,  9],\n",
       "       [ 2, 11,  0,  8,  9,  1,  7,  6,  4,  3, 10,  5],\n",
       "       [ 5,  4,  7,  0,  3, 11, 10,  8,  9,  6,  2,  1],\n",
       "       [ 8,  9, 11,  0,  2,  1,  7,  4,  6, 10,  5,  3],\n",
       "       [ 5,  4, 11,  9,  0,  3,  7,  8,  2,  1, 10,  6]])"
      ]
     },
     "execution_count": 147,
     "metadata": {},
     "output_type": "execute_result"
    }
   ],
   "source": [
    "a.argsort(axis = 1)[:,::-1]"
   ]
  },
  {
   "cell_type": "code",
   "execution_count": 152,
   "metadata": {
    "collapsed": false
   },
   "outputs": [],
   "source": [
    "sub = pd.read_csv('submissions/actions2_e16_53n.csv')"
   ]
  },
  {
   "cell_type": "code",
   "execution_count": 162,
   "metadata": {
    "collapsed": false
   },
   "outputs": [
    {
     "data": {
      "text/plain": [
       "IT       26954\n",
       "FR       14845\n",
       "GB        9558\n",
       "ES        7756\n",
       "CA        1988\n",
       "DE         336\n",
       "NL         301\n",
       "other      169\n",
       "AU         115\n",
       "PT          47\n",
       "NDF         24\n",
       "US           3\n",
       "dtype: int64"
      ]
     },
     "execution_count": 162,
     "metadata": {},
     "output_type": "execute_result"
    }
   ],
   "source": [
    "sub[4::5].country.value_counts()"
   ]
  },
  {
   "cell_type": "code",
   "execution_count": 138,
   "metadata": {
    "collapsed": true
   },
   "outputs": [],
   "source": [
    "label = np.array([ 7,  7, 10, 7,  10,  7 ,8])"
   ]
  },
  {
   "cell_type": "code",
   "execution_count": 164,
   "metadata": {
    "collapsed": false
   },
   "outputs": [],
   "source": [
    "pred = pred[:,1]"
   ]
  },
  {
   "cell_type": "code",
   "execution_count": 165,
   "metadata": {
    "collapsed": false,
    "scrolled": true
   },
   "outputs": [
    {
     "data": {
      "text/plain": [
       "array([ 7,  5,  8,  2,  3,  5, 11,  4,  9,  4])"
      ]
     },
     "execution_count": 165,
     "metadata": {},
     "output_type": "execute_result"
    }
   ],
   "source": [
    "pred"
   ]
  },
  {
   "cell_type": "code",
   "execution_count": 173,
   "metadata": {
    "collapsed": false
   },
   "outputs": [
    {
     "data": {
      "text/plain": [
       "array([ True,  True, False,  True, False,  True,  True], dtype=bool)"
      ]
     },
     "execution_count": 173,
     "metadata": {},
     "output_type": "execute_result"
    }
   ],
   "source": [
    "np.logical_or(label == 7, label == 8)"
   ]
  },
  {
   "cell_type": "code",
   "execution_count": 108,
   "metadata": {
    "collapsed": false
   },
   "outputs": [],
   "source": [
    "idx = np.where(label == 10)[0]"
   ]
  },
  {
   "cell_type": "code",
   "execution_count": 109,
   "metadata": {
    "collapsed": false
   },
   "outputs": [
    {
     "data": {
      "text/plain": [
       "array([10,  5])"
      ]
     },
     "execution_count": 109,
     "metadata": {},
     "output_type": "execute_result"
    }
   ],
   "source": [
    "b[idx]"
   ]
  },
  {
   "cell_type": "code",
   "execution_count": 110,
   "metadata": {
    "collapsed": false
   },
   "outputs": [
    {
     "data": {
      "text/plain": [
       "array([2, 4])"
      ]
     },
     "execution_count": 110,
     "metadata": {},
     "output_type": "execute_result"
    }
   ],
   "source": [
    "idx"
   ]
  },
  {
   "cell_type": "code",
   "execution_count": 111,
   "metadata": {
    "collapsed": false
   },
   "outputs": [
    {
     "data": {
      "text/plain": [
       "2"
      ]
     },
     "execution_count": 111,
     "metadata": {},
     "output_type": "execute_result"
    }
   ],
   "source": [
    "len(idx)"
   ]
  },
  {
   "cell_type": "code",
   "execution_count": 121,
   "metadata": {
    "collapsed": false,
    "scrolled": false
   },
   "outputs": [
    {
     "data": {
      "text/plain": [
       "0.5"
      ]
     },
     "execution_count": 121,
     "metadata": {},
     "output_type": "execute_result"
    }
   ],
   "source": [
    "np.sum(np.equal(b[idx], 10)) / len(idx)"
   ]
  },
  {
   "cell_type": "code",
   "execution_count": 116,
   "metadata": {
    "collapsed": false
   },
   "outputs": [
    {
     "data": {
      "text/plain": [
       "1"
      ]
     },
     "execution_count": 116,
     "metadata": {},
     "output_type": "execute_result"
    }
   ],
   "source": [
    "np.sum(np.equal(b[idx], 10))"
   ]
  },
  {
   "cell_type": "code",
   "execution_count": 75,
   "metadata": {
    "collapsed": false
   },
   "outputs": [],
   "source": [
    "b = a.argsort(axis = 1)[:,::-1][:,0]"
   ]
  },
  {
   "cell_type": "code",
   "execution_count": 22,
   "metadata": {
    "collapsed": false
   },
   "outputs": [],
   "source": [
    "error['mean'] = error.astype(np.float).mean(axis = 1)"
   ]
  },
  {
   "cell_type": "code",
   "execution_count": 3,
   "metadata": {
    "collapsed": false
   },
   "outputs": [
    {
     "data": {
      "text/plain": [
       "(array([0, 3]),)"
      ]
     },
     "execution_count": 3,
     "metadata": {},
     "output_type": "execute_result"
    }
   ],
   "source": [
    "label = np.array([1, 2, 3, 1])\n",
    "np.where(label == 1)"
   ]
  },
  {
   "cell_type": "code",
   "execution_count": 26,
   "metadata": {
    "collapsed": false
   },
   "outputs": [
    {
     "data": {
      "text/html": [
       "<div>\n",
       "<table border=\"1\" class=\"dataframe\">\n",
       "  <thead>\n",
       "    <tr style=\"text-align: right;\">\n",
       "      <th></th>\n",
       "      <th>valid-error-mean0</th>\n",
       "      <th>valid-error-mean1</th>\n",
       "      <th>valid-error-mean2</th>\n",
       "      <th>valid-error-mean3</th>\n",
       "    </tr>\n",
       "  </thead>\n",
       "  <tbody>\n",
       "    <tr>\n",
       "      <th>50</th>\n",
       "      <td>0.141415</td>\n",
       "      <td>0.140400</td>\n",
       "      <td>0.140647</td>\n",
       "      <td>0.140375</td>\n",
       "    </tr>\n",
       "    <tr>\n",
       "      <th>51</th>\n",
       "      <td>0.141493</td>\n",
       "      <td>0.140308</td>\n",
       "      <td>0.140737</td>\n",
       "      <td>0.140373</td>\n",
       "    </tr>\n",
       "    <tr>\n",
       "      <th>52</th>\n",
       "      <td>0.141318</td>\n",
       "      <td>0.140390</td>\n",
       "      <td>0.140692</td>\n",
       "      <td>0.140368</td>\n",
       "    </tr>\n",
       "    <tr>\n",
       "      <th>53</th>\n",
       "      <td>0.141280</td>\n",
       "      <td>0.140350</td>\n",
       "      <td>0.140703</td>\n",
       "      <td>0.140422</td>\n",
       "    </tr>\n",
       "    <tr>\n",
       "      <th>54</th>\n",
       "      <td>0.141170</td>\n",
       "      <td>0.140312</td>\n",
       "      <td>0.140748</td>\n",
       "      <td>0.140342</td>\n",
       "    </tr>\n",
       "    <tr>\n",
       "      <th>55</th>\n",
       "      <td>0.140960</td>\n",
       "      <td>0.140433</td>\n",
       "      <td>0.140738</td>\n",
       "      <td>0.140282</td>\n",
       "    </tr>\n",
       "    <tr>\n",
       "      <th>56</th>\n",
       "      <td>0.140995</td>\n",
       "      <td>0.140422</td>\n",
       "      <td>0.140677</td>\n",
       "      <td>0.140335</td>\n",
       "    </tr>\n",
       "    <tr>\n",
       "      <th>57</th>\n",
       "      <td>0.141025</td>\n",
       "      <td>0.140513</td>\n",
       "      <td>0.140637</td>\n",
       "      <td>0.140393</td>\n",
       "    </tr>\n",
       "    <tr>\n",
       "      <th>58</th>\n",
       "      <td>0.141018</td>\n",
       "      <td>0.140500</td>\n",
       "      <td>0.140587</td>\n",
       "      <td>0.140315</td>\n",
       "    </tr>\n",
       "    <tr>\n",
       "      <th>59</th>\n",
       "      <td>0.141055</td>\n",
       "      <td>0.140495</td>\n",
       "      <td>0.140718</td>\n",
       "      <td>0.140420</td>\n",
       "    </tr>\n",
       "    <tr>\n",
       "      <th>60</th>\n",
       "      <td>0.140968</td>\n",
       "      <td>0.140602</td>\n",
       "      <td>0.140647</td>\n",
       "      <td>NaN</td>\n",
       "    </tr>\n",
       "    <tr>\n",
       "      <th>61</th>\n",
       "      <td>0.141112</td>\n",
       "      <td>0.140652</td>\n",
       "      <td>0.140678</td>\n",
       "      <td>NaN</td>\n",
       "    </tr>\n",
       "    <tr>\n",
       "      <th>62</th>\n",
       "      <td>0.141093</td>\n",
       "      <td>0.140523</td>\n",
       "      <td>0.140820</td>\n",
       "      <td>NaN</td>\n",
       "    </tr>\n",
       "    <tr>\n",
       "      <th>63</th>\n",
       "      <td>0.141070</td>\n",
       "      <td>0.140440</td>\n",
       "      <td>0.140765</td>\n",
       "      <td>NaN</td>\n",
       "    </tr>\n",
       "    <tr>\n",
       "      <th>64</th>\n",
       "      <td>0.141133</td>\n",
       "      <td>0.140373</td>\n",
       "      <td>0.140767</td>\n",
       "      <td>NaN</td>\n",
       "    </tr>\n",
       "    <tr>\n",
       "      <th>65</th>\n",
       "      <td>0.141085</td>\n",
       "      <td>0.140318</td>\n",
       "      <td>0.140748</td>\n",
       "      <td>NaN</td>\n",
       "    </tr>\n",
       "    <tr>\n",
       "      <th>66</th>\n",
       "      <td>0.141090</td>\n",
       "      <td>0.140460</td>\n",
       "      <td>0.140822</td>\n",
       "      <td>NaN</td>\n",
       "    </tr>\n",
       "    <tr>\n",
       "      <th>67</th>\n",
       "      <td>0.141017</td>\n",
       "      <td>0.140440</td>\n",
       "      <td>0.140747</td>\n",
       "      <td>NaN</td>\n",
       "    </tr>\n",
       "    <tr>\n",
       "      <th>68</th>\n",
       "      <td>0.140917</td>\n",
       "      <td>0.140383</td>\n",
       "      <td>0.140750</td>\n",
       "      <td>NaN</td>\n",
       "    </tr>\n",
       "    <tr>\n",
       "      <th>69</th>\n",
       "      <td>0.140868</td>\n",
       "      <td>0.140478</td>\n",
       "      <td>0.140857</td>\n",
       "      <td>NaN</td>\n",
       "    </tr>\n",
       "    <tr>\n",
       "      <th>70</th>\n",
       "      <td>0.140897</td>\n",
       "      <td>0.140508</td>\n",
       "      <td>0.140873</td>\n",
       "      <td>NaN</td>\n",
       "    </tr>\n",
       "    <tr>\n",
       "      <th>71</th>\n",
       "      <td>0.140855</td>\n",
       "      <td>0.140518</td>\n",
       "      <td>0.140902</td>\n",
       "      <td>NaN</td>\n",
       "    </tr>\n",
       "    <tr>\n",
       "      <th>72</th>\n",
       "      <td>0.140742</td>\n",
       "      <td>0.140367</td>\n",
       "      <td>0.140937</td>\n",
       "      <td>NaN</td>\n",
       "    </tr>\n",
       "    <tr>\n",
       "      <th>73</th>\n",
       "      <td>0.140707</td>\n",
       "      <td>0.140413</td>\n",
       "      <td>0.140943</td>\n",
       "      <td>NaN</td>\n",
       "    </tr>\n",
       "    <tr>\n",
       "      <th>74</th>\n",
       "      <td>0.140702</td>\n",
       "      <td>0.140427</td>\n",
       "      <td>0.140872</td>\n",
       "      <td>NaN</td>\n",
       "    </tr>\n",
       "    <tr>\n",
       "      <th>75</th>\n",
       "      <td>0.140652</td>\n",
       "      <td>0.140477</td>\n",
       "      <td>0.140885</td>\n",
       "      <td>NaN</td>\n",
       "    </tr>\n",
       "    <tr>\n",
       "      <th>76</th>\n",
       "      <td>0.140652</td>\n",
       "      <td>0.140472</td>\n",
       "      <td>0.141020</td>\n",
       "      <td>NaN</td>\n",
       "    </tr>\n",
       "    <tr>\n",
       "      <th>77</th>\n",
       "      <td>0.140698</td>\n",
       "      <td>0.140598</td>\n",
       "      <td>0.140868</td>\n",
       "      <td>NaN</td>\n",
       "    </tr>\n",
       "    <tr>\n",
       "      <th>78</th>\n",
       "      <td>0.140728</td>\n",
       "      <td>0.140640</td>\n",
       "      <td>0.140953</td>\n",
       "      <td>NaN</td>\n",
       "    </tr>\n",
       "    <tr>\n",
       "      <th>79</th>\n",
       "      <td>0.140708</td>\n",
       "      <td>0.140620</td>\n",
       "      <td>0.141030</td>\n",
       "      <td>NaN</td>\n",
       "    </tr>\n",
       "    <tr>\n",
       "      <th>80</th>\n",
       "      <td>0.140650</td>\n",
       "      <td>0.140592</td>\n",
       "      <td>NaN</td>\n",
       "      <td>NaN</td>\n",
       "    </tr>\n",
       "    <tr>\n",
       "      <th>81</th>\n",
       "      <td>0.140647</td>\n",
       "      <td>0.140588</td>\n",
       "      <td>NaN</td>\n",
       "      <td>NaN</td>\n",
       "    </tr>\n",
       "    <tr>\n",
       "      <th>82</th>\n",
       "      <td>0.140658</td>\n",
       "      <td>0.140467</td>\n",
       "      <td>NaN</td>\n",
       "      <td>NaN</td>\n",
       "    </tr>\n",
       "    <tr>\n",
       "      <th>83</th>\n",
       "      <td>0.140732</td>\n",
       "      <td>0.140453</td>\n",
       "      <td>NaN</td>\n",
       "      <td>NaN</td>\n",
       "    </tr>\n",
       "    <tr>\n",
       "      <th>84</th>\n",
       "      <td>0.140732</td>\n",
       "      <td>0.140577</td>\n",
       "      <td>NaN</td>\n",
       "      <td>NaN</td>\n",
       "    </tr>\n",
       "    <tr>\n",
       "      <th>85</th>\n",
       "      <td>0.140708</td>\n",
       "      <td>0.140537</td>\n",
       "      <td>NaN</td>\n",
       "      <td>NaN</td>\n",
       "    </tr>\n",
       "    <tr>\n",
       "      <th>86</th>\n",
       "      <td>0.140590</td>\n",
       "      <td>0.140490</td>\n",
       "      <td>NaN</td>\n",
       "      <td>NaN</td>\n",
       "    </tr>\n",
       "    <tr>\n",
       "      <th>87</th>\n",
       "      <td>0.140537</td>\n",
       "      <td>0.140575</td>\n",
       "      <td>NaN</td>\n",
       "      <td>NaN</td>\n",
       "    </tr>\n",
       "    <tr>\n",
       "      <th>88</th>\n",
       "      <td>0.140487</td>\n",
       "      <td>0.140482</td>\n",
       "      <td>NaN</td>\n",
       "      <td>NaN</td>\n",
       "    </tr>\n",
       "    <tr>\n",
       "      <th>89</th>\n",
       "      <td>0.140558</td>\n",
       "      <td>0.140558</td>\n",
       "      <td>NaN</td>\n",
       "      <td>NaN</td>\n",
       "    </tr>\n",
       "    <tr>\n",
       "      <th>90</th>\n",
       "      <td>0.140602</td>\n",
       "      <td>0.140572</td>\n",
       "      <td>NaN</td>\n",
       "      <td>NaN</td>\n",
       "    </tr>\n",
       "    <tr>\n",
       "      <th>91</th>\n",
       "      <td>0.140607</td>\n",
       "      <td>0.140480</td>\n",
       "      <td>NaN</td>\n",
       "      <td>NaN</td>\n",
       "    </tr>\n",
       "    <tr>\n",
       "      <th>92</th>\n",
       "      <td>0.140598</td>\n",
       "      <td>0.140462</td>\n",
       "      <td>NaN</td>\n",
       "      <td>NaN</td>\n",
       "    </tr>\n",
       "    <tr>\n",
       "      <th>93</th>\n",
       "      <td>0.140698</td>\n",
       "      <td>0.140447</td>\n",
       "      <td>NaN</td>\n",
       "      <td>NaN</td>\n",
       "    </tr>\n",
       "    <tr>\n",
       "      <th>94</th>\n",
       "      <td>0.140628</td>\n",
       "      <td>0.140388</td>\n",
       "      <td>NaN</td>\n",
       "      <td>NaN</td>\n",
       "    </tr>\n",
       "    <tr>\n",
       "      <th>95</th>\n",
       "      <td>0.140587</td>\n",
       "      <td>0.140428</td>\n",
       "      <td>NaN</td>\n",
       "      <td>NaN</td>\n",
       "    </tr>\n",
       "    <tr>\n",
       "      <th>96</th>\n",
       "      <td>0.140610</td>\n",
       "      <td>0.140410</td>\n",
       "      <td>NaN</td>\n",
       "      <td>NaN</td>\n",
       "    </tr>\n",
       "    <tr>\n",
       "      <th>97</th>\n",
       "      <td>0.140653</td>\n",
       "      <td>0.140438</td>\n",
       "      <td>NaN</td>\n",
       "      <td>NaN</td>\n",
       "    </tr>\n",
       "    <tr>\n",
       "      <th>98</th>\n",
       "      <td>0.140640</td>\n",
       "      <td>0.140422</td>\n",
       "      <td>NaN</td>\n",
       "      <td>NaN</td>\n",
       "    </tr>\n",
       "    <tr>\n",
       "      <th>99</th>\n",
       "      <td>0.140680</td>\n",
       "      <td>0.140645</td>\n",
       "      <td>NaN</td>\n",
       "      <td>NaN</td>\n",
       "    </tr>\n",
       "  </tbody>\n",
       "</table>\n",
       "</div>"
      ],
      "text/plain": [
       "    valid-error-mean0  valid-error-mean1  valid-error-mean2  valid-error-mean3\n",
       "50           0.141415           0.140400           0.140647           0.140375\n",
       "51           0.141493           0.140308           0.140737           0.140373\n",
       "52           0.141318           0.140390           0.140692           0.140368\n",
       "53           0.141280           0.140350           0.140703           0.140422\n",
       "54           0.141170           0.140312           0.140748           0.140342\n",
       "55           0.140960           0.140433           0.140738           0.140282\n",
       "56           0.140995           0.140422           0.140677           0.140335\n",
       "57           0.141025           0.140513           0.140637           0.140393\n",
       "58           0.141018           0.140500           0.140587           0.140315\n",
       "59           0.141055           0.140495           0.140718           0.140420\n",
       "60           0.140968           0.140602           0.140647                NaN\n",
       "61           0.141112           0.140652           0.140678                NaN\n",
       "62           0.141093           0.140523           0.140820                NaN\n",
       "63           0.141070           0.140440           0.140765                NaN\n",
       "64           0.141133           0.140373           0.140767                NaN\n",
       "65           0.141085           0.140318           0.140748                NaN\n",
       "66           0.141090           0.140460           0.140822                NaN\n",
       "67           0.141017           0.140440           0.140747                NaN\n",
       "68           0.140917           0.140383           0.140750                NaN\n",
       "69           0.140868           0.140478           0.140857                NaN\n",
       "70           0.140897           0.140508           0.140873                NaN\n",
       "71           0.140855           0.140518           0.140902                NaN\n",
       "72           0.140742           0.140367           0.140937                NaN\n",
       "73           0.140707           0.140413           0.140943                NaN\n",
       "74           0.140702           0.140427           0.140872                NaN\n",
       "75           0.140652           0.140477           0.140885                NaN\n",
       "76           0.140652           0.140472           0.141020                NaN\n",
       "77           0.140698           0.140598           0.140868                NaN\n",
       "78           0.140728           0.140640           0.140953                NaN\n",
       "79           0.140708           0.140620           0.141030                NaN\n",
       "80           0.140650           0.140592                NaN                NaN\n",
       "81           0.140647           0.140588                NaN                NaN\n",
       "82           0.140658           0.140467                NaN                NaN\n",
       "83           0.140732           0.140453                NaN                NaN\n",
       "84           0.140732           0.140577                NaN                NaN\n",
       "85           0.140708           0.140537                NaN                NaN\n",
       "86           0.140590           0.140490                NaN                NaN\n",
       "87           0.140537           0.140575                NaN                NaN\n",
       "88           0.140487           0.140482                NaN                NaN\n",
       "89           0.140558           0.140558                NaN                NaN\n",
       "90           0.140602           0.140572                NaN                NaN\n",
       "91           0.140607           0.140480                NaN                NaN\n",
       "92           0.140598           0.140462                NaN                NaN\n",
       "93           0.140698           0.140447                NaN                NaN\n",
       "94           0.140628           0.140388                NaN                NaN\n",
       "95           0.140587           0.140428                NaN                NaN\n",
       "96           0.140610           0.140410                NaN                NaN\n",
       "97           0.140653           0.140438                NaN                NaN\n",
       "98           0.140640           0.140422                NaN                NaN\n",
       "99           0.140680           0.140645                NaN                NaN"
      ]
     },
     "execution_count": 26,
     "metadata": {},
     "output_type": "execute_result"
    }
   ],
   "source": [
    "e.loc[50:,e.columns.str.contains('valid.*mean')]"
   ]
  },
  {
   "cell_type": "code",
   "execution_count": 11,
   "metadata": {
    "collapsed": false
   },
   "outputs": [
    {
     "name": "stdout",
     "output_type": "stream",
     "text": [
      "{'subsample': 0.7, 'eta': 0.16, 'colsample_bytree': 0.6, 'max_depth': 6}\n",
      "{'subsample': 0.9, 'eta': 0.16, 'colsample_bytree': 0.6, 'max_depth': 6}\n"
     ]
    }
   ],
   "source": [
    "param_grid = {}\n",
    "param_grid['eta'] = [.16]\n",
    "param_grid['max_depth'] = [6]\n",
    "param_grid['subsample'] = [.7, .9]\n",
    "param_grid['colsample_bytree'] = [.6]\n",
    "nrounds = 80\n",
    "for cnt, p in enumerate(list(ParameterGrid(param_grid)), 2):\n",
    "    print p"
   ]
  },
  {
   "cell_type": "code",
   "execution_count": 3,
   "metadata": {
    "collapsed": false
   },
   "outputs": [],
   "source": [
    "#train_100 = pd.read_csv('Airbnb_data/train_users_2.csv', nrows = 100, index_col='id')\n",
    "train_data = pd.read_csv('data/train_users_2.csv', index_col = 'id')\n",
    "test_data = pd.read_csv('data/test_users.csv', index_col = 'id')\n",
    "#sessions = pd.read_csv('../data/sessions.csv')\n",
    "#age = pd.read_csv('Airbnb_data/age_gender_bkts.csv')\n",
    "#countries = pd.read_csv('Airbnb_data/countries.csv')\n",
    "all_df = pd.read_pickle('data/all_df.p')"
   ]
  },
  {
   "cell_type": "code",
   "execution_count": 163,
   "metadata": {
    "collapsed": false
   },
   "outputs": [
    {
     "name": "stdout",
     "output_type": "stream",
     "text": [
      "IBrowse\n",
      "Nintendo Browser\n",
      "UC Browser\n"
     ]
    }
   ],
   "source": [
    "for i in np.unique(test_data.first_browser):\n",
    "    if i not in np.unique(train_data.first_browser):\n",
    "        print i"
   ]
  },
  {
   "cell_type": "code",
   "execution_count": 5,
   "metadata": {
    "collapsed": false
   },
   "outputs": [],
   "source": [
    "error = pd.read_pickle('scripts/cv_results.p')\n",
    "params = pd.read_pickle('scripts/cv_params.p')"
   ]
  },
  {
   "cell_type": "code",
   "execution_count": 6,
   "metadata": {
    "collapsed": false,
    "scrolled": true
   },
   "outputs": [],
   "source": [
    "res = pd.concat([error, params], axis = 1)"
   ]
  },
  {
   "cell_type": "code",
   "execution_count": 7,
   "metadata": {
    "collapsed": false
   },
   "outputs": [],
   "source": [
    "res.sort_values(by = 'test-error-mean', axis = 0);"
   ]
  },
  {
   "cell_type": "code",
   "execution_count": 3,
   "metadata": {
    "collapsed": false
   },
   "outputs": [
    {
     "name": "stdout",
     "output_type": "stream",
     "text": [
      "number of columns before one hot encoding 17\n",
      "number of columns after one hot encoding 161\n"
     ]
    }
   ],
   "source": [
    "all_df = feakaggle_model(all_df)\n",
    "\n",
    "#one hot encoding of features\n",
    "print 'number of columns before one hot encoding', all_df.shape[1]\n",
    "ohe_feats = ['gender', 'signup_method', 'signup_flow', 'language', 'affiliate_channel', 'affiliate_provider', 'first_affiliate_tracked', 'signup_app', 'first_device_type', 'first_browser']\n",
    "all_df = pd.get_dummies(all_df, columns = ohe_feats)\n",
    "print 'number of columns after one hot encoding', all_df.shape[1]"
   ]
  },
  {
   "cell_type": "code",
   "execution_count": 6,
   "metadata": {
    "collapsed": false
   },
   "outputs": [
    {
     "ename": "NameError",
     "evalue": "name 'all_df' is not defined",
     "output_type": "error",
     "traceback": [
      "\u001b[1;31m---------------------------------------------------------------------------\u001b[0m",
      "\u001b[1;31mNameError\u001b[0m                                 Traceback (most recent call last)",
      "\u001b[1;32m<ipython-input-6-ec52a63c0fff>\u001b[0m in \u001b[0;36m<module>\u001b[1;34m()\u001b[0m\n\u001b[0;32m      2\u001b[0m     \u001b[0mbst\u001b[0m \u001b[1;33m=\u001b[0m \u001b[0mpickle\u001b[0m\u001b[1;33m.\u001b[0m\u001b[0mload\u001b[0m\u001b[1;33m(\u001b[0m\u001b[0mf\u001b[0m\u001b[1;33m)\u001b[0m\u001b[1;33m\u001b[0m\u001b[0m\n\u001b[0;32m      3\u001b[0m \u001b[0mfeatures\u001b[0m \u001b[1;33m=\u001b[0m \u001b[0msorted\u001b[0m\u001b[1;33m(\u001b[0m\u001b[0mbst\u001b[0m\u001b[1;33m.\u001b[0m\u001b[0mget_fscore\u001b[0m\u001b[1;33m(\u001b[0m\u001b[1;33m)\u001b[0m\u001b[1;33m.\u001b[0m\u001b[0mitems\u001b[0m\u001b[1;33m(\u001b[0m\u001b[1;33m)\u001b[0m\u001b[1;33m,\u001b[0m \u001b[0mkey\u001b[0m \u001b[1;33m=\u001b[0m \u001b[1;32mlambda\u001b[0m \u001b[0mx\u001b[0m\u001b[1;33m:\u001b[0m \u001b[0mx\u001b[0m\u001b[1;33m[\u001b[0m\u001b[1;36m1\u001b[0m\u001b[1;33m]\u001b[0m\u001b[1;33m,\u001b[0m \u001b[0mreverse\u001b[0m \u001b[1;33m=\u001b[0m \u001b[0mTrue\u001b[0m\u001b[1;33m)\u001b[0m\u001b[1;33m\u001b[0m\u001b[0m\n\u001b[1;32m----> 4\u001b[1;33m \u001b[1;33m[\u001b[0m\u001b[1;33m(\u001b[0m\u001b[0mfeat\u001b[0m\u001b[1;33m,\u001b[0m \u001b[0mall_df\u001b[0m\u001b[1;33m.\u001b[0m\u001b[0mcolumns\u001b[0m\u001b[1;33m[\u001b[0m\u001b[0mint\u001b[0m\u001b[1;33m(\u001b[0m\u001b[0mfeat\u001b[0m\u001b[1;33m[\u001b[0m\u001b[1;36m1\u001b[0m\u001b[1;33m:\u001b[0m\u001b[1;33m]\u001b[0m\u001b[1;33m)\u001b[0m\u001b[1;33m]\u001b[0m\u001b[1;33m,\u001b[0m \u001b[0mscore\u001b[0m\u001b[1;33m)\u001b[0m \u001b[1;32mfor\u001b[0m \u001b[0mfeat\u001b[0m\u001b[1;33m,\u001b[0m \u001b[0mscore\u001b[0m \u001b[1;32min\u001b[0m \u001b[0mfeatures\u001b[0m\u001b[1;33m]\u001b[0m\u001b[1;33m\u001b[0m\u001b[0m\n\u001b[0m",
      "\u001b[1;31mNameError\u001b[0m: name 'all_df' is not defined"
     ]
    }
   ],
   "source": [
    "with open('xgbmodels/sessions_e20_25n.p', 'rb') as f:\n",
    "    bst = pickle.load(f)\n",
    "features = sorted(bst.get_fscore().items(), key = lambda x: x[1], reverse = True)\n",
    "[(feat, all_df.columns[int(feat[1:])], score) for feat, score in features]"
   ]
  },
  {
   "cell_type": "code",
   "execution_count": null,
   "metadata": {
    "collapsed": false,
    "scrolled": false
   },
   "outputs": [],
   "source": [
    "xgb.to_graphviz(bst, num_trees=11)"
   ]
  },
  {
   "cell_type": "code",
   "execution_count": null,
   "metadata": {
    "collapsed": false,
    "scrolled": true
   },
   "outputs": [],
   "source": [
    "submission = pd.DataFrame(np.column_stack([idx, cntr]), columns = ['id', 'country'])\n",
    "submission.to_csv('submissions/datebin_model.csv', index=False)"
   ]
  }
 ],
 "metadata": {
  "kernelspec": {
   "display_name": "Python 2",
   "language": "python",
   "name": "python2"
  },
  "language_info": {
   "codemirror_mode": {
    "name": "ipython",
    "version": 2
   },
   "file_extension": ".py",
   "mimetype": "text/x-python",
   "name": "python",
   "nbconvert_exporter": "python",
   "pygments_lexer": "ipython2",
   "version": "2.7.11"
  }
 },
 "nbformat": 4,
 "nbformat_minor": 0
}
