{
 "cells": [
  {
   "cell_type": "code",
   "execution_count": 7,
   "metadata": {
    "collapsed": false
   },
   "outputs": [],
   "source": [
    "#%matplotlib inline\n",
    "import numpy as np\n",
    "import pandas as pd\n",
    "import scipy.sparse\n",
    "from sklearn import preprocessing\n",
    "import xgboost as xgb\n",
    "import pickle\n",
    "#import graphviz\n",
    "import matplotlib.pyplot as plt\n",
    "%matplotlib inline"
   ]
  },
  {
   "cell_type": "markdown",
   "metadata": {},
   "source": [
    "Read in just the testing and training data."
   ]
  },
  {
   "cell_type": "code",
   "execution_count": 8,
   "metadata": {
    "collapsed": false
   },
   "outputs": [],
   "source": [
    "error = pd.read_pickle('scripts/cv_results/actions_e20/params_search2.p')\n",
    "#error['mean'] = error.apply(np.mean, axis = 1)\n",
    "# error = error.astype(np.float64)\n",
    "# error['mean'] = error.mean(1)\n",
    "# error['std'] = error.std(1)"
   ]
  },
  {
   "cell_type": "code",
   "execution_count": 9,
   "metadata": {
    "collapsed": false
   },
   "outputs": [
    {
     "data": {
      "text/html": [
       "<div>\n",
       "<table border=\"1\" class=\"dataframe\">\n",
       "  <thead>\n",
       "    <tr style=\"text-align: right;\">\n",
       "      <th></th>\n",
       "      <th>subsample</th>\n",
       "      <th>eta</th>\n",
       "      <th>colsample_bytree</th>\n",
       "      <th>max_depth</th>\n",
       "    </tr>\n",
       "  </thead>\n",
       "  <tbody>\n",
       "    <tr>\n",
       "      <th>0</th>\n",
       "      <td>0.5</td>\n",
       "      <td>0.2</td>\n",
       "      <td>0.6</td>\n",
       "      <td>6</td>\n",
       "    </tr>\n",
       "    <tr>\n",
       "      <th>1</th>\n",
       "      <td>0.7</td>\n",
       "      <td>0.2</td>\n",
       "      <td>0.6</td>\n",
       "      <td>6</td>\n",
       "    </tr>\n",
       "    <tr>\n",
       "      <th>2</th>\n",
       "      <td>0.5</td>\n",
       "      <td>0.2</td>\n",
       "      <td>1.0</td>\n",
       "      <td>6</td>\n",
       "    </tr>\n",
       "  </tbody>\n",
       "</table>\n",
       "</div>"
      ],
      "text/plain": [
       "   subsample  eta  colsample_bytree  max_depth\n",
       "0        0.5  0.2               0.6          6\n",
       "1        0.7  0.2               0.6          6\n",
       "2        0.5  0.2               1.0          6"
      ]
     },
     "execution_count": 9,
     "metadata": {},
     "output_type": "execute_result"
    }
   ],
   "source": [
    "error"
   ]
  },
  {
   "cell_type": "code",
   "execution_count": 27,
   "metadata": {
    "collapsed": false
   },
   "outputs": [
    {
     "data": {
      "text/html": [
       "<div>\n",
       "<table border=\"1\" class=\"dataframe\">\n",
       "  <thead>\n",
       "    <tr style=\"text-align: right;\">\n",
       "      <th></th>\n",
       "      <th>0</th>\n",
       "      <th>0</th>\n",
       "      <th>0</th>\n",
       "      <th>0</th>\n",
       "      <th>0</th>\n",
       "      <th>0</th>\n",
       "    </tr>\n",
       "  </thead>\n",
       "  <tbody>\n",
       "    <tr>\n",
       "      <th>0</th>\n",
       "      <td>0.167572</td>\n",
       "      <td>0.167466</td>\n",
       "      <td>0.167727</td>\n",
       "      <td>0.167496</td>\n",
       "      <td>0.167596</td>\n",
       "      <td>0.168133</td>\n",
       "    </tr>\n",
       "    <tr>\n",
       "      <th>1</th>\n",
       "      <td>0.166168</td>\n",
       "      <td>0.165801</td>\n",
       "      <td>0.166565</td>\n",
       "      <td>0.166062</td>\n",
       "      <td>0.166788</td>\n",
       "      <td>0.167285</td>\n",
       "    </tr>\n",
       "    <tr>\n",
       "      <th>2</th>\n",
       "      <td>0.165645</td>\n",
       "      <td>0.165012</td>\n",
       "      <td>0.165481</td>\n",
       "      <td>0.165554</td>\n",
       "      <td>0.165830</td>\n",
       "      <td>0.166340</td>\n",
       "    </tr>\n",
       "    <tr>\n",
       "      <th>3</th>\n",
       "      <td>0.165161</td>\n",
       "      <td>0.164656</td>\n",
       "      <td>0.165096</td>\n",
       "      <td>0.164939</td>\n",
       "      <td>0.165238</td>\n",
       "      <td>0.165888</td>\n",
       "    </tr>\n",
       "    <tr>\n",
       "      <th>4</th>\n",
       "      <td>0.164776</td>\n",
       "      <td>0.164280</td>\n",
       "      <td>0.164733</td>\n",
       "      <td>0.164440</td>\n",
       "      <td>0.164568</td>\n",
       "      <td>0.165553</td>\n",
       "    </tr>\n",
       "    <tr>\n",
       "      <th>5</th>\n",
       "      <td>0.164559</td>\n",
       "      <td>0.164026</td>\n",
       "      <td>0.164268</td>\n",
       "      <td>0.164253</td>\n",
       "      <td>0.164273</td>\n",
       "      <td>0.164967</td>\n",
       "    </tr>\n",
       "    <tr>\n",
       "      <th>6</th>\n",
       "      <td>0.163968</td>\n",
       "      <td>0.163701</td>\n",
       "      <td>0.163974</td>\n",
       "      <td>0.163812</td>\n",
       "      <td>0.163975</td>\n",
       "      <td>0.164313</td>\n",
       "    </tr>\n",
       "    <tr>\n",
       "      <th>7</th>\n",
       "      <td>0.163879</td>\n",
       "      <td>0.163163</td>\n",
       "      <td>0.163642</td>\n",
       "      <td>0.163537</td>\n",
       "      <td>0.163699</td>\n",
       "      <td>0.163967</td>\n",
       "    </tr>\n",
       "    <tr>\n",
       "      <th>8</th>\n",
       "      <td>0.163576</td>\n",
       "      <td>0.163040</td>\n",
       "      <td>0.163336</td>\n",
       "      <td>0.163214</td>\n",
       "      <td>0.163468</td>\n",
       "      <td>0.163660</td>\n",
       "    </tr>\n",
       "    <tr>\n",
       "      <th>9</th>\n",
       "      <td>0.163320</td>\n",
       "      <td>0.162803</td>\n",
       "      <td>0.163280</td>\n",
       "      <td>0.162983</td>\n",
       "      <td>0.163203</td>\n",
       "      <td>0.163508</td>\n",
       "    </tr>\n",
       "    <tr>\n",
       "      <th>10</th>\n",
       "      <td>0.163065</td>\n",
       "      <td>0.162580</td>\n",
       "      <td>0.163041</td>\n",
       "      <td>0.162757</td>\n",
       "      <td>0.162845</td>\n",
       "      <td>0.163433</td>\n",
       "    </tr>\n",
       "    <tr>\n",
       "      <th>11</th>\n",
       "      <td>0.162804</td>\n",
       "      <td>0.162307</td>\n",
       "      <td>0.162853</td>\n",
       "      <td>0.162649</td>\n",
       "      <td>0.162664</td>\n",
       "      <td>0.163249</td>\n",
       "    </tr>\n",
       "    <tr>\n",
       "      <th>12</th>\n",
       "      <td>0.162565</td>\n",
       "      <td>0.162096</td>\n",
       "      <td>0.162607</td>\n",
       "      <td>0.162448</td>\n",
       "      <td>0.162452</td>\n",
       "      <td>0.163049</td>\n",
       "    </tr>\n",
       "    <tr>\n",
       "      <th>13</th>\n",
       "      <td>0.162218</td>\n",
       "      <td>0.161907</td>\n",
       "      <td>0.162409</td>\n",
       "      <td>0.162264</td>\n",
       "      <td>0.162327</td>\n",
       "      <td>0.163033</td>\n",
       "    </tr>\n",
       "    <tr>\n",
       "      <th>14</th>\n",
       "      <td>0.162004</td>\n",
       "      <td>0.161694</td>\n",
       "      <td>0.162214</td>\n",
       "      <td>0.161946</td>\n",
       "      <td>0.162143</td>\n",
       "      <td>0.162654</td>\n",
       "    </tr>\n",
       "    <tr>\n",
       "      <th>15</th>\n",
       "      <td>0.161840</td>\n",
       "      <td>0.161604</td>\n",
       "      <td>0.162120</td>\n",
       "      <td>0.161828</td>\n",
       "      <td>0.162052</td>\n",
       "      <td>0.162493</td>\n",
       "    </tr>\n",
       "    <tr>\n",
       "      <th>16</th>\n",
       "      <td>0.161658</td>\n",
       "      <td>0.161463</td>\n",
       "      <td>0.161853</td>\n",
       "      <td>0.161544</td>\n",
       "      <td>0.161783</td>\n",
       "      <td>0.162280</td>\n",
       "    </tr>\n",
       "    <tr>\n",
       "      <th>17</th>\n",
       "      <td>0.161548</td>\n",
       "      <td>0.161264</td>\n",
       "      <td>0.161760</td>\n",
       "      <td>0.161330</td>\n",
       "      <td>0.161599</td>\n",
       "      <td>0.162142</td>\n",
       "    </tr>\n",
       "    <tr>\n",
       "      <th>18</th>\n",
       "      <td>0.161297</td>\n",
       "      <td>0.161067</td>\n",
       "      <td>0.161497</td>\n",
       "      <td>0.161278</td>\n",
       "      <td>0.161393</td>\n",
       "      <td>0.162015</td>\n",
       "    </tr>\n",
       "    <tr>\n",
       "      <th>19</th>\n",
       "      <td>0.161112</td>\n",
       "      <td>0.160949</td>\n",
       "      <td>0.161335</td>\n",
       "      <td>0.161099</td>\n",
       "      <td>0.161255</td>\n",
       "      <td>0.161959</td>\n",
       "    </tr>\n",
       "    <tr>\n",
       "      <th>20</th>\n",
       "      <td>0.160949</td>\n",
       "      <td>0.160664</td>\n",
       "      <td>0.161196</td>\n",
       "      <td>0.160833</td>\n",
       "      <td>0.161134</td>\n",
       "      <td>0.161688</td>\n",
       "    </tr>\n",
       "    <tr>\n",
       "      <th>21</th>\n",
       "      <td>0.160719</td>\n",
       "      <td>0.160463</td>\n",
       "      <td>0.161020</td>\n",
       "      <td>0.160672</td>\n",
       "      <td>0.160946</td>\n",
       "      <td>0.161429</td>\n",
       "    </tr>\n",
       "    <tr>\n",
       "      <th>22</th>\n",
       "      <td>0.160539</td>\n",
       "      <td>0.160303</td>\n",
       "      <td>0.160821</td>\n",
       "      <td>0.160561</td>\n",
       "      <td>0.160698</td>\n",
       "      <td>0.161309</td>\n",
       "    </tr>\n",
       "    <tr>\n",
       "      <th>23</th>\n",
       "      <td>0.160310</td>\n",
       "      <td>0.160178</td>\n",
       "      <td>0.160654</td>\n",
       "      <td>0.160364</td>\n",
       "      <td>0.160553</td>\n",
       "      <td>0.161111</td>\n",
       "    </tr>\n",
       "    <tr>\n",
       "      <th>24</th>\n",
       "      <td>0.160232</td>\n",
       "      <td>0.159983</td>\n",
       "      <td>0.160572</td>\n",
       "      <td>0.160194</td>\n",
       "      <td>0.160289</td>\n",
       "      <td>0.160994</td>\n",
       "    </tr>\n",
       "    <tr>\n",
       "      <th>25</th>\n",
       "      <td>0.160028</td>\n",
       "      <td>0.159838</td>\n",
       "      <td>0.160424</td>\n",
       "      <td>0.160082</td>\n",
       "      <td>0.160201</td>\n",
       "      <td>0.160761</td>\n",
       "    </tr>\n",
       "    <tr>\n",
       "      <th>26</th>\n",
       "      <td>0.159869</td>\n",
       "      <td>0.159576</td>\n",
       "      <td>0.160343</td>\n",
       "      <td>0.159995</td>\n",
       "      <td>0.160028</td>\n",
       "      <td>0.160519</td>\n",
       "    </tr>\n",
       "    <tr>\n",
       "      <th>27</th>\n",
       "      <td>0.159717</td>\n",
       "      <td>0.159541</td>\n",
       "      <td>0.160136</td>\n",
       "      <td>0.159774</td>\n",
       "      <td>0.159902</td>\n",
       "      <td>0.160439</td>\n",
       "    </tr>\n",
       "    <tr>\n",
       "      <th>28</th>\n",
       "      <td>0.159521</td>\n",
       "      <td>0.159425</td>\n",
       "      <td>0.159965</td>\n",
       "      <td>0.159642</td>\n",
       "      <td>0.159744</td>\n",
       "      <td>0.160387</td>\n",
       "    </tr>\n",
       "    <tr>\n",
       "      <th>29</th>\n",
       "      <td>0.159371</td>\n",
       "      <td>0.159270</td>\n",
       "      <td>0.159741</td>\n",
       "      <td>0.159519</td>\n",
       "      <td>0.159631</td>\n",
       "      <td>0.160239</td>\n",
       "    </tr>\n",
       "    <tr>\n",
       "      <th>30</th>\n",
       "      <td>0.159237</td>\n",
       "      <td>0.159112</td>\n",
       "      <td>0.159487</td>\n",
       "      <td>0.159421</td>\n",
       "      <td>0.159452</td>\n",
       "      <td>0.160063</td>\n",
       "    </tr>\n",
       "    <tr>\n",
       "      <th>31</th>\n",
       "      <td>0.159045</td>\n",
       "      <td>0.158933</td>\n",
       "      <td>0.159293</td>\n",
       "      <td>0.159252</td>\n",
       "      <td>0.159239</td>\n",
       "      <td>0.159841</td>\n",
       "    </tr>\n",
       "    <tr>\n",
       "      <th>32</th>\n",
       "      <td>0.158989</td>\n",
       "      <td>0.158739</td>\n",
       "      <td>0.159174</td>\n",
       "      <td>0.159102</td>\n",
       "      <td>0.159094</td>\n",
       "      <td>0.159732</td>\n",
       "    </tr>\n",
       "    <tr>\n",
       "      <th>33</th>\n",
       "      <td>0.158836</td>\n",
       "      <td>0.158586</td>\n",
       "      <td>0.158956</td>\n",
       "      <td>0.159008</td>\n",
       "      <td>0.158992</td>\n",
       "      <td>0.159582</td>\n",
       "    </tr>\n",
       "    <tr>\n",
       "      <th>34</th>\n",
       "      <td>0.158702</td>\n",
       "      <td>0.158429</td>\n",
       "      <td>0.158738</td>\n",
       "      <td>0.158897</td>\n",
       "      <td>0.158744</td>\n",
       "      <td>0.159421</td>\n",
       "    </tr>\n",
       "    <tr>\n",
       "      <th>35</th>\n",
       "      <td>0.158611</td>\n",
       "      <td>0.158257</td>\n",
       "      <td>0.158581</td>\n",
       "      <td>0.158733</td>\n",
       "      <td>0.158476</td>\n",
       "      <td>0.159251</td>\n",
       "    </tr>\n",
       "    <tr>\n",
       "      <th>36</th>\n",
       "      <td>0.158416</td>\n",
       "      <td>0.158122</td>\n",
       "      <td>0.158434</td>\n",
       "      <td>0.158638</td>\n",
       "      <td>0.158356</td>\n",
       "      <td>0.159039</td>\n",
       "    </tr>\n",
       "    <tr>\n",
       "      <th>37</th>\n",
       "      <td>0.158275</td>\n",
       "      <td>0.157968</td>\n",
       "      <td>0.158195</td>\n",
       "      <td>0.158388</td>\n",
       "      <td>0.158273</td>\n",
       "      <td>0.158935</td>\n",
       "    </tr>\n",
       "    <tr>\n",
       "      <th>38</th>\n",
       "      <td>0.158132</td>\n",
       "      <td>0.157868</td>\n",
       "      <td>0.158061</td>\n",
       "      <td>0.158253</td>\n",
       "      <td>0.158147</td>\n",
       "      <td>0.158769</td>\n",
       "    </tr>\n",
       "    <tr>\n",
       "      <th>39</th>\n",
       "      <td>0.157985</td>\n",
       "      <td>0.157740</td>\n",
       "      <td>0.157959</td>\n",
       "      <td>0.158010</td>\n",
       "      <td>0.157972</td>\n",
       "      <td>0.158580</td>\n",
       "    </tr>\n",
       "  </tbody>\n",
       "</table>\n",
       "</div>"
      ],
      "text/plain": [
       "           0         0         0         0         0         0\n",
       "0   0.167572  0.167466  0.167727  0.167496  0.167596  0.168133\n",
       "1   0.166168  0.165801  0.166565  0.166062  0.166788  0.167285\n",
       "2   0.165645  0.165012  0.165481  0.165554  0.165830  0.166340\n",
       "3   0.165161  0.164656  0.165096  0.164939  0.165238  0.165888\n",
       "4   0.164776  0.164280  0.164733  0.164440  0.164568  0.165553\n",
       "5   0.164559  0.164026  0.164268  0.164253  0.164273  0.164967\n",
       "6   0.163968  0.163701  0.163974  0.163812  0.163975  0.164313\n",
       "7   0.163879  0.163163  0.163642  0.163537  0.163699  0.163967\n",
       "8   0.163576  0.163040  0.163336  0.163214  0.163468  0.163660\n",
       "9   0.163320  0.162803  0.163280  0.162983  0.163203  0.163508\n",
       "10  0.163065  0.162580  0.163041  0.162757  0.162845  0.163433\n",
       "11  0.162804  0.162307  0.162853  0.162649  0.162664  0.163249\n",
       "12  0.162565  0.162096  0.162607  0.162448  0.162452  0.163049\n",
       "13  0.162218  0.161907  0.162409  0.162264  0.162327  0.163033\n",
       "14  0.162004  0.161694  0.162214  0.161946  0.162143  0.162654\n",
       "15  0.161840  0.161604  0.162120  0.161828  0.162052  0.162493\n",
       "16  0.161658  0.161463  0.161853  0.161544  0.161783  0.162280\n",
       "17  0.161548  0.161264  0.161760  0.161330  0.161599  0.162142\n",
       "18  0.161297  0.161067  0.161497  0.161278  0.161393  0.162015\n",
       "19  0.161112  0.160949  0.161335  0.161099  0.161255  0.161959\n",
       "20  0.160949  0.160664  0.161196  0.160833  0.161134  0.161688\n",
       "21  0.160719  0.160463  0.161020  0.160672  0.160946  0.161429\n",
       "22  0.160539  0.160303  0.160821  0.160561  0.160698  0.161309\n",
       "23  0.160310  0.160178  0.160654  0.160364  0.160553  0.161111\n",
       "24  0.160232  0.159983  0.160572  0.160194  0.160289  0.160994\n",
       "25  0.160028  0.159838  0.160424  0.160082  0.160201  0.160761\n",
       "26  0.159869  0.159576  0.160343  0.159995  0.160028  0.160519\n",
       "27  0.159717  0.159541  0.160136  0.159774  0.159902  0.160439\n",
       "28  0.159521  0.159425  0.159965  0.159642  0.159744  0.160387\n",
       "29  0.159371  0.159270  0.159741  0.159519  0.159631  0.160239\n",
       "30  0.159237  0.159112  0.159487  0.159421  0.159452  0.160063\n",
       "31  0.159045  0.158933  0.159293  0.159252  0.159239  0.159841\n",
       "32  0.158989  0.158739  0.159174  0.159102  0.159094  0.159732\n",
       "33  0.158836  0.158586  0.158956  0.159008  0.158992  0.159582\n",
       "34  0.158702  0.158429  0.158738  0.158897  0.158744  0.159421\n",
       "35  0.158611  0.158257  0.158581  0.158733  0.158476  0.159251\n",
       "36  0.158416  0.158122  0.158434  0.158638  0.158356  0.159039\n",
       "37  0.158275  0.157968  0.158195  0.158388  0.158273  0.158935\n",
       "38  0.158132  0.157868  0.158061  0.158253  0.158147  0.158769\n",
       "39  0.157985  0.157740  0.157959  0.158010  0.157972  0.158580"
      ]
     },
     "execution_count": 27,
     "metadata": {},
     "output_type": "execute_result"
    }
   ],
   "source": [
    "errorerror.astype('float')"
   ]
  },
  {
   "cell_type": "code",
   "execution_count": 15,
   "metadata": {
    "collapsed": false,
    "scrolled": true
   },
   "outputs": [],
   "source": [
    "error3.to_pickle('scripts/cv_results/actions_e20/params1_err.p')"
   ]
  },
  {
   "cell_type": "code",
   "execution_count": 3,
   "metadata": {
    "collapsed": false
   },
   "outputs": [],
   "source": [
    "#train_100 = pd.read_csv('Airbnb_data/train_users_2.csv', nrows = 100, index_col='id')\n",
    "train_data = pd.read_csv('data/train_users_2.csv', index_col = 'id')\n",
    "test_data = pd.read_csv('data/test_users.csv', index_col = 'id')\n",
    "#sessions = pd.read_csv('../data/sessions.csv')\n",
    "#age = pd.read_csv('Airbnb_data/age_gender_bkts.csv')\n",
    "#countries = pd.read_csv('Airbnb_data/countries.csv')\n",
    "all_df = pd.read_pickle('data/all_df.p')"
   ]
  },
  {
   "cell_type": "code",
   "execution_count": 163,
   "metadata": {
    "collapsed": false
   },
   "outputs": [
    {
     "name": "stdout",
     "output_type": "stream",
     "text": [
      "IBrowse\n",
      "Nintendo Browser\n",
      "UC Browser\n"
     ]
    }
   ],
   "source": [
    "for i in np.unique(test_data.first_browser):\n",
    "    if i not in np.unique(train_data.first_browser):\n",
    "        print i"
   ]
  },
  {
   "cell_type": "code",
   "execution_count": 142,
   "metadata": {
    "collapsed": false
   },
   "outputs": [
    {
     "data": {
      "text/html": [
       "<div>\n",
       "<table border=\"1\" class=\"dataframe\">\n",
       "  <thead>\n",
       "    <tr style=\"text-align: right;\">\n",
       "      <th></th>\n",
       "      <th>user_id</th>\n",
       "      <th>action</th>\n",
       "      <th>action_type</th>\n",
       "      <th>action_detail</th>\n",
       "      <th>device_type</th>\n",
       "      <th>secs_elapsed</th>\n",
       "    </tr>\n",
       "  </thead>\n",
       "  <tbody>\n",
       "    <tr>\n",
       "      <th>1150481</th>\n",
       "      <td>00allnceb8</td>\n",
       "      <td>create</td>\n",
       "      <td>submit</td>\n",
       "      <td>signup</td>\n",
       "      <td>-unknown-</td>\n",
       "      <td>NaN</td>\n",
       "    </tr>\n",
       "  </tbody>\n",
       "</table>\n",
       "</div>"
      ],
      "text/plain": [
       "            user_id  action action_type action_detail device_type  \\\n",
       "1150481  00allnceb8  create      submit        signup   -unknown-   \n",
       "\n",
       "         secs_elapsed  \n",
       "1150481           NaN  "
      ]
     },
     "execution_count": 142,
     "metadata": {},
     "output_type": "execute_result"
    }
   ],
   "source": [
    "#pd.isnull(sessions.groupby('user_id')['secs_elapsed'].sum()) == False\n",
    "sessions.loc[sessions.user_id == '00allnceb8',:]\n",
    "#sessions.loc[sessions.user_id == 'd1mm9tcy42',:]"
   ]
  },
  {
   "cell_type": "code",
   "execution_count": 8,
   "metadata": {
    "collapsed": false,
    "scrolled": true
   },
   "outputs": [
    {
     "ename": "NameError",
     "evalue": "name 'sessions' is not defined",
     "output_type": "error",
     "traceback": [
      "\u001b[1;31m---------------------------------------------------------------------------\u001b[0m",
      "\u001b[1;31mNameError\u001b[0m                                 Traceback (most recent call last)",
      "\u001b[1;32m<ipython-input-8-0eda3f96ac01>\u001b[0m in \u001b[0;36m<module>\u001b[1;34m()\u001b[0m\n\u001b[0;32m      1\u001b[0m \u001b[1;31m#find most popular actions\u001b[0m\u001b[1;33m\u001b[0m\u001b[1;33m\u001b[0m\u001b[0m\n\u001b[1;32m----> 2\u001b[1;33m \u001b[0msessions\u001b[0m\u001b[1;33m.\u001b[0m\u001b[0mgroupby\u001b[0m\u001b[1;33m(\u001b[0m\u001b[1;34m'user_id'\u001b[0m\u001b[1;33m)\u001b[0m\u001b[1;33m.\u001b[0m\u001b[0mcount\u001b[0m\u001b[1;33m(\u001b[0m\u001b[1;33m)\u001b[0m\u001b[1;33m\u001b[0m\u001b[0m\n\u001b[0m",
      "\u001b[1;31mNameError\u001b[0m: name 'sessions' is not defined"
     ]
    }
   ],
   "source": [
    "#find most popular actions\n",
    "sessions.groupby('user_id').count()"
   ]
  },
  {
   "cell_type": "code",
   "execution_count": 5,
   "metadata": {
    "collapsed": false
   },
   "outputs": [],
   "source": [
    "error = pd.read_pickle('scripts/cv_results.p')\n",
    "params = pd.read_pickle('scripts/cv_params.p')"
   ]
  },
  {
   "cell_type": "code",
   "execution_count": 6,
   "metadata": {
    "collapsed": false,
    "scrolled": true
   },
   "outputs": [],
   "source": [
    "res = pd.concat([error, params], axis = 1)"
   ]
  },
  {
   "cell_type": "code",
   "execution_count": 7,
   "metadata": {
    "collapsed": false
   },
   "outputs": [],
   "source": [
    "res.sort_values(by = 'test-error-mean', axis = 0);"
   ]
  },
  {
   "cell_type": "code",
   "execution_count": 3,
   "metadata": {
    "collapsed": false
   },
   "outputs": [
    {
     "name": "stdout",
     "output_type": "stream",
     "text": [
      "number of columns before one hot encoding 17\n",
      "number of columns after one hot encoding 161\n"
     ]
    }
   ],
   "source": [
    "all_df = feakaggle_model(all_df)\n",
    "\n",
    "#one hot encoding of features\n",
    "print 'number of columns before one hot encoding', all_df.shape[1]\n",
    "ohe_feats = ['gender', 'signup_method', 'signup_flow', 'language', 'affiliate_channel', 'affiliate_provider', 'first_affiliate_tracked', 'signup_app', 'first_device_type', 'first_browser']\n",
    "all_df = pd.get_dummies(all_df, columns = ohe_feats)\n",
    "print 'number of columns after one hot encoding', all_df.shape[1]"
   ]
  },
  {
   "cell_type": "code",
   "execution_count": 6,
   "metadata": {
    "collapsed": false
   },
   "outputs": [
    {
     "ename": "NameError",
     "evalue": "name 'all_df' is not defined",
     "output_type": "error",
     "traceback": [
      "\u001b[1;31m---------------------------------------------------------------------------\u001b[0m",
      "\u001b[1;31mNameError\u001b[0m                                 Traceback (most recent call last)",
      "\u001b[1;32m<ipython-input-6-ec52a63c0fff>\u001b[0m in \u001b[0;36m<module>\u001b[1;34m()\u001b[0m\n\u001b[0;32m      2\u001b[0m     \u001b[0mbst\u001b[0m \u001b[1;33m=\u001b[0m \u001b[0mpickle\u001b[0m\u001b[1;33m.\u001b[0m\u001b[0mload\u001b[0m\u001b[1;33m(\u001b[0m\u001b[0mf\u001b[0m\u001b[1;33m)\u001b[0m\u001b[1;33m\u001b[0m\u001b[0m\n\u001b[0;32m      3\u001b[0m \u001b[0mfeatures\u001b[0m \u001b[1;33m=\u001b[0m \u001b[0msorted\u001b[0m\u001b[1;33m(\u001b[0m\u001b[0mbst\u001b[0m\u001b[1;33m.\u001b[0m\u001b[0mget_fscore\u001b[0m\u001b[1;33m(\u001b[0m\u001b[1;33m)\u001b[0m\u001b[1;33m.\u001b[0m\u001b[0mitems\u001b[0m\u001b[1;33m(\u001b[0m\u001b[1;33m)\u001b[0m\u001b[1;33m,\u001b[0m \u001b[0mkey\u001b[0m \u001b[1;33m=\u001b[0m \u001b[1;32mlambda\u001b[0m \u001b[0mx\u001b[0m\u001b[1;33m:\u001b[0m \u001b[0mx\u001b[0m\u001b[1;33m[\u001b[0m\u001b[1;36m1\u001b[0m\u001b[1;33m]\u001b[0m\u001b[1;33m,\u001b[0m \u001b[0mreverse\u001b[0m \u001b[1;33m=\u001b[0m \u001b[0mTrue\u001b[0m\u001b[1;33m)\u001b[0m\u001b[1;33m\u001b[0m\u001b[0m\n\u001b[1;32m----> 4\u001b[1;33m \u001b[1;33m[\u001b[0m\u001b[1;33m(\u001b[0m\u001b[0mfeat\u001b[0m\u001b[1;33m,\u001b[0m \u001b[0mall_df\u001b[0m\u001b[1;33m.\u001b[0m\u001b[0mcolumns\u001b[0m\u001b[1;33m[\u001b[0m\u001b[0mint\u001b[0m\u001b[1;33m(\u001b[0m\u001b[0mfeat\u001b[0m\u001b[1;33m[\u001b[0m\u001b[1;36m1\u001b[0m\u001b[1;33m:\u001b[0m\u001b[1;33m]\u001b[0m\u001b[1;33m)\u001b[0m\u001b[1;33m]\u001b[0m\u001b[1;33m,\u001b[0m \u001b[0mscore\u001b[0m\u001b[1;33m)\u001b[0m \u001b[1;32mfor\u001b[0m \u001b[0mfeat\u001b[0m\u001b[1;33m,\u001b[0m \u001b[0mscore\u001b[0m \u001b[1;32min\u001b[0m \u001b[0mfeatures\u001b[0m\u001b[1;33m]\u001b[0m\u001b[1;33m\u001b[0m\u001b[0m\n\u001b[0m",
      "\u001b[1;31mNameError\u001b[0m: name 'all_df' is not defined"
     ]
    }
   ],
   "source": [
    "with open('xgbmodels/sessions_e20_25n.p', 'rb') as f:\n",
    "    bst = pickle.load(f)\n",
    "features = sorted(bst.get_fscore().items(), key = lambda x: x[1], reverse = True)\n",
    "[(feat, all_df.columns[int(feat[1:])], score) for feat, score in features]"
   ]
  },
  {
   "cell_type": "code",
   "execution_count": null,
   "metadata": {
    "collapsed": false,
    "scrolled": false
   },
   "outputs": [],
   "source": [
    "xgb.to_graphviz(bst, num_trees=11)"
   ]
  },
  {
   "cell_type": "code",
   "execution_count": null,
   "metadata": {
    "collapsed": false,
    "scrolled": true
   },
   "outputs": [],
   "source": [
    "submission = pd.DataFrame(np.column_stack([idx, cntr]), columns = ['id', 'country'])\n",
    "submission.to_csv('submissions/datebin_model.csv', index=False)"
   ]
  }
 ],
 "metadata": {
  "kernelspec": {
   "display_name": "Python 2",
   "language": "python",
   "name": "python2"
  },
  "language_info": {
   "codemirror_mode": {
    "name": "ipython",
    "version": 2
   },
   "file_extension": ".py",
   "mimetype": "text/x-python",
   "name": "python",
   "nbconvert_exporter": "python",
   "pygments_lexer": "ipython2",
   "version": "2.7.11"
  }
 },
 "nbformat": 4,
 "nbformat_minor": 0
}
