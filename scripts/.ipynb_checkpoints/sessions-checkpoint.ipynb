{
 "cells": [
  {
   "cell_type": "code",
   "execution_count": 145,
   "metadata": {
    "collapsed": false
   },
   "outputs": [
    {
     "data": {
      "text/plain": [
       "<module 'ftr_eng' from 'ftr_eng.py'>"
      ]
     },
     "execution_count": 145,
     "metadata": {},
     "output_type": "execute_result"
    }
   ],
   "source": [
    "%matplotlib inline\n",
    "import matplotlib.pyplot as plt\n",
    "#import graphviz\n",
    "import numpy as np\n",
    "import pandas as pd\n",
    "import xgboost as xgb\n",
    "import sys\n",
    "import kaggle_xgb\n",
    "import calc_ndcg\n",
    "import itertools\n",
    "import ftr_eng\n",
    "reload(ftr_eng)\n",
    "#from sklearn.grid_search import ParameterGrid"
   ]
  },
  {
   "cell_type": "markdown",
   "metadata": {},
   "source": [
    "Read in just the testing and training data."
   ]
  },
  {
   "cell_type": "code",
   "execution_count": 146,
   "metadata": {
    "collapsed": false
   },
   "outputs": [],
   "source": [
    "#train_subset = pd.read_csv('../data/train_users_2.csv', nrows = 100000, index_col='id')\n",
    "train_data = pd.read_csv('../data/train_users_2.csv', index_col = 'id')\n",
    "test_data = pd.read_csv('../data/test_users.csv', index_col = 'id')\n",
    "sessions = pd.read_csv('../data/sessions.csv')\n",
    "#age = pd.read_csv('../data/age_gender_bkts.csv')\n",
    "#countries = pd.read_csv('../data/countries.csv')"
   ]
  },
  {
   "cell_type": "code",
   "execution_count": 147,
   "metadata": {
    "collapsed": false
   },
   "outputs": [],
   "source": [
    "test_sessions = sessions[sessions.user_id.isin(test_data.index)]\n",
    "tr_sessions = sessions[sessions.user_id.isin(train_data.index)]\n",
    "tr_sessions.set_index('user_id', drop= False, inplace=True)\n",
    "tr_sessions = pd.concat([tr_sessions, train_data.country_destination], join = 'inner', axis = 1)"
   ]
  },
  {
   "cell_type": "code",
   "execution_count": 209,
   "metadata": {
    "collapsed": true
   },
   "outputs": [],
   "source": [
    "train_df = train_data.loc[train_data.index.isin(tr_sessions.user_id)]"
   ]
  },
  {
   "cell_type": "code",
   "execution_count": 210,
   "metadata": {
    "collapsed": false
   },
   "outputs": [],
   "source": [
    "train_df = ftr_eng.users(train_df)"
   ]
  },
  {
   "cell_type": "code",
   "execution_count": 195,
   "metadata": {
    "collapsed": true
   },
   "outputs": [],
   "source": [
    "post_cnts = tr_sessions.groupby(['user_id']).apply(lambda x: np.sum(x['action_type'] == 'message_post'))"
   ]
  },
  {
   "cell_type": "code",
   "execution_count": 211,
   "metadata": {
    "collapsed": false
   },
   "outputs": [],
   "source": [
    "train_df = pd.concat([train_df, posters_cnts], axis = 1, join = 'inner')\n",
    "train_df = train_df.rename(columns = {0:'post_cnts'})"
   ]
  },
  {
   "cell_type": "code",
   "execution_count": null,
   "metadata": {
    "collapsed": true
   },
   "outputs": [],
   "source": []
  },
  {
   "cell_type": "code",
   "execution_count": null,
   "metadata": {
    "collapsed": false
   },
   "outputs": [],
   "source": [
    "axes = plt.gca()\n",
    "axes.set_xlim([0,20000])\n",
    "#s.hist(ax=axes, bins= 1000)\n",
    "tr_sessions[tr_sessions.action == 'this_hosting_reviews']['secs_elapsed'].hist(bins = 1000)"
   ]
  },
  {
   "cell_type": "code",
   "execution_count": 267,
   "metadata": {
    "collapsed": false
   },
   "outputs": [
    {
     "name": "stdout",
     "output_type": "stream",
     "text": [
      "facebook_auto_login\n",
      "populate_from_facebook\n",
      "guest_booked_elsewhere\n",
      "booking\n"
     ]
    }
   ],
   "source": [
    "acts = tr_sessions.action.unique()\n",
    "acts = [x for x in acts if x is not np.NaN]\n",
    "for x in acts:\n",
    "    if 'book' in x:\n",
    "        print x"
   ]
  },
  {
   "cell_type": "code",
   "execution_count": 93,
   "metadata": {
    "collapsed": false
   },
   "outputs": [
    {
     "name": "stdout",
     "output_type": "stream",
     "text": [
      "31358\n"
     ]
    }
   ],
   "source": [
    "#31358 users posted messages in test set, it's worth distinguishing NDF and non-NDF?\n",
    "#fifty-fifty split\n",
    "print len(test_sessions.query('action_type == \"message_post\"').index.unique())\n",
    "posters = tr_sessions.query('action_type == \"message_post\"').index.unique()\n",
    "train_data.loc[posters, 'country_destination'].value_counts(normalize = True)"
   ]
  },
  {
   "cell_type": "code",
   "execution_count": 174,
   "metadata": {
    "collapsed": false
   },
   "outputs": [
    {
     "data": {
      "text/plain": [
       "0"
      ]
     },
     "execution_count": 174,
     "metadata": {},
     "output_type": "execute_result"
    }
   ],
   "source": [
    "len(tr_sessions.query('user_id == \"001wyh0pz8\" & action_type == \"message_post\"'))"
   ]
  },
  {
   "cell_type": "code",
   "execution_count": null,
   "metadata": {
    "collapsed": true
   },
   "outputs": [],
   "source": []
  },
  {
   "cell_type": "code",
   "execution_count": 270,
   "metadata": {
    "collapsed": false
   },
   "outputs": [
    {
     "data": {
      "text/plain": [
       "105"
      ]
     },
     "execution_count": 270,
     "metadata": {},
     "output_type": "execute_result"
    }
   ],
   "source": [
    "len(cancel_NDF)"
   ]
  },
  {
   "cell_type": "code",
   "execution_count": null,
   "metadata": {
    "collapsed": true
   },
   "outputs": [],
   "source": [
    "print len(test_sessions.query('action_type == \"booking_request\"').index.unique())\n",
    "train_data.loc[all_bookers, 'country_destination'].value_counts(normalize = True)"
   ]
  },
  {
   "cell_type": "code",
   "execution_count": 90,
   "metadata": {
    "collapsed": false
   },
   "outputs": [
    {
     "name": "stdout",
     "output_type": "stream",
     "text": [
      "8067\n"
     ]
    },
    {
     "data": {
      "text/plain": [
       "US       0.607918\n",
       "NDF      0.153654\n",
       "other    0.095371\n",
       "FR       0.039388\n",
       "IT       0.029291\n",
       "GB       0.020894\n",
       "ES       0.020294\n",
       "CA       0.013196\n",
       "NL       0.007398\n",
       "DE       0.005498\n",
       "AU       0.003799\n",
       "PT       0.003299\n",
       "Name: country_destination, dtype: float64"
      ]
     },
     "execution_count": 90,
     "metadata": {},
     "output_type": "execute_result"
    }
   ],
   "source": [
    "#8067 booking requests in test set, it's worth distinguishing NDF and non-NDF\n",
    "print len(test_sessions.query('action_type == \"booking_request\"').index.unique())\n",
    "train_data.loc[all_bookers, 'country_destination'].value_counts(normalize = True)"
   ]
  },
  {
   "cell_type": "code",
   "execution_count": 89,
   "metadata": {
    "collapsed": false,
    "scrolled": false
   },
   "outputs": [],
   "source": [
    "all_bookers = tr_sessions.query('action_type == \"booking_request\"').index.unique()\n",
    "users_NDF = tr_sessions.query('action_type == \"booking_request\" & country_destination == \"NDF\"').index.unique()\n",
    "users_USA = tr_sessions.query('action_type == \"booking_request\" & country_destination == \"US\"').index.unique()\n",
    "#tr_sessions[tr_sessions.action_type == 'booking_request'].groupby('user_id').filter(lambda x: len('x.country_destination')>1)"
   ]
  },
  {
   "cell_type": "code",
   "execution_count": 85,
   "metadata": {
    "collapsed": false
   },
   "outputs": [
    {
     "data": {
      "text/plain": [
       "array(['4grx6yxeby', 'j0mufvhhoh', 'toga865pvz', ..., '3t1ghqlnr7',\n",
       "       'ujdsxdk0ed', '2ntc2mstbz'], dtype=object)"
      ]
     },
     "execution_count": 85,
     "metadata": {},
     "output_type": "execute_result"
    }
   ],
   "source": []
  },
  {
   "cell_type": "code",
   "execution_count": 81,
   "metadata": {
    "collapsed": false
   },
   "outputs": [
    {
     "data": {
      "text/plain": [
       "<matplotlib.axes._subplots.AxesSubplot at 0x7f5833612fd0>"
      ]
     },
     "execution_count": 81,
     "metadata": {},
     "output_type": "execute_result"
    },
    {
     "data": {
      "image/png": "[encoded data removed]",
      "text/plain": [
       "<matplotlib.figure.Figure at 0x7f583349ad10>"
      ]
     },
     "metadata": {},
     "output_type": "display_data"
    }
   ],
   "source": [
    "cancel_NDF.pos_norm.hist()"
   ]
  },
  {
   "cell_type": "code",
   "execution_count": 72,
   "metadata": {
    "collapsed": false
   },
   "outputs": [
    {
     "data": {
      "text/plain": [
       "<matplotlib.axes._subplots.AxesSubplot at 0x7f583361d090>"
      ]
     },
     "execution_count": 72,
     "metadata": {},
     "output_type": "execute_result"
    },
    {
     "data": {
      "image/png": "[encoded data removed]",
      "text/plain": [
       "<matplotlib.figure.Figure at 0x7f58335d7a50>"
      ]
     },
     "metadata": {},
     "output_type": "display_data"
    }
   ],
   "source": [
    "cancel.pos_norm.hist()"
   ]
  },
  {
   "cell_type": "code",
   "execution_count": 78,
   "metadata": {
    "collapsed": false
   },
   "outputs": [],
   "source": [
    "cancel_NDF = tr_sessions.query('action == \"cancel\" & country_destination == \"NDF\"')"
   ]
  },
  {
   "cell_type": "code",
   "execution_count": 56,
   "metadata": {
    "collapsed": false
   },
   "outputs": [
    {
     "data": {
      "text/plain": [
       "True"
      ]
     },
     "execution_count": 56,
     "metadata": {},
     "output_type": "execute_result"
    }
   ],
   "source": [
    "#set hierarchical index???\n",
    "x = tr_sessions.groupby('user_id').count().country_destination\n",
    "#groupby reorders user_id, so put back in the original order\n",
    "x = x.loc[tr_sessions.user_id.unique()]\n",
    "pos = [range(i) for i in x.tolist()]\n",
    "pos = list(itertools.chain.from_iterable(pos))\n",
    "tr_sessions['pos'] = pos\n",
    "len(pos) == len(tr_sessions)"
   ]
  },
  {
   "cell_type": "code",
   "execution_count": 65,
   "metadata": {
    "collapsed": false
   },
   "outputs": [
    {
     "data": {
      "text/plain": [
       "True"
      ]
     },
     "execution_count": 65,
     "metadata": {},
     "output_type": "execute_result"
    }
   ],
   "source": [
    "#position normalized by total number of actions\n",
    "pos_norm = [np.arange(total)/float(total-1) for total in x.tolist()]\n",
    "pos_norm = list(itertools.chain.from_iterable(pos_norm))\n",
    "tr_sessions['pos_norm'] = pos_norm\n",
    "len(pos_norm) == len(tr_sessions)"
   ]
  },
  {
   "cell_type": "code",
   "execution_count": null,
   "metadata": {
    "collapsed": false
   },
   "outputs": [],
   "source": [
    "len(test_sessions[test_sessions.action_type == 'booking_request'].groupby('user_id'))"
   ]
  },
  {
   "cell_type": "code",
   "execution_count": null,
   "metadata": {
    "collapsed": false
   },
   "outputs": [],
   "source": [
    "test_sessions[test_sessions.action == 'add_guests'].groupby('user_id').count()"
   ]
  },
  {
   "cell_type": "code",
   "execution_count": null,
   "metadata": {
    "collapsed": false
   },
   "outputs": [],
   "source": [
    "tr_sessions[tr_sessions.action == 'add_guests'].groupby('user_id')['country_destination'].unique()"
   ]
  },
  {
   "cell_type": "code",
   "execution_count": null,
   "metadata": {
    "collapsed": false
   },
   "outputs": [],
   "source": [
    "actions_both30 = set(tr_sessions.action.unique()) & set(actions_30.action.unique())"
   ]
  },
  {
   "cell_type": "code",
   "execution_count": null,
   "metadata": {
    "collapsed": false
   },
   "outputs": [],
   "source": [
    "actions_30 = test_sessions.groupby('action').filter(lambda x: x['user_id'].nunique()>30)"
   ]
  },
  {
   "cell_type": "code",
   "execution_count": 330,
   "metadata": {
    "collapsed": false
   },
   "outputs": [
    {
     "data": {
      "text/plain": [
       "NDF      1514\n",
       "US        806\n",
       "other     155\n",
       "FR         46\n",
       "IT         43\n",
       "ES         31\n",
       "GB         29\n",
       "DE         16\n",
       "CA         13\n",
       "NL          8\n",
       "AU          7\n",
       "Name: country_destination, dtype: int64"
      ]
     },
     "execution_count": 330,
     "metadata": {},
     "output_type": "execute_result"
    }
   ],
   "source": [
    "getcntr('hosting_social_proof', tr_sessions.action, train_data)"
   ]
  },
  {
   "cell_type": "code",
   "execution_count": 287,
   "metadata": {
    "collapsed": false
   },
   "outputs": [
    {
     "data": {
      "text/plain": [
       "NDF      14\n",
       "other    11\n",
       "US        7\n",
       "IT        4\n",
       "ES        3\n",
       "FR        3\n",
       "DE        1\n",
       "Name: country_destination, dtype: int64"
      ]
     },
     "execution_count": 287,
     "metadata": {},
     "output_type": "execute_result"
    }
   ],
   "source": [
    "getcntr('ajax_google_translate', tr_sessions, train_data)"
   ]
  },
  {
   "cell_type": "code",
   "execution_count": null,
   "metadata": {
    "collapsed": true
   },
   "outputs": [],
   "source": [
    "tr_sessions[tr_sessions.user_id == 'd1mm9tcy42']"
   ]
  },
  {
   "cell_type": "code",
   "execution_count": 316,
   "metadata": {
    "collapsed": false
   },
   "outputs": [
    {
     "data": {
      "text/plain": [
       "NDF      5634\n",
       "US       3929\n",
       "other     818\n",
       "FR        258\n",
       "IT        166\n",
       "ES        143\n",
       "GB        137\n",
       "CA         86\n",
       "DE         65\n",
       "NL         39\n",
       "AU         32\n",
       "PT         10\n",
       "Name: country_destination, dtype: int64"
      ]
     },
     "execution_count": 316,
     "metadata": {},
     "output_type": "execute_result"
    }
   ],
   "source": [
    "getcntr('change_contact_host_dates', tr_sessions.action_detail, train_data)"
   ]
  },
  {
   "cell_type": "code",
   "execution_count": 335,
   "metadata": {
    "collapsed": false,
    "scrolled": false
   },
   "outputs": [
    {
     "data": {
      "text/plain": [
       "array([nan, 'view_search_results', 'wishlist_content_update',\n",
       "       'similar_listings', 'change_trip_characteristics', 'p3',\n",
       "       'header_userpic', 'contact_host', 'message_post', '-unknown-'], dtype=object)"
      ]
     },
     "execution_count": 335,
     "metadata": {},
     "output_type": "execute_result"
    }
   ],
   "source": [
    "tr_sessions[tr_sessions.user_id == 'd1mm9tcy42'].action_detail.unique()"
   ]
  },
  {
   "cell_type": "code",
   "execution_count": 319,
   "metadata": {
    "collapsed": false
   },
   "outputs": [
    {
     "data": {
      "text/plain": [
       "array(['similar_listings', nan, 'wishlist_content_update',\n",
       "       'view_search_results', 'p3', 'change_trip_characteristics',\n",
       "       'contact_host', 'change_contact_host_dates', 'message_post',\n",
       "       '-unknown-', 'header_userpic'], dtype=object)"
      ]
     },
     "execution_count": 319,
     "metadata": {},
     "output_type": "execute_result"
    }
   ],
   "source": [
    "tr_sessions[tr_sessions.user_id == 'jluu5qcwhg'].action_detail.unique()"
   ]
  },
  {
   "cell_type": "markdown",
   "metadata": {},
   "source": [
    "tr_sessions[tr_sessions.user_id == 'qtw88d9pbl'].action_detail.unique()"
   ]
  },
  {
   "cell_type": "code",
   "execution_count": 328,
   "metadata": {
    "collapsed": false
   },
   "outputs": [
    {
     "data": {
      "text/html": [
       "<div>\n",
       "<table border=\"1\" class=\"dataframe\">\n",
       "  <thead>\n",
       "    <tr style=\"text-align: right;\">\n",
       "      <th></th>\n",
       "      <th>user_id</th>\n",
       "      <th>action</th>\n",
       "      <th>action_type</th>\n",
       "      <th>action_detail</th>\n",
       "      <th>device_type</th>\n",
       "      <th>secs_elapsed</th>\n",
       "      <th>country_destination</th>\n",
       "    </tr>\n",
       "  </thead>\n",
       "  <tbody>\n",
       "    <tr>\n",
       "      <th>d1mm9tcy42</th>\n",
       "      <td>d1mm9tcy42</td>\n",
       "      <td>ajax_refresh_subtotal</td>\n",
       "      <td>click</td>\n",
       "      <td>change_trip_characteristics</td>\n",
       "      <td>Windows Desktop</td>\n",
       "      <td>8134</td>\n",
       "      <td>other</td>\n",
       "    </tr>\n",
       "    <tr>\n",
       "      <th>d1mm9tcy42</th>\n",
       "      <td>d1mm9tcy42</td>\n",
       "      <td>ajax_refresh_subtotal</td>\n",
       "      <td>click</td>\n",
       "      <td>change_trip_characteristics</td>\n",
       "      <td>Windows Desktop</td>\n",
       "      <td>175570</td>\n",
       "      <td>other</td>\n",
       "    </tr>\n",
       "    <tr>\n",
       "      <th>d1mm9tcy42</th>\n",
       "      <td>d1mm9tcy42</td>\n",
       "      <td>ajax_refresh_subtotal</td>\n",
       "      <td>click</td>\n",
       "      <td>change_trip_characteristics</td>\n",
       "      <td>Windows Desktop</td>\n",
       "      <td>982</td>\n",
       "      <td>other</td>\n",
       "    </tr>\n",
       "    <tr>\n",
       "      <th>d1mm9tcy42</th>\n",
       "      <td>d1mm9tcy42</td>\n",
       "      <td>ajax_refresh_subtotal</td>\n",
       "      <td>click</td>\n",
       "      <td>change_trip_characteristics</td>\n",
       "      <td>Windows Desktop</td>\n",
       "      <td>1013</td>\n",
       "      <td>other</td>\n",
       "    </tr>\n",
       "    <tr>\n",
       "      <th>d1mm9tcy42</th>\n",
       "      <td>d1mm9tcy42</td>\n",
       "      <td>ajax_refresh_subtotal</td>\n",
       "      <td>click</td>\n",
       "      <td>change_trip_characteristics</td>\n",
       "      <td>Windows Desktop</td>\n",
       "      <td>427</td>\n",
       "      <td>other</td>\n",
       "    </tr>\n",
       "    <tr>\n",
       "      <th>d1mm9tcy42</th>\n",
       "      <td>d1mm9tcy42</td>\n",
       "      <td>ajax_refresh_subtotal</td>\n",
       "      <td>click</td>\n",
       "      <td>change_trip_characteristics</td>\n",
       "      <td>Windows Desktop</td>\n",
       "      <td>212772</td>\n",
       "      <td>other</td>\n",
       "    </tr>\n",
       "    <tr>\n",
       "      <th>d1mm9tcy42</th>\n",
       "      <td>d1mm9tcy42</td>\n",
       "      <td>ajax_refresh_subtotal</td>\n",
       "      <td>click</td>\n",
       "      <td>change_trip_characteristics</td>\n",
       "      <td>Windows Desktop</td>\n",
       "      <td>42050</td>\n",
       "      <td>other</td>\n",
       "    </tr>\n",
       "    <tr>\n",
       "      <th>d1mm9tcy42</th>\n",
       "      <td>d1mm9tcy42</td>\n",
       "      <td>ajax_refresh_subtotal</td>\n",
       "      <td>click</td>\n",
       "      <td>change_trip_characteristics</td>\n",
       "      <td>Windows Desktop</td>\n",
       "      <td>791</td>\n",
       "      <td>other</td>\n",
       "    </tr>\n",
       "    <tr>\n",
       "      <th>ncf87guaf0</th>\n",
       "      <td>ncf87guaf0</td>\n",
       "      <td>ajax_refresh_subtotal</td>\n",
       "      <td>click</td>\n",
       "      <td>change_trip_characteristics</td>\n",
       "      <td>Windows Desktop</td>\n",
       "      <td>3664</td>\n",
       "      <td>NDF</td>\n",
       "    </tr>\n",
       "    <tr>\n",
       "      <th>ncf87guaf0</th>\n",
       "      <td>ncf87guaf0</td>\n",
       "      <td>ajax_refresh_subtotal</td>\n",
       "      <td>click</td>\n",
       "      <td>change_trip_characteristics</td>\n",
       "      <td>Windows Desktop</td>\n",
       "      <td>3913</td>\n",
       "      <td>NDF</td>\n",
       "    </tr>\n",
       "    <tr>\n",
       "      <th>ncf87guaf0</th>\n",
       "      <td>ncf87guaf0</td>\n",
       "      <td>ajax_refresh_subtotal</td>\n",
       "      <td>click</td>\n",
       "      <td>change_trip_characteristics</td>\n",
       "      <td>Windows Desktop</td>\n",
       "      <td>29411</td>\n",
       "      <td>NDF</td>\n",
       "    </tr>\n",
       "    <tr>\n",
       "      <th>ncf87guaf0</th>\n",
       "      <td>ncf87guaf0</td>\n",
       "      <td>ajax_refresh_subtotal</td>\n",
       "      <td>click</td>\n",
       "      <td>change_trip_characteristics</td>\n",
       "      <td>Windows Desktop</td>\n",
       "      <td>3522</td>\n",
       "      <td>NDF</td>\n",
       "    </tr>\n",
       "    <tr>\n",
       "      <th>ncf87guaf0</th>\n",
       "      <td>ncf87guaf0</td>\n",
       "      <td>ajax_refresh_subtotal</td>\n",
       "      <td>click</td>\n",
       "      <td>change_trip_characteristics</td>\n",
       "      <td>Windows Desktop</td>\n",
       "      <td>36368</td>\n",
       "      <td>NDF</td>\n",
       "    </tr>\n",
       "    <tr>\n",
       "      <th>ncf87guaf0</th>\n",
       "      <td>ncf87guaf0</td>\n",
       "      <td>ajax_refresh_subtotal</td>\n",
       "      <td>click</td>\n",
       "      <td>change_trip_characteristics</td>\n",
       "      <td>Windows Desktop</td>\n",
       "      <td>3189</td>\n",
       "      <td>NDF</td>\n",
       "    </tr>\n",
       "    <tr>\n",
       "      <th>ncf87guaf0</th>\n",
       "      <td>ncf87guaf0</td>\n",
       "      <td>ajax_refresh_subtotal</td>\n",
       "      <td>click</td>\n",
       "      <td>change_trip_characteristics</td>\n",
       "      <td>Windows Desktop</td>\n",
       "      <td>1985</td>\n",
       "      <td>NDF</td>\n",
       "    </tr>\n",
       "    <tr>\n",
       "      <th>ncf87guaf0</th>\n",
       "      <td>ncf87guaf0</td>\n",
       "      <td>ajax_refresh_subtotal</td>\n",
       "      <td>click</td>\n",
       "      <td>change_trip_characteristics</td>\n",
       "      <td>Windows Desktop</td>\n",
       "      <td>408632</td>\n",
       "      <td>NDF</td>\n",
       "    </tr>\n",
       "    <tr>\n",
       "      <th>ncf87guaf0</th>\n",
       "      <td>ncf87guaf0</td>\n",
       "      <td>ajax_refresh_subtotal</td>\n",
       "      <td>click</td>\n",
       "      <td>change_trip_characteristics</td>\n",
       "      <td>Windows Desktop</td>\n",
       "      <td>1568</td>\n",
       "      <td>NDF</td>\n",
       "    </tr>\n",
       "    <tr>\n",
       "      <th>ncf87guaf0</th>\n",
       "      <td>ncf87guaf0</td>\n",
       "      <td>ajax_refresh_subtotal</td>\n",
       "      <td>click</td>\n",
       "      <td>change_trip_characteristics</td>\n",
       "      <td>Windows Desktop</td>\n",
       "      <td>2966</td>\n",
       "      <td>NDF</td>\n",
       "    </tr>\n",
       "    <tr>\n",
       "      <th>ncf87guaf0</th>\n",
       "      <td>ncf87guaf0</td>\n",
       "      <td>ajax_refresh_subtotal</td>\n",
       "      <td>click</td>\n",
       "      <td>change_trip_characteristics</td>\n",
       "      <td>Windows Desktop</td>\n",
       "      <td>4853</td>\n",
       "      <td>NDF</td>\n",
       "    </tr>\n",
       "    <tr>\n",
       "      <th>ncf87guaf0</th>\n",
       "      <td>ncf87guaf0</td>\n",
       "      <td>ajax_refresh_subtotal</td>\n",
       "      <td>click</td>\n",
       "      <td>change_trip_characteristics</td>\n",
       "      <td>Windows Desktop</td>\n",
       "      <td>27901</td>\n",
       "      <td>NDF</td>\n",
       "    </tr>\n",
       "    <tr>\n",
       "      <th>ncf87guaf0</th>\n",
       "      <td>ncf87guaf0</td>\n",
       "      <td>ajax_refresh_subtotal</td>\n",
       "      <td>click</td>\n",
       "      <td>change_trip_characteristics</td>\n",
       "      <td>Windows Desktop</td>\n",
       "      <td>2995</td>\n",
       "      <td>NDF</td>\n",
       "    </tr>\n",
       "    <tr>\n",
       "      <th>ncf87guaf0</th>\n",
       "      <td>ncf87guaf0</td>\n",
       "      <td>ajax_refresh_subtotal</td>\n",
       "      <td>click</td>\n",
       "      <td>change_trip_characteristics</td>\n",
       "      <td>Windows Desktop</td>\n",
       "      <td>4362</td>\n",
       "      <td>NDF</td>\n",
       "    </tr>\n",
       "    <tr>\n",
       "      <th>ncf87guaf0</th>\n",
       "      <td>ncf87guaf0</td>\n",
       "      <td>ajax_refresh_subtotal</td>\n",
       "      <td>click</td>\n",
       "      <td>change_trip_characteristics</td>\n",
       "      <td>Windows Desktop</td>\n",
       "      <td>211117</td>\n",
       "      <td>NDF</td>\n",
       "    </tr>\n",
       "    <tr>\n",
       "      <th>ncf87guaf0</th>\n",
       "      <td>ncf87guaf0</td>\n",
       "      <td>ajax_refresh_subtotal</td>\n",
       "      <td>click</td>\n",
       "      <td>change_trip_characteristics</td>\n",
       "      <td>Windows Desktop</td>\n",
       "      <td>22258</td>\n",
       "      <td>NDF</td>\n",
       "    </tr>\n",
       "    <tr>\n",
       "      <th>ncf87guaf0</th>\n",
       "      <td>ncf87guaf0</td>\n",
       "      <td>ajax_refresh_subtotal</td>\n",
       "      <td>click</td>\n",
       "      <td>change_trip_characteristics</td>\n",
       "      <td>Windows Desktop</td>\n",
       "      <td>225993</td>\n",
       "      <td>NDF</td>\n",
       "    </tr>\n",
       "    <tr>\n",
       "      <th>ncf87guaf0</th>\n",
       "      <td>ncf87guaf0</td>\n",
       "      <td>ajax_refresh_subtotal</td>\n",
       "      <td>click</td>\n",
       "      <td>change_trip_characteristics</td>\n",
       "      <td>Windows Desktop</td>\n",
       "      <td>13209</td>\n",
       "      <td>NDF</td>\n",
       "    </tr>\n",
       "    <tr>\n",
       "      <th>ncf87guaf0</th>\n",
       "      <td>ncf87guaf0</td>\n",
       "      <td>ajax_refresh_subtotal</td>\n",
       "      <td>click</td>\n",
       "      <td>change_trip_characteristics</td>\n",
       "      <td>Windows Desktop</td>\n",
       "      <td>97839</td>\n",
       "      <td>NDF</td>\n",
       "    </tr>\n",
       "    <tr>\n",
       "      <th>ncf87guaf0</th>\n",
       "      <td>ncf87guaf0</td>\n",
       "      <td>ajax_refresh_subtotal</td>\n",
       "      <td>click</td>\n",
       "      <td>change_trip_characteristics</td>\n",
       "      <td>Windows Desktop</td>\n",
       "      <td>6864</td>\n",
       "      <td>NDF</td>\n",
       "    </tr>\n",
       "    <tr>\n",
       "      <th>ncf87guaf0</th>\n",
       "      <td>ncf87guaf0</td>\n",
       "      <td>ajax_refresh_subtotal</td>\n",
       "      <td>click</td>\n",
       "      <td>change_trip_characteristics</td>\n",
       "      <td>Windows Desktop</td>\n",
       "      <td>7103</td>\n",
       "      <td>NDF</td>\n",
       "    </tr>\n",
       "    <tr>\n",
       "      <th>ncf87guaf0</th>\n",
       "      <td>ncf87guaf0</td>\n",
       "      <td>ajax_refresh_subtotal</td>\n",
       "      <td>click</td>\n",
       "      <td>change_trip_characteristics</td>\n",
       "      <td>Windows Desktop</td>\n",
       "      <td>5257</td>\n",
       "      <td>NDF</td>\n",
       "    </tr>\n",
       "    <tr>\n",
       "      <th>...</th>\n",
       "      <td>...</td>\n",
       "      <td>...</td>\n",
       "      <td>...</td>\n",
       "      <td>...</td>\n",
       "      <td>...</td>\n",
       "      <td>...</td>\n",
       "      <td>...</td>\n",
       "    </tr>\n",
       "    <tr>\n",
       "      <th>mhewnxesx9</th>\n",
       "      <td>mhewnxesx9</td>\n",
       "      <td>ajax_refresh_subtotal</td>\n",
       "      <td>click</td>\n",
       "      <td>change_trip_characteristics</td>\n",
       "      <td>Windows Desktop</td>\n",
       "      <td>797</td>\n",
       "      <td>NDF</td>\n",
       "    </tr>\n",
       "    <tr>\n",
       "      <th>mhewnxesx9</th>\n",
       "      <td>mhewnxesx9</td>\n",
       "      <td>ajax_refresh_subtotal</td>\n",
       "      <td>click</td>\n",
       "      <td>change_trip_characteristics</td>\n",
       "      <td>Windows Desktop</td>\n",
       "      <td>532</td>\n",
       "      <td>NDF</td>\n",
       "    </tr>\n",
       "    <tr>\n",
       "      <th>mhewnxesx9</th>\n",
       "      <td>mhewnxesx9</td>\n",
       "      <td>ajax_refresh_subtotal</td>\n",
       "      <td>click</td>\n",
       "      <td>change_trip_characteristics</td>\n",
       "      <td>Windows Desktop</td>\n",
       "      <td>762</td>\n",
       "      <td>NDF</td>\n",
       "    </tr>\n",
       "    <tr>\n",
       "      <th>mhewnxesx9</th>\n",
       "      <td>mhewnxesx9</td>\n",
       "      <td>ajax_refresh_subtotal</td>\n",
       "      <td>click</td>\n",
       "      <td>change_trip_characteristics</td>\n",
       "      <td>Windows Desktop</td>\n",
       "      <td>509</td>\n",
       "      <td>NDF</td>\n",
       "    </tr>\n",
       "    <tr>\n",
       "      <th>mhewnxesx9</th>\n",
       "      <td>mhewnxesx9</td>\n",
       "      <td>ajax_refresh_subtotal</td>\n",
       "      <td>click</td>\n",
       "      <td>change_trip_characteristics</td>\n",
       "      <td>Windows Desktop</td>\n",
       "      <td>44833</td>\n",
       "      <td>NDF</td>\n",
       "    </tr>\n",
       "    <tr>\n",
       "      <th>mhewnxesx9</th>\n",
       "      <td>mhewnxesx9</td>\n",
       "      <td>ajax_refresh_subtotal</td>\n",
       "      <td>click</td>\n",
       "      <td>change_trip_characteristics</td>\n",
       "      <td>Windows Desktop</td>\n",
       "      <td>4171</td>\n",
       "      <td>NDF</td>\n",
       "    </tr>\n",
       "    <tr>\n",
       "      <th>mhewnxesx9</th>\n",
       "      <td>mhewnxesx9</td>\n",
       "      <td>ajax_refresh_subtotal</td>\n",
       "      <td>click</td>\n",
       "      <td>change_trip_characteristics</td>\n",
       "      <td>Windows Desktop</td>\n",
       "      <td>673</td>\n",
       "      <td>NDF</td>\n",
       "    </tr>\n",
       "    <tr>\n",
       "      <th>mhewnxesx9</th>\n",
       "      <td>mhewnxesx9</td>\n",
       "      <td>ajax_refresh_subtotal</td>\n",
       "      <td>click</td>\n",
       "      <td>change_trip_characteristics</td>\n",
       "      <td>Windows Desktop</td>\n",
       "      <td>464</td>\n",
       "      <td>NDF</td>\n",
       "    </tr>\n",
       "    <tr>\n",
       "      <th>mhewnxesx9</th>\n",
       "      <td>mhewnxesx9</td>\n",
       "      <td>ajax_refresh_subtotal</td>\n",
       "      <td>click</td>\n",
       "      <td>change_trip_characteristics</td>\n",
       "      <td>Windows Desktop</td>\n",
       "      <td>499</td>\n",
       "      <td>NDF</td>\n",
       "    </tr>\n",
       "    <tr>\n",
       "      <th>mhewnxesx9</th>\n",
       "      <td>mhewnxesx9</td>\n",
       "      <td>ajax_refresh_subtotal</td>\n",
       "      <td>click</td>\n",
       "      <td>change_trip_characteristics</td>\n",
       "      <td>Windows Desktop</td>\n",
       "      <td>488</td>\n",
       "      <td>NDF</td>\n",
       "    </tr>\n",
       "    <tr>\n",
       "      <th>mhewnxesx9</th>\n",
       "      <td>mhewnxesx9</td>\n",
       "      <td>ajax_refresh_subtotal</td>\n",
       "      <td>click</td>\n",
       "      <td>change_trip_characteristics</td>\n",
       "      <td>Windows Desktop</td>\n",
       "      <td>39331</td>\n",
       "      <td>NDF</td>\n",
       "    </tr>\n",
       "    <tr>\n",
       "      <th>mhewnxesx9</th>\n",
       "      <td>mhewnxesx9</td>\n",
       "      <td>ajax_refresh_subtotal</td>\n",
       "      <td>click</td>\n",
       "      <td>change_trip_characteristics</td>\n",
       "      <td>Windows Desktop</td>\n",
       "      <td>687</td>\n",
       "      <td>NDF</td>\n",
       "    </tr>\n",
       "    <tr>\n",
       "      <th>mhewnxesx9</th>\n",
       "      <td>mhewnxesx9</td>\n",
       "      <td>ajax_refresh_subtotal</td>\n",
       "      <td>click</td>\n",
       "      <td>change_trip_characteristics</td>\n",
       "      <td>Windows Desktop</td>\n",
       "      <td>570</td>\n",
       "      <td>NDF</td>\n",
       "    </tr>\n",
       "    <tr>\n",
       "      <th>mhewnxesx9</th>\n",
       "      <td>mhewnxesx9</td>\n",
       "      <td>ajax_refresh_subtotal</td>\n",
       "      <td>click</td>\n",
       "      <td>change_trip_characteristics</td>\n",
       "      <td>Windows Desktop</td>\n",
       "      <td>29</td>\n",
       "      <td>NDF</td>\n",
       "    </tr>\n",
       "    <tr>\n",
       "      <th>mhewnxesx9</th>\n",
       "      <td>mhewnxesx9</td>\n",
       "      <td>ajax_refresh_subtotal</td>\n",
       "      <td>click</td>\n",
       "      <td>change_trip_characteristics</td>\n",
       "      <td>Windows Desktop</td>\n",
       "      <td>72</td>\n",
       "      <td>NDF</td>\n",
       "    </tr>\n",
       "    <tr>\n",
       "      <th>mhewnxesx9</th>\n",
       "      <td>mhewnxesx9</td>\n",
       "      <td>ajax_refresh_subtotal</td>\n",
       "      <td>click</td>\n",
       "      <td>change_trip_characteristics</td>\n",
       "      <td>Windows Desktop</td>\n",
       "      <td>20</td>\n",
       "      <td>NDF</td>\n",
       "    </tr>\n",
       "    <tr>\n",
       "      <th>mhewnxesx9</th>\n",
       "      <td>mhewnxesx9</td>\n",
       "      <td>ajax_refresh_subtotal</td>\n",
       "      <td>click</td>\n",
       "      <td>change_trip_characteristics</td>\n",
       "      <td>Windows Desktop</td>\n",
       "      <td>28</td>\n",
       "      <td>NDF</td>\n",
       "    </tr>\n",
       "    <tr>\n",
       "      <th>mhewnxesx9</th>\n",
       "      <td>mhewnxesx9</td>\n",
       "      <td>ajax_refresh_subtotal</td>\n",
       "      <td>click</td>\n",
       "      <td>change_trip_characteristics</td>\n",
       "      <td>Windows Desktop</td>\n",
       "      <td>4</td>\n",
       "      <td>NDF</td>\n",
       "    </tr>\n",
       "    <tr>\n",
       "      <th>mhewnxesx9</th>\n",
       "      <td>mhewnxesx9</td>\n",
       "      <td>ajax_refresh_subtotal</td>\n",
       "      <td>click</td>\n",
       "      <td>change_trip_characteristics</td>\n",
       "      <td>Windows Desktop</td>\n",
       "      <td>468</td>\n",
       "      <td>NDF</td>\n",
       "    </tr>\n",
       "    <tr>\n",
       "      <th>mhewnxesx9</th>\n",
       "      <td>mhewnxesx9</td>\n",
       "      <td>ajax_refresh_subtotal</td>\n",
       "      <td>click</td>\n",
       "      <td>change_trip_characteristics</td>\n",
       "      <td>Windows Desktop</td>\n",
       "      <td>411</td>\n",
       "      <td>NDF</td>\n",
       "    </tr>\n",
       "    <tr>\n",
       "      <th>mhewnxesx9</th>\n",
       "      <td>mhewnxesx9</td>\n",
       "      <td>ajax_refresh_subtotal</td>\n",
       "      <td>click</td>\n",
       "      <td>change_trip_characteristics</td>\n",
       "      <td>Windows Desktop</td>\n",
       "      <td>570</td>\n",
       "      <td>NDF</td>\n",
       "    </tr>\n",
       "    <tr>\n",
       "      <th>mhewnxesx9</th>\n",
       "      <td>mhewnxesx9</td>\n",
       "      <td>ajax_refresh_subtotal</td>\n",
       "      <td>click</td>\n",
       "      <td>change_trip_characteristics</td>\n",
       "      <td>Windows Desktop</td>\n",
       "      <td>528</td>\n",
       "      <td>NDF</td>\n",
       "    </tr>\n",
       "    <tr>\n",
       "      <th>mhewnxesx9</th>\n",
       "      <td>mhewnxesx9</td>\n",
       "      <td>ajax_refresh_subtotal</td>\n",
       "      <td>click</td>\n",
       "      <td>change_trip_characteristics</td>\n",
       "      <td>Windows Desktop</td>\n",
       "      <td>391</td>\n",
       "      <td>NDF</td>\n",
       "    </tr>\n",
       "    <tr>\n",
       "      <th>mhewnxesx9</th>\n",
       "      <td>mhewnxesx9</td>\n",
       "      <td>ajax_refresh_subtotal</td>\n",
       "      <td>click</td>\n",
       "      <td>change_trip_characteristics</td>\n",
       "      <td>Windows Desktop</td>\n",
       "      <td>812</td>\n",
       "      <td>NDF</td>\n",
       "    </tr>\n",
       "    <tr>\n",
       "      <th>mhewnxesx9</th>\n",
       "      <td>mhewnxesx9</td>\n",
       "      <td>ajax_refresh_subtotal</td>\n",
       "      <td>click</td>\n",
       "      <td>change_trip_characteristics</td>\n",
       "      <td>Windows Desktop</td>\n",
       "      <td>3638</td>\n",
       "      <td>NDF</td>\n",
       "    </tr>\n",
       "    <tr>\n",
       "      <th>mhewnxesx9</th>\n",
       "      <td>mhewnxesx9</td>\n",
       "      <td>ajax_refresh_subtotal</td>\n",
       "      <td>click</td>\n",
       "      <td>change_trip_characteristics</td>\n",
       "      <td>Windows Desktop</td>\n",
       "      <td>556</td>\n",
       "      <td>NDF</td>\n",
       "    </tr>\n",
       "    <tr>\n",
       "      <th>mhewnxesx9</th>\n",
       "      <td>mhewnxesx9</td>\n",
       "      <td>ajax_refresh_subtotal</td>\n",
       "      <td>click</td>\n",
       "      <td>change_trip_characteristics</td>\n",
       "      <td>Windows Desktop</td>\n",
       "      <td>13656</td>\n",
       "      <td>NDF</td>\n",
       "    </tr>\n",
       "    <tr>\n",
       "      <th>mhewnxesx9</th>\n",
       "      <td>mhewnxesx9</td>\n",
       "      <td>ajax_refresh_subtotal</td>\n",
       "      <td>click</td>\n",
       "      <td>change_trip_characteristics</td>\n",
       "      <td>Windows Desktop</td>\n",
       "      <td>585</td>\n",
       "      <td>NDF</td>\n",
       "    </tr>\n",
       "    <tr>\n",
       "      <th>6o3arsjbb4</th>\n",
       "      <td>6o3arsjbb4</td>\n",
       "      <td>ajax_refresh_subtotal</td>\n",
       "      <td>click</td>\n",
       "      <td>change_trip_characteristics</td>\n",
       "      <td>Mac Desktop</td>\n",
       "      <td>1432</td>\n",
       "      <td>NDF</td>\n",
       "    </tr>\n",
       "    <tr>\n",
       "      <th>6o3arsjbb4</th>\n",
       "      <td>6o3arsjbb4</td>\n",
       "      <td>ajax_refresh_subtotal</td>\n",
       "      <td>click</td>\n",
       "      <td>change_trip_characteristics</td>\n",
       "      <td>Mac Desktop</td>\n",
       "      <td>39</td>\n",
       "      <td>NDF</td>\n",
       "    </tr>\n",
       "  </tbody>\n",
       "</table>\n",
       "<p>315766 rows × 7 columns</p>\n",
       "</div>"
      ],
      "text/plain": [
       "               user_id                 action action_type  \\\n",
       "d1mm9tcy42  d1mm9tcy42  ajax_refresh_subtotal       click   \n",
       "d1mm9tcy42  d1mm9tcy42  ajax_refresh_subtotal       click   \n",
       "d1mm9tcy42  d1mm9tcy42  ajax_refresh_subtotal       click   \n",
       "d1mm9tcy42  d1mm9tcy42  ajax_refresh_subtotal       click   \n",
       "d1mm9tcy42  d1mm9tcy42  ajax_refresh_subtotal       click   \n",
       "d1mm9tcy42  d1mm9tcy42  ajax_refresh_subtotal       click   \n",
       "d1mm9tcy42  d1mm9tcy42  ajax_refresh_subtotal       click   \n",
       "d1mm9tcy42  d1mm9tcy42  ajax_refresh_subtotal       click   \n",
       "ncf87guaf0  ncf87guaf0  ajax_refresh_subtotal       click   \n",
       "ncf87guaf0  ncf87guaf0  ajax_refresh_subtotal       click   \n",
       "ncf87guaf0  ncf87guaf0  ajax_refresh_subtotal       click   \n",
       "ncf87guaf0  ncf87guaf0  ajax_refresh_subtotal       click   \n",
       "ncf87guaf0  ncf87guaf0  ajax_refresh_subtotal       click   \n",
       "ncf87guaf0  ncf87guaf0  ajax_refresh_subtotal       click   \n",
       "ncf87guaf0  ncf87guaf0  ajax_refresh_subtotal       click   \n",
       "ncf87guaf0  ncf87guaf0  ajax_refresh_subtotal       click   \n",
       "ncf87guaf0  ncf87guaf0  ajax_refresh_subtotal       click   \n",
       "ncf87guaf0  ncf87guaf0  ajax_refresh_subtotal       click   \n",
       "ncf87guaf0  ncf87guaf0  ajax_refresh_subtotal       click   \n",
       "ncf87guaf0  ncf87guaf0  ajax_refresh_subtotal       click   \n",
       "ncf87guaf0  ncf87guaf0  ajax_refresh_subtotal       click   \n",
       "ncf87guaf0  ncf87guaf0  ajax_refresh_subtotal       click   \n",
       "ncf87guaf0  ncf87guaf0  ajax_refresh_subtotal       click   \n",
       "ncf87guaf0  ncf87guaf0  ajax_refresh_subtotal       click   \n",
       "ncf87guaf0  ncf87guaf0  ajax_refresh_subtotal       click   \n",
       "ncf87guaf0  ncf87guaf0  ajax_refresh_subtotal       click   \n",
       "ncf87guaf0  ncf87guaf0  ajax_refresh_subtotal       click   \n",
       "ncf87guaf0  ncf87guaf0  ajax_refresh_subtotal       click   \n",
       "ncf87guaf0  ncf87guaf0  ajax_refresh_subtotal       click   \n",
       "ncf87guaf0  ncf87guaf0  ajax_refresh_subtotal       click   \n",
       "...                ...                    ...         ...   \n",
       "mhewnxesx9  mhewnxesx9  ajax_refresh_subtotal       click   \n",
       "mhewnxesx9  mhewnxesx9  ajax_refresh_subtotal       click   \n",
       "mhewnxesx9  mhewnxesx9  ajax_refresh_subtotal       click   \n",
       "mhewnxesx9  mhewnxesx9  ajax_refresh_subtotal       click   \n",
       "mhewnxesx9  mhewnxesx9  ajax_refresh_subtotal       click   \n",
       "mhewnxesx9  mhewnxesx9  ajax_refresh_subtotal       click   \n",
       "mhewnxesx9  mhewnxesx9  ajax_refresh_subtotal       click   \n",
       "mhewnxesx9  mhewnxesx9  ajax_refresh_subtotal       click   \n",
       "mhewnxesx9  mhewnxesx9  ajax_refresh_subtotal       click   \n",
       "mhewnxesx9  mhewnxesx9  ajax_refresh_subtotal       click   \n",
       "mhewnxesx9  mhewnxesx9  ajax_refresh_subtotal       click   \n",
       "mhewnxesx9  mhewnxesx9  ajax_refresh_subtotal       click   \n",
       "mhewnxesx9  mhewnxesx9  ajax_refresh_subtotal       click   \n",
       "mhewnxesx9  mhewnxesx9  ajax_refresh_subtotal       click   \n",
       "mhewnxesx9  mhewnxesx9  ajax_refresh_subtotal       click   \n",
       "mhewnxesx9  mhewnxesx9  ajax_refresh_subtotal       click   \n",
       "mhewnxesx9  mhewnxesx9  ajax_refresh_subtotal       click   \n",
       "mhewnxesx9  mhewnxesx9  ajax_refresh_subtotal       click   \n",
       "mhewnxesx9  mhewnxesx9  ajax_refresh_subtotal       click   \n",
       "mhewnxesx9  mhewnxesx9  ajax_refresh_subtotal       click   \n",
       "mhewnxesx9  mhewnxesx9  ajax_refresh_subtotal       click   \n",
       "mhewnxesx9  mhewnxesx9  ajax_refresh_subtotal       click   \n",
       "mhewnxesx9  mhewnxesx9  ajax_refresh_subtotal       click   \n",
       "mhewnxesx9  mhewnxesx9  ajax_refresh_subtotal       click   \n",
       "mhewnxesx9  mhewnxesx9  ajax_refresh_subtotal       click   \n",
       "mhewnxesx9  mhewnxesx9  ajax_refresh_subtotal       click   \n",
       "mhewnxesx9  mhewnxesx9  ajax_refresh_subtotal       click   \n",
       "mhewnxesx9  mhewnxesx9  ajax_refresh_subtotal       click   \n",
       "6o3arsjbb4  6o3arsjbb4  ajax_refresh_subtotal       click   \n",
       "6o3arsjbb4  6o3arsjbb4  ajax_refresh_subtotal       click   \n",
       "\n",
       "                          action_detail      device_type  secs_elapsed  \\\n",
       "d1mm9tcy42  change_trip_characteristics  Windows Desktop          8134   \n",
       "d1mm9tcy42  change_trip_characteristics  Windows Desktop        175570   \n",
       "d1mm9tcy42  change_trip_characteristics  Windows Desktop           982   \n",
       "d1mm9tcy42  change_trip_characteristics  Windows Desktop          1013   \n",
       "d1mm9tcy42  change_trip_characteristics  Windows Desktop           427   \n",
       "d1mm9tcy42  change_trip_characteristics  Windows Desktop        212772   \n",
       "d1mm9tcy42  change_trip_characteristics  Windows Desktop         42050   \n",
       "d1mm9tcy42  change_trip_characteristics  Windows Desktop           791   \n",
       "ncf87guaf0  change_trip_characteristics  Windows Desktop          3664   \n",
       "ncf87guaf0  change_trip_characteristics  Windows Desktop          3913   \n",
       "ncf87guaf0  change_trip_characteristics  Windows Desktop         29411   \n",
       "ncf87guaf0  change_trip_characteristics  Windows Desktop          3522   \n",
       "ncf87guaf0  change_trip_characteristics  Windows Desktop         36368   \n",
       "ncf87guaf0  change_trip_characteristics  Windows Desktop          3189   \n",
       "ncf87guaf0  change_trip_characteristics  Windows Desktop          1985   \n",
       "ncf87guaf0  change_trip_characteristics  Windows Desktop        408632   \n",
       "ncf87guaf0  change_trip_characteristics  Windows Desktop          1568   \n",
       "ncf87guaf0  change_trip_characteristics  Windows Desktop          2966   \n",
       "ncf87guaf0  change_trip_characteristics  Windows Desktop          4853   \n",
       "ncf87guaf0  change_trip_characteristics  Windows Desktop         27901   \n",
       "ncf87guaf0  change_trip_characteristics  Windows Desktop          2995   \n",
       "ncf87guaf0  change_trip_characteristics  Windows Desktop          4362   \n",
       "ncf87guaf0  change_trip_characteristics  Windows Desktop        211117   \n",
       "ncf87guaf0  change_trip_characteristics  Windows Desktop         22258   \n",
       "ncf87guaf0  change_trip_characteristics  Windows Desktop        225993   \n",
       "ncf87guaf0  change_trip_characteristics  Windows Desktop         13209   \n",
       "ncf87guaf0  change_trip_characteristics  Windows Desktop         97839   \n",
       "ncf87guaf0  change_trip_characteristics  Windows Desktop          6864   \n",
       "ncf87guaf0  change_trip_characteristics  Windows Desktop          7103   \n",
       "ncf87guaf0  change_trip_characteristics  Windows Desktop          5257   \n",
       "...                                 ...              ...           ...   \n",
       "mhewnxesx9  change_trip_characteristics  Windows Desktop           797   \n",
       "mhewnxesx9  change_trip_characteristics  Windows Desktop           532   \n",
       "mhewnxesx9  change_trip_characteristics  Windows Desktop           762   \n",
       "mhewnxesx9  change_trip_characteristics  Windows Desktop           509   \n",
       "mhewnxesx9  change_trip_characteristics  Windows Desktop         44833   \n",
       "mhewnxesx9  change_trip_characteristics  Windows Desktop          4171   \n",
       "mhewnxesx9  change_trip_characteristics  Windows Desktop           673   \n",
       "mhewnxesx9  change_trip_characteristics  Windows Desktop           464   \n",
       "mhewnxesx9  change_trip_characteristics  Windows Desktop           499   \n",
       "mhewnxesx9  change_trip_characteristics  Windows Desktop           488   \n",
       "mhewnxesx9  change_trip_characteristics  Windows Desktop         39331   \n",
       "mhewnxesx9  change_trip_characteristics  Windows Desktop           687   \n",
       "mhewnxesx9  change_trip_characteristics  Windows Desktop           570   \n",
       "mhewnxesx9  change_trip_characteristics  Windows Desktop            29   \n",
       "mhewnxesx9  change_trip_characteristics  Windows Desktop            72   \n",
       "mhewnxesx9  change_trip_characteristics  Windows Desktop            20   \n",
       "mhewnxesx9  change_trip_characteristics  Windows Desktop            28   \n",
       "mhewnxesx9  change_trip_characteristics  Windows Desktop             4   \n",
       "mhewnxesx9  change_trip_characteristics  Windows Desktop           468   \n",
       "mhewnxesx9  change_trip_characteristics  Windows Desktop           411   \n",
       "mhewnxesx9  change_trip_characteristics  Windows Desktop           570   \n",
       "mhewnxesx9  change_trip_characteristics  Windows Desktop           528   \n",
       "mhewnxesx9  change_trip_characteristics  Windows Desktop           391   \n",
       "mhewnxesx9  change_trip_characteristics  Windows Desktop           812   \n",
       "mhewnxesx9  change_trip_characteristics  Windows Desktop          3638   \n",
       "mhewnxesx9  change_trip_characteristics  Windows Desktop           556   \n",
       "mhewnxesx9  change_trip_characteristics  Windows Desktop         13656   \n",
       "mhewnxesx9  change_trip_characteristics  Windows Desktop           585   \n",
       "6o3arsjbb4  change_trip_characteristics      Mac Desktop          1432   \n",
       "6o3arsjbb4  change_trip_characteristics      Mac Desktop            39   \n",
       "\n",
       "           country_destination  \n",
       "d1mm9tcy42               other  \n",
       "d1mm9tcy42               other  \n",
       "d1mm9tcy42               other  \n",
       "d1mm9tcy42               other  \n",
       "d1mm9tcy42               other  \n",
       "d1mm9tcy42               other  \n",
       "d1mm9tcy42               other  \n",
       "d1mm9tcy42               other  \n",
       "ncf87guaf0                 NDF  \n",
       "ncf87guaf0                 NDF  \n",
       "ncf87guaf0                 NDF  \n",
       "ncf87guaf0                 NDF  \n",
       "ncf87guaf0                 NDF  \n",
       "ncf87guaf0                 NDF  \n",
       "ncf87guaf0                 NDF  \n",
       "ncf87guaf0                 NDF  \n",
       "ncf87guaf0                 NDF  \n",
       "ncf87guaf0                 NDF  \n",
       "ncf87guaf0                 NDF  \n",
       "ncf87guaf0                 NDF  \n",
       "ncf87guaf0                 NDF  \n",
       "ncf87guaf0                 NDF  \n",
       "ncf87guaf0                 NDF  \n",
       "ncf87guaf0                 NDF  \n",
       "ncf87guaf0                 NDF  \n",
       "ncf87guaf0                 NDF  \n",
       "ncf87guaf0                 NDF  \n",
       "ncf87guaf0                 NDF  \n",
       "ncf87guaf0                 NDF  \n",
       "ncf87guaf0                 NDF  \n",
       "...                        ...  \n",
       "mhewnxesx9                 NDF  \n",
       "mhewnxesx9                 NDF  \n",
       "mhewnxesx9                 NDF  \n",
       "mhewnxesx9                 NDF  \n",
       "mhewnxesx9                 NDF  \n",
       "mhewnxesx9                 NDF  \n",
       "mhewnxesx9                 NDF  \n",
       "mhewnxesx9                 NDF  \n",
       "mhewnxesx9                 NDF  \n",
       "mhewnxesx9                 NDF  \n",
       "mhewnxesx9                 NDF  \n",
       "mhewnxesx9                 NDF  \n",
       "mhewnxesx9                 NDF  \n",
       "mhewnxesx9                 NDF  \n",
       "mhewnxesx9                 NDF  \n",
       "mhewnxesx9                 NDF  \n",
       "mhewnxesx9                 NDF  \n",
       "mhewnxesx9                 NDF  \n",
       "mhewnxesx9                 NDF  \n",
       "mhewnxesx9                 NDF  \n",
       "mhewnxesx9                 NDF  \n",
       "mhewnxesx9                 NDF  \n",
       "mhewnxesx9                 NDF  \n",
       "mhewnxesx9                 NDF  \n",
       "mhewnxesx9                 NDF  \n",
       "mhewnxesx9                 NDF  \n",
       "mhewnxesx9                 NDF  \n",
       "mhewnxesx9                 NDF  \n",
       "6o3arsjbb4                 NDF  \n",
       "6o3arsjbb4                 NDF  \n",
       "\n",
       "[315766 rows x 7 columns]"
      ]
     },
     "execution_count": 328,
     "metadata": {},
     "output_type": "execute_result"
    }
   ],
   "source": [
    "tr_sessions[tr_sessions.action_detail == 'change_trip_characteristics']"
   ]
  },
  {
   "cell_type": "code",
   "execution_count": 296,
   "metadata": {
    "collapsed": false
   },
   "outputs": [
    {
     "data": {
      "text/plain": [
       "NDF      2060\n",
       "US        334\n",
       "other      70\n",
       "FR         24\n",
       "IT         12\n",
       "ES          8\n",
       "GB          7\n",
       "CA          7\n",
       "DE          4\n",
       "AU          2\n",
       "NL          2\n",
       "PT          1\n",
       "Name: country_destination, dtype: int64"
      ]
     },
     "execution_count": 296,
     "metadata": {},
     "output_type": "execute_result"
    }
   ],
   "source": [
    "getcntr('update_listing_description', tr_sessions.action_detail, train_data)"
   ]
  },
  {
   "cell_type": "code",
   "execution_count": 305,
   "metadata": {
    "collapsed": false
   },
   "outputs": [
    {
     "data": {
      "text/plain": [
       "NDF      18241\n",
       "US       10971\n",
       "other     2198\n",
       "FR         901\n",
       "IT         633\n",
       "ES         445\n",
       "GB         436\n",
       "CA         257\n",
       "DE         160\n",
       "NL         144\n",
       "AU          86\n",
       "PT          51\n",
       "Name: country_destination, dtype: int64"
      ]
     },
     "execution_count": 305,
     "metadata": {},
     "output_type": "execute_result"
    }
   ],
   "source": [
    "getcntr('ajax_refresh_subtotal', tr_sessions.action, train_data)"
   ]
  },
  {
   "cell_type": "code",
   "execution_count": 292,
   "metadata": {
    "collapsed": true
   },
   "outputs": [],
   "source": [
    "def getcntr(q, tr_series, train_data):\n",
    "    users = tr_sessions[tr_series == q].index.unique()\n",
    "    return train_data.loc[users].country_destination.value_counts()"
   ]
  },
  {
   "cell_type": "code",
   "execution_count": null,
   "metadata": {
    "collapsed": false
   },
   "outputs": [],
   "source": [
    "tr_sessions[tr_sessions.action == 'travel_plans_current'].country_destination.value_counts()"
   ]
  },
  {
   "cell_type": "code",
   "execution_count": null,
   "metadata": {
    "collapsed": false
   },
   "outputs": [],
   "source": [
    "tr_sessions[tr_sessions.action == 'place_worth'].country_destination.value_counts()"
   ]
  },
  {
   "cell_type": "code",
   "execution_count": null,
   "metadata": {
    "collapsed": false
   },
   "outputs": [],
   "source": [
    "tr_sessions[tr_sessions.action == 'payout_update'].country_destination.value_counts()"
   ]
  },
  {
   "cell_type": "code",
   "execution_count": null,
   "metadata": {
    "collapsed": false
   },
   "outputs": [],
   "source": [
    "tr_sessions[tr_sessions.action == 'guest_billing_receipt'].country_destination.value_counts()"
   ]
  },
  {
   "cell_type": "code",
   "execution_count": 268,
   "metadata": {
    "collapsed": false
   },
   "outputs": [
    {
     "data": {
      "text/plain": [
       "NDF    1\n",
       "US     1\n",
       "Name: country_destination, dtype: int64"
      ]
     },
     "execution_count": 268,
     "metadata": {},
     "output_type": "execute_result"
    }
   ],
   "source": [
    "tr_sessions[tr_sessions.action == 'booking'].country_destination.value_counts()"
   ]
  },
  {
   "cell_type": "code",
   "execution_count": null,
   "metadata": {
    "collapsed": false
   },
   "outputs": [],
   "source": [
    "tr_sessions[tr_sessions.action == 'guest_booked_elsewhere']"
   ]
  },
  {
   "cell_type": "code",
   "execution_count": null,
   "metadata": {
    "collapsed": false
   },
   "outputs": [],
   "source": [
    "tr_sessions[tr_sessions.action == 'guest_booked_elsewhere'].country_destination.value_counts()"
   ]
  },
  {
   "cell_type": "code",
   "execution_count": null,
   "metadata": {
    "collapsed": false
   },
   "outputs": [],
   "source": [
    "tr_sessions[tr_sessions.action == 'transaction_history'].country_destination.value_counts()"
   ]
  },
  {
   "cell_type": "code",
   "execution_count": null,
   "metadata": {
    "collapsed": false
   },
   "outputs": [],
   "source": [
    "tr_sessions[tr_sessions.action == 'receipt'].country_destination.value_counts()"
   ]
  },
  {
   "cell_type": "code",
   "execution_count": null,
   "metadata": {
    "collapsed": false
   },
   "outputs": [],
   "source": [
    "tr_sessions[tr_sessions.action == 'countries_option'].country_destination.value_counts()"
   ]
  },
  {
   "cell_type": "code",
   "execution_count": null,
   "metadata": {
    "collapsed": false
   },
   "outputs": [],
   "source": [
    "tr_sessions[tr_sessions.action == 'itinerary'].country_destination.value_counts()"
   ]
  },
  {
   "cell_type": "code",
   "execution_count": null,
   "metadata": {
    "collapsed": false
   },
   "outputs": [],
   "source": [
    "tr_sessions[tr_sessions.action == 'travel_plans_previous'].country_destination.value_counts()"
   ]
  },
  {
   "cell_type": "code",
   "execution_count": null,
   "metadata": {
    "collapsed": false
   },
   "outputs": [],
   "source": [
    "tr_sessions[tr_sessions.action == 'cancel'].country_destination.value_counts()"
   ]
  },
  {
   "cell_type": "code",
   "execution_count": null,
   "metadata": {
    "collapsed": false
   },
   "outputs": [],
   "source": [
    "tr_sessions[tr_sessions.action == 'office_location'].country_destination.value_counts()"
   ]
  },
  {
   "cell_type": "code",
   "execution_count": null,
   "metadata": {
    "collapsed": false
   },
   "outputs": [],
   "source": [
    "tr_sessions[tr_sessions.action_detail == 'your_trips'].country_destination.value_counts()"
   ]
  },
  {
   "cell_type": "code",
   "execution_count": null,
   "metadata": {
    "collapsed": false
   },
   "outputs": [],
   "source": [
    "users"
   ]
  },
  {
   "cell_type": "code",
   "execution_count": null,
   "metadata": {
    "collapsed": true
   },
   "outputs": [],
   "source": [
    "users = tr_sessions.groupby('action')['user_id'].unique()['Mac Desktop']"
   ]
  },
  {
   "cell_type": "code",
   "execution_count": null,
   "metadata": {
    "collapsed": false
   },
   "outputs": [],
   "source": [
    "tr_sessions[tr_sessions.user_id.isin(users)]"
   ]
  },
  {
   "cell_type": "code",
   "execution_count": null,
   "metadata": {
    "collapsed": false
   },
   "outputs": [],
   "source": [
    "users = tr_sessions[tr_sessions.action == 'host_summary'].user_id"
   ]
  },
  {
   "cell_type": "code",
   "execution_count": null,
   "metadata": {
    "collapsed": false
   },
   "outputs": [],
   "source": [
    "tr_sessions[tr_sessions.action == 'phone_number_widget'].country_destination.value_counts()"
   ]
  },
  {
   "cell_type": "code",
   "execution_count": null,
   "metadata": {
    "collapsed": false
   },
   "outputs": [],
   "source": [
    "tr_sessions[tr_sessions.action == 'payment_instruments'].country_destination.value_counts()"
   ]
  },
  {
   "cell_type": "code",
   "execution_count": null,
   "metadata": {
    "collapsed": false
   },
   "outputs": [],
   "source": [
    "tr_sessions[tr_sessions.action == 'agree_terms_uncheck'].country_destination.value_counts(normalize = True)"
   ]
  },
  {
   "cell_type": "code",
   "execution_count": null,
   "metadata": {
    "collapsed": false
   },
   "outputs": [],
   "source": [
    "test_sessions[test_sessions.action == 'print_confirmation']"
   ]
  },
  {
   "cell_type": "code",
   "execution_count": null,
   "metadata": {
    "collapsed": false
   },
   "outputs": [],
   "source": [
    "options = ['recommend', 'recommendations', 'references', 'referrer_status']\n",
    "for i in options:\n",
    "    print tr_sessions[tr_sessions.action == i].country_destination.value_counts()"
   ]
  },
  {
   "cell_type": "code",
   "execution_count": null,
   "metadata": {
    "collapsed": true
   },
   "outputs": [],
   "source": [
    "'pay',\n",
    " 'payment_instruments',\n",
    " 'payment_methods',\n",
    " 'payout_update',\n",
    " 'payout_update'"
   ]
  },
  {
   "cell_type": "code",
   "execution_count": null,
   "metadata": {
    "collapsed": false
   },
   "outputs": [],
   "source": [
    "actions_both30"
   ]
  },
  {
   "cell_type": "code",
   "execution_count": null,
   "metadata": {
    "collapsed": false
   },
   "outputs": [],
   "source": [
    "axes = plt.gca()\n",
    "axes.set_xlim([0,20000])\n",
    "s.hist(ax=axes, bins= 10000)"
   ]
  },
  {
   "cell_type": "code",
   "execution_count": null,
   "metadata": {
    "collapsed": false
   },
   "outputs": [],
   "source": [
    "s2 = tr_sessions.groupby('user_id').filter(lambda x: len(x['action'])>3)"
   ]
  },
  {
   "cell_type": "code",
   "execution_count": null,
   "metadata": {
    "collapsed": false
   },
   "outputs": [],
   "source": [
    "a = [1, 2, 3, 4]\n",
    "a[-1:-3]"
   ]
  },
  {
   "cell_type": "code",
   "execution_count": null,
   "metadata": {
    "collapsed": false
   },
   "outputs": [],
   "source": [
    "s2.groupby('user_id').apply(lambda x: x.iloc[1:2, :] )"
   ]
  },
  {
   "cell_type": "code",
   "execution_count": null,
   "metadata": {
    "collapsed": false
   },
   "outputs": [],
   "source": [
    "s2[s2.country_destination == 'NDF'].action.value_counts()"
   ]
  },
  {
   "cell_type": "code",
   "execution_count": null,
   "metadata": {
    "collapsed": false
   },
   "outputs": [],
   "source": [
    "s = sessions.groupby('user_id')['secs_elapsed'].apply(lambda x:  x.iloc[-1])"
   ]
  },
  {
   "cell_type": "code",
   "execution_count": null,
   "metadata": {
    "collapsed": false
   },
   "outputs": [],
   "source": [
    "sessions.dropna(subset=['user_id'], inplace = True)\n",
    "\n",
    "sessions_tr = sessions[sessions.user_id.isin(train_data.index)]\n",
    "sessions_test = sessions[sessions.user_id.isin(test_data.index)]\n",
    "a_ignore = set(sessions_tr.action.unique()) ^ set(sessions_test.action.unique())\n",
    "#sessions.groupby('action')['action_detail']\n",
    "\n",
    "#set(sessions_test.action_detail.unique()) ^ set(sessions_tr.action_detail.unique())\n",
    "#sessions_test.action_detail.unique()\n",
    "#sessions_tr.action_detail.unique()\n",
    "#train_data['date_account_created'] = pd.to_datetime(train_data.date_account_created)\n",
    "#x = train_data[train_data.date_account_created>='2014']\n",
    "#train_data[train_data.index.isin(sessions_tr.user_id)].timestamp_first_active"
   ]
  },
  {
   "cell_type": "code",
   "execution_count": null,
   "metadata": {
    "collapsed": false
   },
   "outputs": [],
   "source": [
    "actions50 = [sessions_test.groupby('action')['user_id'].nunique() >50]\n",
    "print 'Number of unique actions with more than 50 users:', np.sum(sessions_test.groupby('action')['user_id'].nunique()>50)"
   ]
  },
  {
   "cell_type": "code",
   "execution_count": null,
   "metadata": {
    "collapsed": false
   },
   "outputs": [],
   "source": [
    "#Let's get the actions with just one action type and one action detail.\n",
    "print 'Number of unique actions with just one action type:',\n",
    "np.sum(sessions.groupby('action')['action_detail'].nunique()==1)\n",
    "#Take the intersection of these actions with a_ignore."
   ]
  },
  {
   "cell_type": "code",
   "execution_count": null,
   "metadata": {
    "collapsed": false
   },
   "outputs": [],
   "source": [
    "sessions['action_type'] = sessions['action_type'].fillna('missing')\n",
    "sessions['action_detail'] = sessions['action_detail'].fillna('missing')"
   ]
  },
  {
   "cell_type": "code",
   "execution_count": null,
   "metadata": {
    "collapsed": false
   },
   "outputs": [],
   "source": [
    "#actions with null values\n",
    "actions_null2 = sessions[pd.isnull(sessions.action_type)].action.unique()\n",
    "actions_null == actions_null2"
   ]
  },
  {
   "cell_type": "code",
   "execution_count": null,
   "metadata": {
    "collapsed": false
   },
   "outputs": [],
   "source": [
    "df = pd.DataFrame({'A': ['foo','bar','foo','foo', 'zoo','bar','foo','foo'],\n",
    "                       'B': ['coo', np.NaN,'coo','coo', 'dude', np.NaN,'fooo','fooo']})"
   ]
  },
  {
   "cell_type": "code",
   "execution_count": 271,
   "metadata": {
    "collapsed": false
   },
   "outputs": [],
   "source": [
    "def custom_filter(x):\n",
    "     return (x['action_detail'].nunique() > 1) or (x['action_type'].nunique() > 1) \n",
    "actions_df = sessions.groupby('action').filter(lambda x: custom_filter(x))"
   ]
  },
  {
   "cell_type": "code",
   "execution_count": 290,
   "metadata": {
    "collapsed": false
   },
   "outputs": [
    {
     "data": {
      "text/plain": [
       "array(['-unknown-', 'update_user_profile', 'update_listing',\n",
       "       'update_listing_description', 'update_user', nan], dtype=object)"
      ]
     },
     "execution_count": 290,
     "metadata": {},
     "output_type": "execute_result"
    }
   ],
   "source": [
    "tr_sessions[tr_sessions.action == 'update'].action_detail.unique()"
   ]
  },
  {
   "cell_type": "code",
   "execution_count": 273,
   "metadata": {
    "collapsed": false
   },
   "outputs": [
    {
     "data": {
      "text/plain": [
       "array(['index', 'show', 'create', 'confirm_email', 'pending', 'requested',\n",
       "       'update', 'notifications', 'listings', 'unavailabilities',\n",
       "       'qt_reply_v2', 'login', 'authenticate', 'social_connections',\n",
       "       'collections', 'search', 'edit', 'connect', 'delete', 'reviews',\n",
       "       'payment_instruments', 'new', 'available', 'remove_dashboard_alert',\n",
       "       'set_password', 'terms', 'destroy', 'change_availability',\n",
       "       'host_summary', 'recommendations', 'forgot_password', 'approve',\n",
       "       'click', 'patch', 'set_default'], dtype=object)"
      ]
     },
     "execution_count": 273,
     "metadata": {},
     "output_type": "execute_result"
    }
   ],
   "source": [
    "actions_df.action.unique()"
   ]
  },
  {
   "cell_type": "code",
   "execution_count": 166,
   "metadata": {
    "collapsed": false
   },
   "outputs": [],
   "source": [
    "def custom_filter(x):\n",
    "     return (x['action_detail'].nunique() == 1) and (x['action_type'].nunique() == 1) \n",
    "#get all actions with just one action_type and action \n",
    "actions_df = sessions.groupby('action').filter(lambda x: custom_filter(x))"
   ]
  },
  {
   "cell_type": "code",
   "execution_count": null,
   "metadata": {
    "collapsed": true
   },
   "outputs": [],
   "source": [
    "#exclude those actions that are found in one table or the other\n",
    "actions_df = actions_df[~actions_df.action.isin(a_ignore)]"
   ]
  },
  {
   "cell_type": "code",
   "execution_count": null,
   "metadata": {
    "collapsed": false,
    "scrolled": true
   },
   "outputs": [],
   "source": [
    "actions_df.action[pd.isnull(actions_df['secs_elapsed'])].value_counts()"
   ]
  },
  {
   "cell_type": "code",
   "execution_count": null,
   "metadata": {
    "collapsed": false
   },
   "outputs": [],
   "source": [
    "#info = actions_1.groupby(['user_id', 'action']).apply(lambda x: x['secs_elapsed'].sum())\n",
    "action_cnts = actions_df.groupby(['user_id', 'action']).apply(lambda x: x['device_type'].count())"
   ]
  },
  {
   "cell_type": "code",
   "execution_count": null,
   "metadata": {
    "collapsed": false
   },
   "outputs": [],
   "source": [
    "action_cnts = action_cnts.unstack(level=-1)"
   ]
  },
  {
   "cell_type": "code",
   "execution_count": null,
   "metadata": {
    "collapsed": false
   },
   "outputs": [],
   "source": [
    "action_cnts.fillna(0, inplace=True)"
   ]
  },
  {
   "cell_type": "code",
   "execution_count": null,
   "metadata": {
    "collapsed": false
   },
   "outputs": [],
   "source": [
    "pd.to_pickle(action_cnts, '../data/actions.p')"
   ]
  },
  {
   "cell_type": "code",
   "execution_count": null,
   "metadata": {
    "collapsed": false
   },
   "outputs": [],
   "source": [
    "#features with no time\n",
    "#null_time, cnts = np.unique(actions_1[pd.isnull(actions_1['secs_elapsed'])].action, return_counts= True)\n",
    "#zip(cnts, null_time)"
   ]
  },
  {
   "cell_type": "code",
   "execution_count": null,
   "metadata": {
    "collapsed": false
   },
   "outputs": [],
   "source": [
    "#find the number of users in test data with an action that is not found in the training sessions data\n",
    "#We should look to find similar items to substitute them\n",
    "for i in a_ignore:\n",
    "    users = sessions_test[sessions_test.action == i].user_id.unique()\n",
    "    if len(users) > 0:\n",
    "        print i, len(users)"
   ]
  },
  {
   "cell_type": "code",
   "execution_count": null,
   "metadata": {
    "collapsed": false
   },
   "outputs": [],
   "source": [
    "actions_df.action_type.unique()"
   ]
  },
  {
   "cell_type": "code",
   "execution_count": null,
   "metadata": {
    "collapsed": false
   },
   "outputs": [],
   "source": [
    "#iterate through each action and find those that have more than one action detail/ action type\n",
    "#s = sessions.groupby('action')['action_type'].nunique()\n",
    "#sessions.groupby('action')['action_detail'].nunique()"
   ]
  },
  {
   "cell_type": "code",
   "execution_count": null,
   "metadata": {
    "collapsed": false,
    "scrolled": true
   },
   "outputs": [],
   "source": [
    "def ndcg(preds, labels):\n",
    "    \"\"\"Calculate sum of normalzied discounted cumulative gain for the predictions\n",
    "    The correct prediction will have a relevance of 1, incorrect predictions will have a relevance of 0.\n",
    "    Weight the relevance values such that it is reduced logarithmically proportional to it its position     \n",
    "    \n",
    "    Args:\n",
    "        preds: n*5 array of predictor targets\n",
    "        labels: n*1 array targets\n",
    "    Returns:\n",
    "        sum of normalized discounted cumulative gain for all the predictions\n",
    "    \"\"\"\n",
    "    \n",
    "    #find positions where the prediction matches the label\n",
    "    relv_pos = np.where(np.equal(preds, labels))[1]\n",
    "    #weight func: log2(i+1), add one more to adjust for 0-based indexing\n",
    "    total_ndcg = np.sum(1./np.log2(relv_pos+2))\n",
    "    return total_ndcg\n",
    "    \n",
    "def evalerror(cls_prob, dtrain):\n",
    "    \"\"\"find top k predictions from probability matrix and call ndcg to find accuracy of predictions\n",
    "    \n",
    "    Args:\n",
    "        cls_prob: 2D array, probability of each class for each person (n persons by m classes),\n",
    "                  the column index corresponds with class\n",
    "        labels: labels for the n persons\n",
    "    returns:\n",
    "        prediction accuracy using ndcg to evaluate predictions of each AirBNB user\n",
    "    \"\"\"\n",
    "    #determine the top k predictions\n",
    "    labels = dtrain.get_label()\n",
    "    k = 5\n",
    "    top_k = cls_prob.argsort(axis = 1)[:,:k:-1]\n",
    "    #convert true values  and compared with predictions to check for equality\n",
    "    labels = labels[:, None]\n",
    "    return 'error', 1.-ndcg(top_k, labels)/len(labels)"
   ]
  },
  {
   "cell_type": "code",
   "execution_count": null,
   "metadata": {
    "collapsed": false
   },
   "outputs": [],
   "source": [
    "features = sorted(bst.get_fscore().items(), key = lambda x: x[1], reverse = True)\n",
    "[(feat, all_df.columns[int(feat[1:])], score) for feat, score in features]"
   ]
  }
 ],
 "metadata": {
  "kernelspec": {
   "display_name": "Python 2",
   "language": "python",
   "name": "python2"
  },
  "language_info": {
   "codemirror_mode": {
    "name": "ipython",
    "version": 2
   },
   "file_extension": ".py",
   "mimetype": "text/x-python",
   "name": "python",
   "nbconvert_exporter": "python",
   "pygments_lexer": "ipython2",
   "version": "2.7.10"
  }
 },
 "nbformat": 4,
 "nbformat_minor": 0
}
