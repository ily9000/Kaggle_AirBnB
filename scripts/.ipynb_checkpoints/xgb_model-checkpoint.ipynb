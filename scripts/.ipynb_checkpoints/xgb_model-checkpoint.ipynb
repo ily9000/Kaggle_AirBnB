{
 "cells": [
  {
   "cell_type": "code",
   "execution_count": 17,
   "metadata": {
    "collapsed": false
   },
   "outputs": [
    {
     "data": {
      "text/plain": [
       "<module 'fetch_data' from 'fetch_data.py'>"
      ]
     },
     "execution_count": 17,
     "metadata": {},
     "output_type": "execute_result"
    }
   ],
   "source": [
    "#%matplotlib inline\n",
    "#import matplotlib.pyplot as plt\n",
    "#import graphviz\n",
    "import numpy as np\n",
    "import pandas as pd\n",
    "from sklearn import preprocessing\n",
    "import xgboost as xgb\n",
    "import kaggle_xgb\n",
    "import calc_ndcg\n",
    "#from sklearn.grid_search import ParameterGrid\n",
    "import pickle\n",
    "import fetch_data\n",
    "reload(fetch_data)"
   ]
  },
  {
   "cell_type": "markdown",
   "metadata": {},
   "source": [
    "Read in just the testing and training data."
   ]
  },
  {
   "cell_type": "code",
   "execution_count": 53,
   "metadata": {
    "collapsed": false
   },
   "outputs": [
    {
     "name": "stdout",
     "output_type": "stream",
     "text": [
      "<type 'instance'>\n"
     ]
    }
   ],
   "source": [
    "print type(xgbInput)"
   ]
  },
  {
   "cell_type": "code",
   "execution_count": 58,
   "metadata": {
    "collapsed": false
   },
   "outputs": [
    {
     "name": "stdout",
     "output_type": "stream",
     "text": [
      "number of columns before one hot encoding 28\n",
      "number of columns after one hot encoding 172\n"
     ]
    }
   ],
   "source": [
    "xgbInput = fetch_data.clfInput()\n",
    "xgbInput.sessions_ftrEng()\n",
    "xgbInput.users_ftrEng()\n",
    "xgbInput.one_hot()\n",
    "xgbInput.split_data()"
   ]
  },
  {
   "cell_type": "code",
   "execution_count": 176,
   "metadata": {
    "collapsed": false
   },
   "outputs": [
    {
     "name": "stderr",
     "output_type": "stream",
     "text": [
      "[0]\ttrain-error:0.168403\teval-error:0.143131\n",
      "[1]\ttrain-error:0.167405\teval-error:0.142451\n",
      "[0]\ttrain-error:0.167607\teval-error:0.149353\n",
      "[1]\ttrain-error:0.166993\teval-error:0.147746\n",
      "[0]\ttrain-error:0.168267\teval-error:0.149035\n",
      "[1]\ttrain-error:0.167142\teval-error:0.147229\n"
     ]
    },
    {
     "name": "stdout",
     "output_type": "stream",
     "text": [
      "<type 'instance'>\n"
     ]
    }
   ],
   "source": [
    "param = {'num_class': 12, 'objective': 'multi:softprob', 'seed': 0}\n",
    "param['eta'] = 0.20\n",
    "param['max_depth'] = 6\n",
    "param['subsample'] = .5\n",
    "param['col_sample_bytree'] = .6\n",
    "results = {}\n",
    "cv_train = pd.DataFrame()\n",
    "cv_valid = pd.DataFrame()\n",
    "nrounds\n",
    "for train_indx, valid_indx in cv_bydate(xgbInput):\n",
    "    dtrain = xgb.DMatrix(xgbInput.train_X[train_indx], label = xgbInput.train_Y[train_indx],\n",
    "                missing = -1)\n",
    "    dvalid = xgb.DMatrix(xgbInput.train_X[valid_indx], label = xgbInput.train_Y[valid_indx],\n",
    "                missing = -1)\n",
    "    evallist = [(dtrain, 'train'), (dvalid, 'eval')]\n",
    "    bst = xgb.train(param, dtrain, nrounds, evallist, feval = calc_ndcg.evalerror, evals_result = results)\n",
    "    cv_train = pd.concat([cv_train, pd.Series(results['train']['error'])], axis = 1)\n",
    "    cv_valid = pd.concat([cv_valid, pd.Series(results['eval']['error'])], axis = 1)\n",
    "    pd.to_pickle(cv_train, 'cv_results/sessions_e20_25n/train_err.p')\n",
    "    pd.to_pickle(cv_valid, 'cv_results/sessions_e20_25n/validate_err.p')"
   ]
  },
  {
   "cell_type": "code",
   "execution_count": 50,
   "metadata": {
    "collapsed": false
   },
   "outputs": [],
   "source": [
    "def cv_bydate(xgbInput):\n",
    "    \"\"\"Select folds for cross validation as all cases that occurred in a given with month \n",
    "    in 2014, with sessions data.\n",
    "    Only cases in 2014 have sessions data and the last test case is on June 30.\n",
    "    \"\"\"\n",
    "    \n",
    "    for i in range(1,7):\n",
    "        condition = 'dac_year == 2014 & dac_month == @i & action_counts != -1'\n",
    "        valid_mask = xgbInput.trainDf.index.isin(xgbInput.trainDf.query(condition).index)\n",
    "        valid_indx = np.where(valid_mask)\n",
    "        train_indx = np.where(~valid_mask)\n",
    "        yield train_indx, valid_indx"
   ]
  },
  {
   "cell_type": "code",
   "execution_count": null,
   "metadata": {
    "collapsed": false
   },
   "outputs": [],
   "source": [
    "sessions.groupby('action_detail').user_id.nunique().sort_values(ascending = False).head(50)"
   ]
  },
  {
   "cell_type": "code",
   "execution_count": null,
   "metadata": {
    "collapsed": false
   },
   "outputs": [],
   "source": [
    "train_data[train_data.index.isin(sessions[sessions.action_detail == 'change_contact_host_dates'].user_id)].country_destination.value_counts(normalize = True)"
   ]
  },
  {
   "cell_type": "code",
   "execution_count": null,
   "metadata": {
    "collapsed": false
   },
   "outputs": [],
   "source": [
    "train_data[train_data.index.isin(sessions.user_id)].country_destination.value_counts(normalize = True)"
   ]
  },
  {
   "cell_type": "code",
   "execution_count": null,
   "metadata": {
    "collapsed": false
   },
   "outputs": [],
   "source": [
    "null_tr_browsers = []\n",
    "null_testbrowsers = []\n",
    "for i in train_data.first_browser.unique():\n",
    "    if i not in test_data.first_browser.unique():\n",
    "        null_tr_browsers.append(i)\n",
    "for i in test_data.first_browser.unique():\n",
    "    if i not in train_data.first_browser.unique():\n",
    "        null_testbrowsers.append(i)"
   ]
  },
  {
   "cell_type": "code",
   "execution_count": 52,
   "metadata": {
    "collapsed": false
   },
   "outputs": [
    {
     "data": {
      "text/plain": [
       "-unknown-    27266\n",
       "Name: first_browser, dtype: int64"
      ]
     },
     "execution_count": 52,
     "metadata": {},
     "output_type": "execute_result"
    }
   ],
   "source": [
    "train_data[train_data.first_browser=='-unknown-'].first_browser.value_counts()"
   ]
  },
  {
   "cell_type": "code",
   "execution_count": null,
   "metadata": {
    "collapsed": false
   },
   "outputs": [],
   "source": [
    "train_data[train_data.affiliate_provider == \"gsp\"].country_destination.value_counts(normalize = True)"
   ]
  },
  {
   "cell_type": "code",
   "execution_count": null,
   "metadata": {
    "collapsed": false
   },
   "outputs": [],
   "source": [
    "print df.first_browser.value_counts()\n",
    "print test_data.first_browser.value_counts()"
   ]
  },
  {
   "cell_type": "code",
   "execution_count": null,
   "metadata": {
    "collapsed": false
   },
   "outputs": [],
   "source": [
    "train_data[train_data.index.isin(all_df[all_df.dac_year==2014].index)].country_destination.value_counts(normalize = True)"
   ]
  },
  {
   "cell_type": "code",
   "execution_count": null,
   "metadata": {
    "collapsed": false
   },
   "outputs": [],
   "source": [
    "test_data2 = all_df.loc[train_data.index]\n",
    "test_data2['country_destination'] = train_data.country_destination\n",
    "test_data2.groupby('dac_year').grouped('2012')['country_destination'].value_counts(normalize = True)\n",
    "#train_subset.loc[train_10000.query('country_destination not in  [NDF, US]').index, 'country_destination'].value_counts(normalize = True)"
   ]
  },
  {
   "cell_type": "code",
   "execution_count": 11,
   "metadata": {
    "collapsed": false
   },
   "outputs": [],
   "source": [
    "with open('../xgbmodels/sessions_e20_25n.p') as f:\n",
    "    bst = pickle.load(f)"
   ]
  },
  {
   "cell_type": "code",
   "execution_count": 12,
   "metadata": {
    "collapsed": false
   },
   "outputs": [
    {
     "data": {
      "text/plain": [
       "[('f12', 'secs_elapsed', 516),\n",
       " ('f0', 'age', 492),\n",
       " ('f11', 'action_counts', 390),\n",
       " ('f8', 'tfa_hour', 350),\n",
       " ('f3', 'dac_day', 339),\n",
       " ('f2', 'dac_month', 235),\n",
       " ('f4', 'dac_dayofweek', 201),\n",
       " ('f9', 'booking_request', 137),\n",
       " ('f1', 'dac_year', 115),\n",
       " ('f10', 'message_post', 105),\n",
       " ('f18', 'gender_-unknown-', 84),\n",
       " ('f111', 'first_device_type_Mac Desktop', 81),\n",
       " ('f22', 'signup_method_basic', 79),\n",
       " ('f29', 'signup_flow_3', 79),\n",
       " ('f106', 'signup_app_Web', 71),\n",
       " ('f103', 'first_affiliate_tracked_untracked', 61),\n",
       " ('f125', 'first_browser_Chrome', 60),\n",
       " ('f20', 'gender_MALE', 54),\n",
       " ('f6', 'tfa_month', 53),\n",
       " ('f19', 'gender_FEMALE', 50),\n",
       " ('f71', 'affiliate_channel_content', 48),\n",
       " ('f134', 'first_browser_Firefox', 46),\n",
       " ('f23', 'signup_method_facebook', 45),\n",
       " ('f72', 'affiliate_channel_direct', 40),\n",
       " ('f75', 'affiliate_channel_sem-brand', 39),\n",
       " ('f114', 'first_device_type_Windows Desktop', 37),\n",
       " ('f97', 'first_affiliate_tracked_linked', 35),\n",
       " ('f115', 'first_device_type_iPad', 34),\n",
       " ('f117', 'first_browser_-unknown-', 32),\n",
       " ('f73', 'affiliate_channel_other', 32),\n",
       " ('f96', 'first_affiliate_tracked_-1', 31),\n",
       " ('f53', 'language_fr', 30),\n",
       " ('f26', 'signup_flow_0', 30),\n",
       " ('f33', 'signup_flow_8', 30),\n",
       " ('f160', 'first_browser_Safari', 29),\n",
       " ('f110', 'first_device_type_Desktop (Other)', 29),\n",
       " ('f48', 'language_de', 28),\n",
       " ('f100', 'first_affiliate_tracked_omg', 28),\n",
       " ('f79', 'affiliate_provider_bing', 28),\n",
       " ('f76', 'affiliate_channel_sem-non-brand', 28),\n",
       " ('f101', 'first_affiliate_tracked_product', 27),\n",
       " ('f77', 'affiliate_channel_seo', 25),\n",
       " ('f50', 'language_en', 24),\n",
       " ('f27', 'signup_flow_1', 24),\n",
       " ('f28', 'signup_flow_2', 24),\n",
       " ('f139', 'first_browser_IE', 24),\n",
       " ('f116', 'first_device_type_iPhone', 23),\n",
       " ('f7', 'tfa_day', 21),\n",
       " ('f51', 'language_es', 20),\n",
       " ('f84', 'affiliate_provider_facebook', 20),\n",
       " ('f86', 'affiliate_provider_google', 20),\n",
       " ('f14', 'Windows Desktop', 20),\n",
       " ('f42', 'signup_flow_24', 19),\n",
       " ('f58', 'language_it', 19),\n",
       " ('f21', 'gender_OTHER', 19),\n",
       " ('f32', 'signup_flow_6', 18),\n",
       " ('f43', 'signup_flow_25', 17),\n",
       " ('f13', 'Mac Desktop', 17),\n",
       " ('f5', 'tfa_year', 17),\n",
       " ('f105', 'signup_app_Moweb', 16),\n",
       " ('f17', 'iPad Tablet', 16),\n",
       " ('f147', 'first_browser_Mobile Safari', 15),\n",
       " ('f109', 'first_device_type_Android Tablet', 14),\n",
       " ('f92', 'affiliate_provider_vast', 14),\n",
       " ('f60', 'language_ko', 14),\n",
       " ('f112', 'first_device_type_Other/Unknown', 13),\n",
       " ('f82', 'affiliate_provider_direct', 13),\n",
       " ('f61', 'language_nl', 13),\n",
       " ('f102', 'first_affiliate_tracked_tracked-other', 12),\n",
       " ('f74', 'affiliate_channel_remarketing', 12),\n",
       " ('f41', 'signup_flow_23', 8),\n",
       " ('f40', 'signup_flow_21', 8),\n",
       " ('f126', 'first_browser_Chrome Mobile', 8),\n",
       " ('f85', 'affiliate_provider_facebook-open-graph', 8),\n",
       " ('f15', 'iPhone', 8),\n",
       " ('f119', 'first_browser_Android Browser', 7),\n",
       " ('f80', 'affiliate_provider_craigslist', 7),\n",
       " ('f90', 'affiliate_provider_other', 7),\n",
       " ('f69', 'language_zh', 7),\n",
       " ('f66', 'language_sv', 7),\n",
       " ('f152', 'first_browser_Opera', 6),\n",
       " ('f108', 'first_device_type_Android Phone', 5),\n",
       " ('f107', 'signup_app_iOS', 5),\n",
       " ('f127', 'first_browser_Chromium', 5),\n",
       " ('f94', 'affiliate_provider_yahoo', 5),\n",
       " ('f63', 'language_pl', 5),\n",
       " ('f47', 'language_da', 4),\n",
       " ('f104', 'signup_app_Android', 4),\n",
       " ('f35', 'signup_flow_12', 4),\n",
       " ('f123', 'first_browser_BlackBerry Browser', 4),\n",
       " ('f99', 'first_affiliate_tracked_marketing', 4),\n",
       " ('f16', 'Android Phone', 4),\n",
       " ('f88', 'affiliate_provider_meetup', 3),\n",
       " ('f87', 'affiliate_provider_gsp', 3),\n",
       " ('f91', 'affiliate_provider_padmapper', 3),\n",
       " ('f98', 'first_affiliate_tracked_local ops', 3),\n",
       " ('f65', 'language_ru', 3),\n",
       " ('f64', 'language_pt', 3),\n",
       " ('f120', 'first_browser_Apple Mail', 2),\n",
       " ('f159', 'first_browser_RockMelt', 2),\n",
       " ('f145', 'first_browser_Maxthon', 2),\n",
       " ('f70', 'affiliate_channel_api', 2),\n",
       " ('f162', 'first_browser_Silk', 1),\n",
       " ('f118', 'first_browser_AOL Explorer', 1),\n",
       " ('f59', 'language_ja', 1),\n",
       " ('f24', 'signup_method_google', 1),\n",
       " ('f83', 'affiliate_provider_email-marketing', 1),\n",
       " ('f62', 'language_no', 1)]"
      ]
     },
     "execution_count": 12,
     "metadata": {},
     "output_type": "execute_result"
    }
   ],
   "source": [
    "features = sorted(bst.get_fscore().items(), key = lambda x: x[1], reverse = True)\n",
    "[(feat, all_df.columns[int(feat[1:])], score) for feat, score in features]"
   ]
  },
  {
   "cell_type": "code",
   "execution_count": null,
   "metadata": {
    "collapsed": true
   },
   "outputs": [],
   "source": []
  }
 ],
 "metadata": {
  "kernelspec": {
   "display_name": "Python 2",
   "language": "python",
   "name": "python2"
  },
  "language_info": {
   "codemirror_mode": {
    "name": "ipython",
    "version": 2
   },
   "file_extension": ".py",
   "mimetype": "text/x-python",
   "name": "python",
   "nbconvert_exporter": "python",
   "pygments_lexer": "ipython2",
   "version": "2.7.10"
  }
 },
 "nbformat": 4,
 "nbformat_minor": 0
}
