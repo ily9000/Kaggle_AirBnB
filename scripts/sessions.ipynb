{
 "cells": [
  {
   "cell_type": "code",
   "execution_count": 49,
   "metadata": {
    "collapsed": false
   },
   "outputs": [],
   "source": [
    "%matplotlib inline\n",
    "import matplotlib.pyplot as plt\n",
    "#import graphviz\n",
    "import numpy as np\n",
    "import pandas as pd\n",
    "import xgboost as xgb\n",
    "import sys\n",
    "import kaggle_xgb\n",
    "import calc_ndcg\n",
    "import itertools\n",
    "#import ftr_eng\n",
    "#reload(ftr_eng)\n",
    "#from sklearn.grid_search import ParameterGrid"
   ]
  },
  {
   "cell_type": "markdown",
   "metadata": {},
   "source": [
    "Read in just the testing and training data."
   ]
  },
  {
   "cell_type": "code",
   "execution_count": 4,
   "metadata": {
    "collapsed": false
   },
   "outputs": [],
   "source": [
    "#train_subset = pd.read_csv('../data/train_users_2.csv', nrows = 100000, index_col='id')\n",
    "train_data = pd.read_csv('../data/train_users_2.csv', index_col = 'id')\n",
    "test_data = pd.read_csv('../data/test_users.csv', index_col = 'id')\n",
    "#sessions = pd.read_csv('../data/sessions.csv')\n",
    "#age = pd.read_csv('../data/age_gender_bkts.csv')\n",
    "#countries = pd.read_csv('../data/countries.csv')"
   ]
  },
  {
   "cell_type": "code",
   "execution_count": 63,
   "metadata": {
    "collapsed": false
   },
   "outputs": [
    {
     "data": {
      "text/html": [
       "<div>\n",
       "<table border=\"1\" class=\"dataframe\">\n",
       "  <thead>\n",
       "    <tr style=\"text-align: right;\">\n",
       "      <th></th>\n",
       "      <th>date_account_created</th>\n",
       "      <th>timestamp_first_active</th>\n",
       "      <th>date_first_booking</th>\n",
       "      <th>gender</th>\n",
       "      <th>age</th>\n",
       "      <th>signup_method</th>\n",
       "      <th>signup_flow</th>\n",
       "      <th>language</th>\n",
       "      <th>affiliate_channel</th>\n",
       "      <th>affiliate_provider</th>\n",
       "      <th>first_affiliate_tracked</th>\n",
       "      <th>signup_app</th>\n",
       "      <th>first_device_type</th>\n",
       "      <th>first_browser</th>\n",
       "    </tr>\n",
       "    <tr>\n",
       "      <th>id</th>\n",
       "      <th></th>\n",
       "      <th></th>\n",
       "      <th></th>\n",
       "      <th></th>\n",
       "      <th></th>\n",
       "      <th></th>\n",
       "      <th></th>\n",
       "      <th></th>\n",
       "      <th></th>\n",
       "      <th></th>\n",
       "      <th></th>\n",
       "      <th></th>\n",
       "      <th></th>\n",
       "      <th></th>\n",
       "    </tr>\n",
       "  </thead>\n",
       "  <tbody>\n",
       "  </tbody>\n",
       "</table>\n",
       "</div>"
      ],
      "text/plain": [
       "Empty DataFrame\n",
       "Columns: [date_account_created, timestamp_first_active, date_first_booking, gender, age, signup_method, signup_flow, language, affiliate_channel, affiliate_provider, first_affiliate_tracked, signup_app, first_device_type, first_browser]\n",
       "Index: []"
      ]
     },
     "execution_count": 63,
     "metadata": {},
     "output_type": "execute_result"
    }
   ],
   "source": [
    "test_data.query('1000>age>110')"
   ]
  },
  {
   "cell_type": "code",
   "execution_count": 83,
   "metadata": {
    "collapsed": false
   },
   "outputs": [
    {
     "data": {
      "text/plain": [
       "65"
      ]
     },
     "execution_count": 83,
     "metadata": {},
     "output_type": "execute_result"
    }
   ],
   "source": [
    "len(train_data.query('age<16'))"
   ]
  },
  {
   "cell_type": "code",
   "execution_count": 80,
   "metadata": {
    "collapsed": false
   },
   "outputs": [
    {
     "data": {
      "text/plain": [
       "NDF    0.961538\n",
       "US     0.038462\n",
       "Name: country_destination, dtype: float64"
      ]
     },
     "execution_count": 80,
     "metadata": {},
     "output_type": "execute_result"
    }
   ],
   "source": [
    "train_data.query('age==16').country_destination.value_counts(normalize = True)"
   ]
  },
  {
   "cell_type": "code",
   "execution_count": 54,
   "metadata": {
    "collapsed": false
   },
   "outputs": [
    {
     "data": {
      "text/plain": [
       "NDF      0.768428\n",
       "US       0.156529\n",
       "other    0.028617\n",
       "FR       0.014888\n",
       "IT       0.009081\n",
       "GB       0.006251\n",
       "ES       0.006171\n",
       "CA       0.003989\n",
       "DE       0.002387\n",
       "NL       0.001818\n",
       "AU       0.001171\n",
       "PT       0.000671\n",
       "Name: country_destination, dtype: float64"
      ]
     },
     "execution_count": 54,
     "metadata": {},
     "output_type": "execute_result"
    }
   ],
   "source": [
    "train_data[pd.isnull(train_data.age)].country_destination.value_counts(normalize = True)"
   ]
  },
  {
   "cell_type": "code",
   "execution_count": 55,
   "metadata": {
    "collapsed": false
   },
   "outputs": [
    {
     "data": {
      "text/plain": [
       "NDF      0.738462\n",
       "US       0.138462\n",
       "IT       0.030769\n",
       "FR       0.030769\n",
       "DE       0.015385\n",
       "ES       0.015385\n",
       "GB       0.015385\n",
       "other    0.015385\n",
       "Name: country_destination, dtype: float64"
      ]
     },
     "execution_count": 55,
     "metadata": {},
     "output_type": "execute_result"
    }
   ],
   "source": [
    "train_data.query('age17').country_destination.value_counts()"
   ]
  },
  {
   "cell_type": "code",
   "execution_count": 3,
   "metadata": {
    "collapsed": false
   },
   "outputs": [],
   "source": [
    "test_sessions = sessions[sessions.user_id.isin(test_data.index)]\n",
    "tr_sessions = sessions[sessions.user_id.isin(train_data.index)]\n",
    "tr_sessions.set_index('user_id', drop= False, inplace=True)\n",
    "tr_sessions = pd.concat([tr_sessions, train_data.country_destination], join = 'inner', axis = 1)"
   ]
  },
  {
   "cell_type": "code",
   "execution_count": 92,
   "metadata": {
    "collapsed": true
   },
   "outputs": [],
   "source": [
    "train_df = train_data.loc[train_data.index.isin(tr_sessions.user_id)]"
   ]
  },
  {
   "cell_type": "code",
   "execution_count": 93,
   "metadata": {
    "collapsed": false
   },
   "outputs": [
    {
     "name": "stdout",
     "output_type": "stream",
     "text": [
      "number of columns before one hot encoding 30\n",
      "number of columns after one hot encoding 139\n"
     ]
    }
   ],
   "source": [
    "train_df = ftr_eng.sessions(train_df, tr_sessions)\n",
    "train_df = ftr_eng.users(train_df)\n",
    "train_df = ftr_eng.one_hot(train_df)\n",
    "train_Y = ftr_eng.binarize_targets(train_df)"
   ]
  },
  {
   "cell_type": "code",
   "execution_count": 104,
   "metadata": {
    "collapsed": false
   },
   "outputs": [],
   "source": [
    "train_X = train_df2.drop('country_destination', axis = 1).values"
   ]
  },
  {
   "cell_type": "code",
   "execution_count": 105,
   "metadata": {
    "collapsed": false
   },
   "outputs": [],
   "source": [
    "#baseline cross-valdation\n",
    "param = {'objective': 'binary:logistic', 'seed': 0}\n",
    "param['eta'] = 0.20\n",
    "param['max_depth'] = 5\n",
    "param['subsample'] = .5\n",
    "param['col_sample_bytree'] = .6\n",
    "results = {}\n",
    "\n",
    "dtrain = xgb.DMatrix(train_X, label = targets, missing = -1)\n",
    "baseline_sessions = xgb.cv(param, dtrain, num_boost_round = 40, nfold = 10, metrics={'error'})"
   ]
  },
  {
   "cell_type": "code",
   "execution_count": 107,
   "metadata": {
    "collapsed": false
   },
   "outputs": [
    {
     "data": {
      "text/plain": [
       "<xgboost.core.Booster at 0x7f0c33b64d90>"
      ]
     },
     "execution_count": 107,
     "metadata": {},
     "output_type": "execute_result"
    }
   ],
   "source": [
    "bst = xgb.train(param, dtrain, num_boost_round = 40)"
   ]
  },
  {
   "cell_type": "code",
   "execution_count": 110,
   "metadata": {
    "collapsed": false
   },
   "outputs": [
    {
     "data": {
      "text/plain": [
       "[('f4', 'secs_elapsed', 190),\n",
       " ('f0', 'age', 114),\n",
       " ('f3', 'action_counts', 114),\n",
       " ('f12', 'dac_day', 83),\n",
       " ('f16', 'tfa_hour', 62),\n",
       " ('f2', 'message_post', 47),\n",
       " ('f1', 'booking_request', 33),\n",
       " ('f13', 'dac_dayofweek', 25),\n",
       " ('f17', 'gender_-unknown-', 21),\n",
       " ('f56', 'affiliate_channel_content', 18),\n",
       " ('f101', 'first_browser_-unknown-', 17),\n",
       " ('f7', 'Windows Desktop', 16),\n",
       " ('f22', 'signup_method_facebook', 16),\n",
       " ('f5', 'update_listing', 14),\n",
       " ('f18', 'gender_FEMALE', 14),\n",
       " ('f21', 'signup_method_basic', 13),\n",
       " ('f80', 'first_affiliate_tracked_-1', 11),\n",
       " ('f57', 'affiliate_channel_direct', 11),\n",
       " ('f36', 'language_en', 11),\n",
       " ('f95', 'first_device_type_Mac Desktop', 10),\n",
       " ('f113', 'first_browser_IE', 10),\n",
       " ('f9', 'Android Phone', 9),\n",
       " ('f107', 'first_browser_Chrome', 9),\n",
       " ('f84', 'first_affiliate_tracked_omg', 9),\n",
       " ('f8', 'iPhone', 8),\n",
       " ('f87', 'first_affiliate_tracked_untracked', 8),\n",
       " ('f81', 'first_affiliate_tracked_linked', 8),\n",
       " ('f24', 'signup_flow_0', 8),\n",
       " ('f29', 'signup_flow_24', 8),\n",
       " ('f99', 'first_device_type_iPad', 8),\n",
       " ('f100', 'first_device_type_iPhone', 7),\n",
       " ('f62', 'affiliate_channel_seo', 7),\n",
       " ('f90', 'signup_app_Web', 7),\n",
       " ('f98', 'first_device_type_Windows Desktop', 7),\n",
       " ('f6', 'Mac Desktop', 6),\n",
       " ('f127', 'first_browser_Safari', 6),\n",
       " ('f120', 'first_browser_Mobile Safari', 6),\n",
       " ('f61', 'affiliate_channel_sem-non-brand', 6),\n",
       " ('f111', 'first_browser_Firefox', 6),\n",
       " ('f71', 'affiliate_provider_google', 6),\n",
       " ('f10', 'iPad Tablet', 6),\n",
       " ('f89', 'signup_app_Moweb', 5),\n",
       " ('f60', 'affiliate_channel_sem-brand', 5),\n",
       " ('f103', 'first_browser_Android Browser', 4),\n",
       " ('f92', 'first_device_type_Android Phone', 4),\n",
       " ('f19', 'gender_MALE', 4),\n",
       " ('f85', 'first_affiliate_tracked_product', 3),\n",
       " ('f108', 'first_browser_Chrome Mobile', 3),\n",
       " ('f88', 'signup_app_Android', 3),\n",
       " ('f86', 'first_affiliate_tracked_tracked-other', 3),\n",
       " ('f26', 'signup_flow_12', 3),\n",
       " ('f91', 'signup_app_iOS', 3),\n",
       " ('f58', 'affiliate_channel_other', 3),\n",
       " ('f59', 'affiliate_channel_remarketing', 2),\n",
       " ('f49', 'language_pt', 2),\n",
       " ('f69', 'affiliate_provider_facebook', 2),\n",
       " ('f54', 'language_zh', 2),\n",
       " ('f39', 'language_fr', 2),\n",
       " ('f37', 'language_es', 2),\n",
       " ('f129', 'first_browser_Silk', 1),\n",
       " ('f43', 'language_it', 1),\n",
       " ('f75', 'affiliate_provider_other', 1),\n",
       " ('f93', 'first_device_type_Android Tablet', 1),\n",
       " ('f96', 'first_device_type_Other/Unknown', 1),\n",
       " ('f76', 'affiliate_provider_padmapper', 1),\n",
       " ('f55', 'affiliate_channel_api', 1),\n",
       " ('f51', 'language_sv', 1),\n",
       " ('f70', 'affiliate_provider_facebook-open-graph', 1),\n",
       " ('f44', 'language_ja', 1),\n",
       " ('f30', 'signup_flow_25', 1),\n",
       " ('f64', 'affiliate_provider_bing', 1),\n",
       " ('f34', 'language_de', 1)]"
      ]
     },
     "execution_count": 110,
     "metadata": {},
     "output_type": "execute_result"
    }
   ],
   "source": [
    "features = sorted(bst.get_fscore().items(), key = lambda x: x[1], reverse = True)\n",
    "[(feat, train_df2.drop('country_destination', axis = 1).columns[int(feat[1:])], score) for feat, score in features]"
   ]
  },
  {
   "cell_type": "code",
   "execution_count": 106,
   "metadata": {
    "collapsed": false
   },
   "outputs": [
    {
     "data": {
      "text/html": [
       "<div>\n",
       "<table border=\"1\" class=\"dataframe\">\n",
       "  <thead>\n",
       "    <tr style=\"text-align: right;\">\n",
       "      <th></th>\n",
       "      <th>test-error-mean</th>\n",
       "      <th>test-error-std</th>\n",
       "      <th>train-error-mean</th>\n",
       "      <th>train-error-std</th>\n",
       "    </tr>\n",
       "  </thead>\n",
       "  <tbody>\n",
       "    <tr>\n",
       "      <th>0</th>\n",
       "      <td>0.242677</td>\n",
       "      <td>0.003862</td>\n",
       "      <td>0.240481</td>\n",
       "      <td>0.000529</td>\n",
       "    </tr>\n",
       "    <tr>\n",
       "      <th>1</th>\n",
       "      <td>0.240862</td>\n",
       "      <td>0.004603</td>\n",
       "      <td>0.239508</td>\n",
       "      <td>0.000904</td>\n",
       "    </tr>\n",
       "    <tr>\n",
       "      <th>2</th>\n",
       "      <td>0.241526</td>\n",
       "      <td>0.003424</td>\n",
       "      <td>0.239112</td>\n",
       "      <td>0.001017</td>\n",
       "    </tr>\n",
       "    <tr>\n",
       "      <th>3</th>\n",
       "      <td>0.240293</td>\n",
       "      <td>0.003416</td>\n",
       "      <td>0.238420</td>\n",
       "      <td>0.001099</td>\n",
       "    </tr>\n",
       "    <tr>\n",
       "      <th>4</th>\n",
       "      <td>0.240509</td>\n",
       "      <td>0.003280</td>\n",
       "      <td>0.238527</td>\n",
       "      <td>0.000744</td>\n",
       "    </tr>\n",
       "    <tr>\n",
       "      <th>5</th>\n",
       "      <td>0.240225</td>\n",
       "      <td>0.003642</td>\n",
       "      <td>0.238348</td>\n",
       "      <td>0.000681</td>\n",
       "    </tr>\n",
       "    <tr>\n",
       "      <th>6</th>\n",
       "      <td>0.239575</td>\n",
       "      <td>0.003936</td>\n",
       "      <td>0.237926</td>\n",
       "      <td>0.000651</td>\n",
       "    </tr>\n",
       "    <tr>\n",
       "      <th>7</th>\n",
       "      <td>0.239981</td>\n",
       "      <td>0.004520</td>\n",
       "      <td>0.237604</td>\n",
       "      <td>0.000618</td>\n",
       "    </tr>\n",
       "    <tr>\n",
       "      <th>8</th>\n",
       "      <td>0.239629</td>\n",
       "      <td>0.003832</td>\n",
       "      <td>0.237101</td>\n",
       "      <td>0.000505</td>\n",
       "    </tr>\n",
       "    <tr>\n",
       "      <th>9</th>\n",
       "      <td>0.239249</td>\n",
       "      <td>0.004102</td>\n",
       "      <td>0.237064</td>\n",
       "      <td>0.000702</td>\n",
       "    </tr>\n",
       "    <tr>\n",
       "      <th>10</th>\n",
       "      <td>0.238694</td>\n",
       "      <td>0.004231</td>\n",
       "      <td>0.236461</td>\n",
       "      <td>0.000580</td>\n",
       "    </tr>\n",
       "    <tr>\n",
       "      <th>11</th>\n",
       "      <td>0.238721</td>\n",
       "      <td>0.003856</td>\n",
       "      <td>0.236094</td>\n",
       "      <td>0.000656</td>\n",
       "    </tr>\n",
       "    <tr>\n",
       "      <th>12</th>\n",
       "      <td>0.238233</td>\n",
       "      <td>0.003936</td>\n",
       "      <td>0.235644</td>\n",
       "      <td>0.000630</td>\n",
       "    </tr>\n",
       "    <tr>\n",
       "      <th>13</th>\n",
       "      <td>0.238220</td>\n",
       "      <td>0.003877</td>\n",
       "      <td>0.235269</td>\n",
       "      <td>0.000654</td>\n",
       "    </tr>\n",
       "    <tr>\n",
       "      <th>14</th>\n",
       "      <td>0.238247</td>\n",
       "      <td>0.003892</td>\n",
       "      <td>0.235096</td>\n",
       "      <td>0.000593</td>\n",
       "    </tr>\n",
       "    <tr>\n",
       "      <th>15</th>\n",
       "      <td>0.237569</td>\n",
       "      <td>0.003918</td>\n",
       "      <td>0.234771</td>\n",
       "      <td>0.000572</td>\n",
       "    </tr>\n",
       "    <tr>\n",
       "      <th>16</th>\n",
       "      <td>0.237488</td>\n",
       "      <td>0.004117</td>\n",
       "      <td>0.234505</td>\n",
       "      <td>0.000610</td>\n",
       "    </tr>\n",
       "    <tr>\n",
       "      <th>17</th>\n",
       "      <td>0.237204</td>\n",
       "      <td>0.003686</td>\n",
       "      <td>0.234145</td>\n",
       "      <td>0.000839</td>\n",
       "    </tr>\n",
       "    <tr>\n",
       "      <th>18</th>\n",
       "      <td>0.237285</td>\n",
       "      <td>0.004011</td>\n",
       "      <td>0.234068</td>\n",
       "      <td>0.000806</td>\n",
       "    </tr>\n",
       "    <tr>\n",
       "      <th>19</th>\n",
       "      <td>0.237556</td>\n",
       "      <td>0.003806</td>\n",
       "      <td>0.233679</td>\n",
       "      <td>0.000846</td>\n",
       "    </tr>\n",
       "    <tr>\n",
       "      <th>20</th>\n",
       "      <td>0.237420</td>\n",
       "      <td>0.003919</td>\n",
       "      <td>0.233497</td>\n",
       "      <td>0.000727</td>\n",
       "    </tr>\n",
       "    <tr>\n",
       "      <th>21</th>\n",
       "      <td>0.237596</td>\n",
       "      <td>0.003748</td>\n",
       "      <td>0.233330</td>\n",
       "      <td>0.000671</td>\n",
       "    </tr>\n",
       "    <tr>\n",
       "      <th>22</th>\n",
       "      <td>0.237380</td>\n",
       "      <td>0.003961</td>\n",
       "      <td>0.233189</td>\n",
       "      <td>0.000812</td>\n",
       "    </tr>\n",
       "    <tr>\n",
       "      <th>23</th>\n",
       "      <td>0.237041</td>\n",
       "      <td>0.003896</td>\n",
       "      <td>0.233017</td>\n",
       "      <td>0.000825</td>\n",
       "    </tr>\n",
       "    <tr>\n",
       "      <th>24</th>\n",
       "      <td>0.237014</td>\n",
       "      <td>0.003928</td>\n",
       "      <td>0.232800</td>\n",
       "      <td>0.000808</td>\n",
       "    </tr>\n",
       "    <tr>\n",
       "      <th>25</th>\n",
       "      <td>0.236662</td>\n",
       "      <td>0.003985</td>\n",
       "      <td>0.232533</td>\n",
       "      <td>0.000894</td>\n",
       "    </tr>\n",
       "    <tr>\n",
       "      <th>26</th>\n",
       "      <td>0.236702</td>\n",
       "      <td>0.003584</td>\n",
       "      <td>0.232338</td>\n",
       "      <td>0.000803</td>\n",
       "    </tr>\n",
       "    <tr>\n",
       "      <th>27</th>\n",
       "      <td>0.236811</td>\n",
       "      <td>0.003425</td>\n",
       "      <td>0.232090</td>\n",
       "      <td>0.000713</td>\n",
       "    </tr>\n",
       "    <tr>\n",
       "      <th>28</th>\n",
       "      <td>0.236919</td>\n",
       "      <td>0.003032</td>\n",
       "      <td>0.231864</td>\n",
       "      <td>0.000761</td>\n",
       "    </tr>\n",
       "    <tr>\n",
       "      <th>29</th>\n",
       "      <td>0.236580</td>\n",
       "      <td>0.003334</td>\n",
       "      <td>0.231602</td>\n",
       "      <td>0.000719</td>\n",
       "    </tr>\n",
       "    <tr>\n",
       "      <th>30</th>\n",
       "      <td>0.236878</td>\n",
       "      <td>0.003912</td>\n",
       "      <td>0.231382</td>\n",
       "      <td>0.000718</td>\n",
       "    </tr>\n",
       "    <tr>\n",
       "      <th>31</th>\n",
       "      <td>0.236838</td>\n",
       "      <td>0.003775</td>\n",
       "      <td>0.231149</td>\n",
       "      <td>0.000786</td>\n",
       "    </tr>\n",
       "    <tr>\n",
       "      <th>32</th>\n",
       "      <td>0.236743</td>\n",
       "      <td>0.003949</td>\n",
       "      <td>0.230907</td>\n",
       "      <td>0.000638</td>\n",
       "    </tr>\n",
       "    <tr>\n",
       "      <th>33</th>\n",
       "      <td>0.236729</td>\n",
       "      <td>0.003756</td>\n",
       "      <td>0.230687</td>\n",
       "      <td>0.000678</td>\n",
       "    </tr>\n",
       "    <tr>\n",
       "      <th>34</th>\n",
       "      <td>0.236811</td>\n",
       "      <td>0.003784</td>\n",
       "      <td>0.230360</td>\n",
       "      <td>0.000701</td>\n",
       "    </tr>\n",
       "    <tr>\n",
       "      <th>35</th>\n",
       "      <td>0.237055</td>\n",
       "      <td>0.003571</td>\n",
       "      <td>0.230086</td>\n",
       "      <td>0.000757</td>\n",
       "    </tr>\n",
       "    <tr>\n",
       "      <th>36</th>\n",
       "      <td>0.236702</td>\n",
       "      <td>0.003775</td>\n",
       "      <td>0.229952</td>\n",
       "      <td>0.000734</td>\n",
       "    </tr>\n",
       "    <tr>\n",
       "      <th>37</th>\n",
       "      <td>0.236702</td>\n",
       "      <td>0.003566</td>\n",
       "      <td>0.229716</td>\n",
       "      <td>0.000697</td>\n",
       "    </tr>\n",
       "    <tr>\n",
       "      <th>38</th>\n",
       "      <td>0.236743</td>\n",
       "      <td>0.003506</td>\n",
       "      <td>0.229416</td>\n",
       "      <td>0.000713</td>\n",
       "    </tr>\n",
       "    <tr>\n",
       "      <th>39</th>\n",
       "      <td>0.236377</td>\n",
       "      <td>0.003490</td>\n",
       "      <td>0.229194</td>\n",
       "      <td>0.000735</td>\n",
       "    </tr>\n",
       "  </tbody>\n",
       "</table>\n",
       "</div>"
      ],
      "text/plain": [
       "    test-error-mean  test-error-std  train-error-mean  train-error-std\n",
       "0          0.242677        0.003862          0.240481         0.000529\n",
       "1          0.240862        0.004603          0.239508         0.000904\n",
       "2          0.241526        0.003424          0.239112         0.001017\n",
       "3          0.240293        0.003416          0.238420         0.001099\n",
       "4          0.240509        0.003280          0.238527         0.000744\n",
       "5          0.240225        0.003642          0.238348         0.000681\n",
       "6          0.239575        0.003936          0.237926         0.000651\n",
       "7          0.239981        0.004520          0.237604         0.000618\n",
       "8          0.239629        0.003832          0.237101         0.000505\n",
       "9          0.239249        0.004102          0.237064         0.000702\n",
       "10         0.238694        0.004231          0.236461         0.000580\n",
       "11         0.238721        0.003856          0.236094         0.000656\n",
       "12         0.238233        0.003936          0.235644         0.000630\n",
       "13         0.238220        0.003877          0.235269         0.000654\n",
       "14         0.238247        0.003892          0.235096         0.000593\n",
       "15         0.237569        0.003918          0.234771         0.000572\n",
       "16         0.237488        0.004117          0.234505         0.000610\n",
       "17         0.237204        0.003686          0.234145         0.000839\n",
       "18         0.237285        0.004011          0.234068         0.000806\n",
       "19         0.237556        0.003806          0.233679         0.000846\n",
       "20         0.237420        0.003919          0.233497         0.000727\n",
       "21         0.237596        0.003748          0.233330         0.000671\n",
       "22         0.237380        0.003961          0.233189         0.000812\n",
       "23         0.237041        0.003896          0.233017         0.000825\n",
       "24         0.237014        0.003928          0.232800         0.000808\n",
       "25         0.236662        0.003985          0.232533         0.000894\n",
       "26         0.236702        0.003584          0.232338         0.000803\n",
       "27         0.236811        0.003425          0.232090         0.000713\n",
       "28         0.236919        0.003032          0.231864         0.000761\n",
       "29         0.236580        0.003334          0.231602         0.000719\n",
       "30         0.236878        0.003912          0.231382         0.000718\n",
       "31         0.236838        0.003775          0.231149         0.000786\n",
       "32         0.236743        0.003949          0.230907         0.000638\n",
       "33         0.236729        0.003756          0.230687         0.000678\n",
       "34         0.236811        0.003784          0.230360         0.000701\n",
       "35         0.237055        0.003571          0.230086         0.000757\n",
       "36         0.236702        0.003775          0.229952         0.000734\n",
       "37         0.236702        0.003566          0.229716         0.000697\n",
       "38         0.236743        0.003506          0.229416         0.000713\n",
       "39         0.236377        0.003490          0.229194         0.000735"
      ]
     },
     "execution_count": 106,
     "metadata": {},
     "output_type": "execute_result"
    }
   ],
   "source": [
    "baseline_sessions"
   ]
  },
  {
   "cell_type": "code",
   "execution_count": 103,
   "metadata": {
    "collapsed": false,
    "scrolled": true
   },
   "outputs": [],
   "source": [
    "train_df2 = train_df.drop(['dac_month', 'tfa_month'], axis = 1)"
   ]
  },
  {
   "cell_type": "code",
   "execution_count": null,
   "metadata": {
    "collapsed": true
   },
   "outputs": [],
   "source": [
    "post_cnts = tr_sessions.groupby(['user_id']).apply(lambda x: np.sum(x['action_type'] == 'message_post'))"
   ]
  },
  {
   "cell_type": "code",
   "execution_count": null,
   "metadata": {
    "collapsed": false
   },
   "outputs": [],
   "source": [
    "train_df = pd.concat([train_df, posters_cnts], axis = 1, join = 'inner')\n",
    "train_df = train_df.rename(columns = {0:'post_cnts'})"
   ]
  },
  {
   "cell_type": "code",
   "execution_count": null,
   "metadata": {
    "collapsed": false
   },
   "outputs": [],
   "source": [
    "axes = plt.gca()\n",
    "axes.set_xlim([0,20000])\n",
    "#s.hist(ax=axes, bins= 1000)\n",
    "tr_sessions[tr_sessions.action == 'this_hosting_reviews']['secs_elapsed'].hist(bins = 1000)"
   ]
  },
  {
   "cell_type": "code",
   "execution_count": 6,
   "metadata": {
    "collapsed": false
   },
   "outputs": [
    {
     "name": "stdout",
     "output_type": "stream",
     "text": [
      "message_thread\n",
      "toggle_archived_thread\n",
      "lookup_message_thread\n",
      "toggle_starred_thread\n"
     ]
    }
   ],
   "source": [
    "acts = tr_sessions.action_detail.unique()\n",
    "acts = [x for x in acts if x is not np.NaN]\n",
    "for x in acts:\n",
    "    if 'thread' in x:\n",
    "        print x"
   ]
  },
  {
   "cell_type": "code",
   "execution_count": null,
   "metadata": {
    "collapsed": false
   },
   "outputs": [],
   "source": [
    "#31358 users posted messages in test set, it's worth distinguishing NDF and non-NDF?\n",
    "#fifty-fifty split\n",
    "print len(test_sessions.query('action_type == \"message_post\"').index.unique())\n",
    "posters = tr_sessions.query('action_type == \"message_post\"').index.unique()\n",
    "train_data.loc[posters, 'country_destination'].value_counts(normalize = True)"
   ]
  },
  {
   "cell_type": "code",
   "execution_count": null,
   "metadata": {
    "collapsed": true
   },
   "outputs": [],
   "source": [
    "print len(test_sessions.query('action_type == \"booking_request\"').index.unique())\n",
    "train_data.loc[all_bookers, 'country_destination'].value_counts(normalize = True)"
   ]
  },
  {
   "cell_type": "code",
   "execution_count": null,
   "metadata": {
    "collapsed": false
   },
   "outputs": [],
   "source": [
    "#8067 booking requests in test set, it's worth distinguishing NDF and non-NDF\n",
    "print len(test_sessions.query('action_type == \"booking_request\"').index.unique())\n",
    "train_data.loc[all_bookers, 'country_destination'].value_counts(normalize = True)"
   ]
  },
  {
   "cell_type": "code",
   "execution_count": null,
   "metadata": {
    "collapsed": false,
    "scrolled": false
   },
   "outputs": [],
   "source": [
    "all_bookers = tr_sessions.query('action_type == \"booking_request\"').index.unique()\n",
    "users_NDF = tr_sessions.query('action_type == \"booking_request\" & country_destination == \"NDF\"').index.unique()\n",
    "users_USA = tr_sessions.query('action_type == \"booking_request\" & country_destination == \"US\"').index.unique()\n",
    "#tr_sessions[tr_sessions.action_type == 'booking_request'].groupby('user_id').filter(lambda x: len('x.country_destination')>1)"
   ]
  },
  {
   "cell_type": "code",
   "execution_count": 8,
   "metadata": {
    "collapsed": false
   },
   "outputs": [],
   "source": [
    "cancel_NDF = tr_sessions.query('action == \"cancel\" & country_destination != \"NDF\"').user_id"
   ]
  },
  {
   "cell_type": "code",
   "execution_count": 35,
   "metadata": {
    "collapsed": false
   },
   "outputs": [
    {
     "data": {
      "text/plain": [
       "True"
      ]
     },
     "execution_count": 35,
     "metadata": {},
     "output_type": "execute_result"
    }
   ],
   "source": [
    "#set hierarchical index???\n",
    "x = tr_sessions.groupby('user_id').count().country_destination\n",
    "#groupby reorders user_id, so put back in the original order\n",
    "x = x.loc[tr_sessions.user_id.unique()]\n",
    "pos = [range(i) for i in x.tolist()]\n",
    "pos = list(itertools.chain.from_iterable(pos))\n",
    "tr_sessions['pos'] = pos\n",
    "len(pos) == len(tr_sessions)"
   ]
  },
  {
   "cell_type": "code",
   "execution_count": 36,
   "metadata": {
    "collapsed": false
   },
   "outputs": [
    {
     "data": {
      "text/plain": [
       "True"
      ]
     },
     "execution_count": 36,
     "metadata": {},
     "output_type": "execute_result"
    }
   ],
   "source": [
    "#position normalized by total number of actions\n",
    "pos_norm = [np.arange(total)/float(total-1) for total in x.tolist()]\n",
    "pos_norm = list(itertools.chain.from_iterable(pos_norm))\n",
    "tr_sessions['pos_norm'] = pos_norm\n",
    "len(pos_norm) == len(tr_sessions)"
   ]
  },
  {
   "cell_type": "code",
   "execution_count": null,
   "metadata": {
    "collapsed": false
   },
   "outputs": [],
   "source": [
    "len(test_sessions[test_sessions.action_type == 'booking_request'].groupby('user_id'))"
   ]
  },
  {
   "cell_type": "code",
   "execution_count": null,
   "metadata": {
    "collapsed": false
   },
   "outputs": [],
   "source": [
    "test_sessions[test_sessions.action == 'add_guests'].groupby('user_id').count()"
   ]
  },
  {
   "cell_type": "code",
   "execution_count": null,
   "metadata": {
    "collapsed": false
   },
   "outputs": [],
   "source": [
    "tr_sessions[tr_sessions.action == 'add_guests'].groupby('user_id')['country_destination'].unique()"
   ]
  },
  {
   "cell_type": "code",
   "execution_count": null,
   "metadata": {
    "collapsed": false
   },
   "outputs": [],
   "source": [
    "actions_both30 = set(tr_sessions.action.unique()) & set(actions_30.action.unique())"
   ]
  },
  {
   "cell_type": "code",
   "execution_count": null,
   "metadata": {
    "collapsed": false
   },
   "outputs": [],
   "source": [
    "actions_30 = test_sessions.groupby('action').filter(lambda x: x['user_id'].nunique()>30)"
   ]
  },
  {
   "cell_type": "code",
   "execution_count": 79,
   "metadata": {
    "collapsed": false
   },
   "outputs": [
    {
     "data": {
      "text/plain": [
       "NDF    5\n",
       "Name: country_destination, dtype: int64"
      ]
     },
     "execution_count": 79,
     "metadata": {},
     "output_type": "execute_result"
    }
   ],
   "source": [
    "getcntr('ajax_payout_split_edit', tr_sessions.action, train_data)"
   ]
  },
  {
   "cell_type": "code",
   "execution_count": null,
   "metadata": {
    "collapsed": false
   },
   "outputs": [],
   "source": [
    "getcntr('ajax_google_translate', tr_sessions, train_data)"
   ]
  },
  {
   "cell_type": "code",
   "execution_count": 53,
   "metadata": {
    "collapsed": false
   },
   "outputs": [
    {
     "data": {
      "text/plain": [
       "array(['similar_listings', 'ajax_lwlb_contact', 'ajax_refresh_subtotal',\n",
       "       'ajax_check_dates', nan, 'ask_question', 'index', 'search_results',\n",
       "       'lookup', 'show', 'personalize', 'other_hosting_reviews_first',\n",
       "       'identity', 'jumio_token', 'jumio_redirect', 'create', 'verify',\n",
       "       'request_new_confirm_email', 'confirm_email', 'complete_status',\n",
       "       'travel_plans_current', 'dashboard', 'header_userpic'], dtype=object)"
      ]
     },
     "execution_count": 53,
     "metadata": {},
     "output_type": "execute_result"
    }
   ],
   "source": [
    "tr_sessions[tr_sessions.user_id == 'gg6b14vkqh'].action.unique()"
   ]
  },
  {
   "cell_type": "code",
   "execution_count": 42,
   "metadata": {
    "collapsed": false
   },
   "outputs": [
    {
     "data": {
      "text/plain": [
       "US       4349\n",
       "NDF      2477\n",
       "other     737\n",
       "FR        303\n",
       "IT        232\n",
       "GB        154\n",
       "ES        135\n",
       "CA        114\n",
       "DE         57\n",
       "NL         56\n",
       "AU         28\n",
       "PT         18\n",
       "Name: country_destination, dtype: int64"
      ]
     },
     "execution_count": 42,
     "metadata": {},
     "output_type": "execute_result"
    }
   ],
   "source": [
    "getcntr('travel_plans_current', tr_sessions.action, train_data)"
   ]
  },
  {
   "cell_type": "code",
   "execution_count": null,
   "metadata": {
    "collapsed": false,
    "scrolled": false
   },
   "outputs": [],
   "source": [
    "tr_sessions[tr_sessions.user_id == 'd1mm9tcy42'].action_detail.unique()"
   ]
  },
  {
   "cell_type": "code",
   "execution_count": null,
   "metadata": {
    "collapsed": false
   },
   "outputs": [],
   "source": [
    "tr_sessions[tr_sessions.user_id == 'jluu5qcwhg'].action_detail.unique()"
   ]
  },
  {
   "cell_type": "markdown",
   "metadata": {},
   "source": [
    "tr_sessions[tr_sessions.user_id == 'qtw88d9pbl'].action_detail.unique()"
   ]
  },
  {
   "cell_type": "code",
   "execution_count": 34,
   "metadata": {
    "collapsed": false
   },
   "outputs": [
    {
     "data": {
      "text/html": [
       "<div>\n",
       "<table border=\"1\" class=\"dataframe\">\n",
       "  <thead>\n",
       "    <tr style=\"text-align: right;\">\n",
       "      <th></th>\n",
       "      <th>user_id</th>\n",
       "      <th>action</th>\n",
       "      <th>action_type</th>\n",
       "      <th>action_detail</th>\n",
       "      <th>device_type</th>\n",
       "      <th>secs_elapsed</th>\n",
       "      <th>country_destination</th>\n",
       "    </tr>\n",
       "  </thead>\n",
       "  <tbody>\n",
       "    <tr>\n",
       "      <th>d1mm9tcy42</th>\n",
       "      <td>d1mm9tcy42</td>\n",
       "      <td>ajax_refresh_subtotal</td>\n",
       "      <td>click</td>\n",
       "      <td>change_trip_characteristics</td>\n",
       "      <td>Windows Desktop</td>\n",
       "      <td>8134</td>\n",
       "      <td>other</td>\n",
       "    </tr>\n",
       "    <tr>\n",
       "      <th>d1mm9tcy42</th>\n",
       "      <td>d1mm9tcy42</td>\n",
       "      <td>ajax_refresh_subtotal</td>\n",
       "      <td>click</td>\n",
       "      <td>change_trip_characteristics</td>\n",
       "      <td>Windows Desktop</td>\n",
       "      <td>175570</td>\n",
       "      <td>other</td>\n",
       "    </tr>\n",
       "    <tr>\n",
       "      <th>d1mm9tcy42</th>\n",
       "      <td>d1mm9tcy42</td>\n",
       "      <td>ajax_refresh_subtotal</td>\n",
       "      <td>click</td>\n",
       "      <td>change_trip_characteristics</td>\n",
       "      <td>Windows Desktop</td>\n",
       "      <td>982</td>\n",
       "      <td>other</td>\n",
       "    </tr>\n",
       "    <tr>\n",
       "      <th>d1mm9tcy42</th>\n",
       "      <td>d1mm9tcy42</td>\n",
       "      <td>ajax_refresh_subtotal</td>\n",
       "      <td>click</td>\n",
       "      <td>change_trip_characteristics</td>\n",
       "      <td>Windows Desktop</td>\n",
       "      <td>1013</td>\n",
       "      <td>other</td>\n",
       "    </tr>\n",
       "    <tr>\n",
       "      <th>d1mm9tcy42</th>\n",
       "      <td>d1mm9tcy42</td>\n",
       "      <td>ajax_refresh_subtotal</td>\n",
       "      <td>click</td>\n",
       "      <td>change_trip_characteristics</td>\n",
       "      <td>Windows Desktop</td>\n",
       "      <td>427</td>\n",
       "      <td>other</td>\n",
       "    </tr>\n",
       "    <tr>\n",
       "      <th>d1mm9tcy42</th>\n",
       "      <td>d1mm9tcy42</td>\n",
       "      <td>ajax_refresh_subtotal</td>\n",
       "      <td>click</td>\n",
       "      <td>change_trip_characteristics</td>\n",
       "      <td>Windows Desktop</td>\n",
       "      <td>212772</td>\n",
       "      <td>other</td>\n",
       "    </tr>\n",
       "    <tr>\n",
       "      <th>d1mm9tcy42</th>\n",
       "      <td>d1mm9tcy42</td>\n",
       "      <td>ajax_refresh_subtotal</td>\n",
       "      <td>click</td>\n",
       "      <td>change_trip_characteristics</td>\n",
       "      <td>Windows Desktop</td>\n",
       "      <td>42050</td>\n",
       "      <td>other</td>\n",
       "    </tr>\n",
       "    <tr>\n",
       "      <th>d1mm9tcy42</th>\n",
       "      <td>d1mm9tcy42</td>\n",
       "      <td>ajax_refresh_subtotal</td>\n",
       "      <td>click</td>\n",
       "      <td>change_trip_characteristics</td>\n",
       "      <td>Windows Desktop</td>\n",
       "      <td>791</td>\n",
       "      <td>other</td>\n",
       "    </tr>\n",
       "    <tr>\n",
       "      <th>ncf87guaf0</th>\n",
       "      <td>ncf87guaf0</td>\n",
       "      <td>ajax_refresh_subtotal</td>\n",
       "      <td>click</td>\n",
       "      <td>change_trip_characteristics</td>\n",
       "      <td>Windows Desktop</td>\n",
       "      <td>3664</td>\n",
       "      <td>NDF</td>\n",
       "    </tr>\n",
       "    <tr>\n",
       "      <th>ncf87guaf0</th>\n",
       "      <td>ncf87guaf0</td>\n",
       "      <td>ajax_refresh_subtotal</td>\n",
       "      <td>click</td>\n",
       "      <td>change_trip_characteristics</td>\n",
       "      <td>Windows Desktop</td>\n",
       "      <td>3913</td>\n",
       "      <td>NDF</td>\n",
       "    </tr>\n",
       "    <tr>\n",
       "      <th>ncf87guaf0</th>\n",
       "      <td>ncf87guaf0</td>\n",
       "      <td>ajax_refresh_subtotal</td>\n",
       "      <td>click</td>\n",
       "      <td>change_trip_characteristics</td>\n",
       "      <td>Windows Desktop</td>\n",
       "      <td>29411</td>\n",
       "      <td>NDF</td>\n",
       "    </tr>\n",
       "    <tr>\n",
       "      <th>ncf87guaf0</th>\n",
       "      <td>ncf87guaf0</td>\n",
       "      <td>ajax_refresh_subtotal</td>\n",
       "      <td>click</td>\n",
       "      <td>change_trip_characteristics</td>\n",
       "      <td>Windows Desktop</td>\n",
       "      <td>3522</td>\n",
       "      <td>NDF</td>\n",
       "    </tr>\n",
       "    <tr>\n",
       "      <th>ncf87guaf0</th>\n",
       "      <td>ncf87guaf0</td>\n",
       "      <td>ajax_refresh_subtotal</td>\n",
       "      <td>click</td>\n",
       "      <td>change_trip_characteristics</td>\n",
       "      <td>Windows Desktop</td>\n",
       "      <td>36368</td>\n",
       "      <td>NDF</td>\n",
       "    </tr>\n",
       "    <tr>\n",
       "      <th>ncf87guaf0</th>\n",
       "      <td>ncf87guaf0</td>\n",
       "      <td>ajax_refresh_subtotal</td>\n",
       "      <td>click</td>\n",
       "      <td>change_trip_characteristics</td>\n",
       "      <td>Windows Desktop</td>\n",
       "      <td>3189</td>\n",
       "      <td>NDF</td>\n",
       "    </tr>\n",
       "    <tr>\n",
       "      <th>ncf87guaf0</th>\n",
       "      <td>ncf87guaf0</td>\n",
       "      <td>ajax_refresh_subtotal</td>\n",
       "      <td>click</td>\n",
       "      <td>change_trip_characteristics</td>\n",
       "      <td>Windows Desktop</td>\n",
       "      <td>1985</td>\n",
       "      <td>NDF</td>\n",
       "    </tr>\n",
       "    <tr>\n",
       "      <th>ncf87guaf0</th>\n",
       "      <td>ncf87guaf0</td>\n",
       "      <td>ajax_refresh_subtotal</td>\n",
       "      <td>click</td>\n",
       "      <td>change_trip_characteristics</td>\n",
       "      <td>Windows Desktop</td>\n",
       "      <td>408632</td>\n",
       "      <td>NDF</td>\n",
       "    </tr>\n",
       "    <tr>\n",
       "      <th>ncf87guaf0</th>\n",
       "      <td>ncf87guaf0</td>\n",
       "      <td>ajax_refresh_subtotal</td>\n",
       "      <td>click</td>\n",
       "      <td>change_trip_characteristics</td>\n",
       "      <td>Windows Desktop</td>\n",
       "      <td>1568</td>\n",
       "      <td>NDF</td>\n",
       "    </tr>\n",
       "    <tr>\n",
       "      <th>ncf87guaf0</th>\n",
       "      <td>ncf87guaf0</td>\n",
       "      <td>ajax_refresh_subtotal</td>\n",
       "      <td>click</td>\n",
       "      <td>change_trip_characteristics</td>\n",
       "      <td>Windows Desktop</td>\n",
       "      <td>2966</td>\n",
       "      <td>NDF</td>\n",
       "    </tr>\n",
       "    <tr>\n",
       "      <th>ncf87guaf0</th>\n",
       "      <td>ncf87guaf0</td>\n",
       "      <td>ajax_refresh_subtotal</td>\n",
       "      <td>click</td>\n",
       "      <td>change_trip_characteristics</td>\n",
       "      <td>Windows Desktop</td>\n",
       "      <td>4853</td>\n",
       "      <td>NDF</td>\n",
       "    </tr>\n",
       "    <tr>\n",
       "      <th>ncf87guaf0</th>\n",
       "      <td>ncf87guaf0</td>\n",
       "      <td>ajax_refresh_subtotal</td>\n",
       "      <td>click</td>\n",
       "      <td>change_trip_characteristics</td>\n",
       "      <td>Windows Desktop</td>\n",
       "      <td>27901</td>\n",
       "      <td>NDF</td>\n",
       "    </tr>\n",
       "    <tr>\n",
       "      <th>ncf87guaf0</th>\n",
       "      <td>ncf87guaf0</td>\n",
       "      <td>ajax_refresh_subtotal</td>\n",
       "      <td>click</td>\n",
       "      <td>change_trip_characteristics</td>\n",
       "      <td>Windows Desktop</td>\n",
       "      <td>2995</td>\n",
       "      <td>NDF</td>\n",
       "    </tr>\n",
       "    <tr>\n",
       "      <th>ncf87guaf0</th>\n",
       "      <td>ncf87guaf0</td>\n",
       "      <td>ajax_refresh_subtotal</td>\n",
       "      <td>click</td>\n",
       "      <td>change_trip_characteristics</td>\n",
       "      <td>Windows Desktop</td>\n",
       "      <td>4362</td>\n",
       "      <td>NDF</td>\n",
       "    </tr>\n",
       "    <tr>\n",
       "      <th>ncf87guaf0</th>\n",
       "      <td>ncf87guaf0</td>\n",
       "      <td>ajax_refresh_subtotal</td>\n",
       "      <td>click</td>\n",
       "      <td>change_trip_characteristics</td>\n",
       "      <td>Windows Desktop</td>\n",
       "      <td>211117</td>\n",
       "      <td>NDF</td>\n",
       "    </tr>\n",
       "    <tr>\n",
       "      <th>ncf87guaf0</th>\n",
       "      <td>ncf87guaf0</td>\n",
       "      <td>ajax_refresh_subtotal</td>\n",
       "      <td>click</td>\n",
       "      <td>change_trip_characteristics</td>\n",
       "      <td>Windows Desktop</td>\n",
       "      <td>22258</td>\n",
       "      <td>NDF</td>\n",
       "    </tr>\n",
       "    <tr>\n",
       "      <th>ncf87guaf0</th>\n",
       "      <td>ncf87guaf0</td>\n",
       "      <td>ajax_refresh_subtotal</td>\n",
       "      <td>click</td>\n",
       "      <td>change_trip_characteristics</td>\n",
       "      <td>Windows Desktop</td>\n",
       "      <td>225993</td>\n",
       "      <td>NDF</td>\n",
       "    </tr>\n",
       "    <tr>\n",
       "      <th>ncf87guaf0</th>\n",
       "      <td>ncf87guaf0</td>\n",
       "      <td>ajax_refresh_subtotal</td>\n",
       "      <td>click</td>\n",
       "      <td>change_trip_characteristics</td>\n",
       "      <td>Windows Desktop</td>\n",
       "      <td>13209</td>\n",
       "      <td>NDF</td>\n",
       "    </tr>\n",
       "    <tr>\n",
       "      <th>ncf87guaf0</th>\n",
       "      <td>ncf87guaf0</td>\n",
       "      <td>ajax_refresh_subtotal</td>\n",
       "      <td>click</td>\n",
       "      <td>change_trip_characteristics</td>\n",
       "      <td>Windows Desktop</td>\n",
       "      <td>97839</td>\n",
       "      <td>NDF</td>\n",
       "    </tr>\n",
       "    <tr>\n",
       "      <th>ncf87guaf0</th>\n",
       "      <td>ncf87guaf0</td>\n",
       "      <td>ajax_refresh_subtotal</td>\n",
       "      <td>click</td>\n",
       "      <td>change_trip_characteristics</td>\n",
       "      <td>Windows Desktop</td>\n",
       "      <td>6864</td>\n",
       "      <td>NDF</td>\n",
       "    </tr>\n",
       "    <tr>\n",
       "      <th>ncf87guaf0</th>\n",
       "      <td>ncf87guaf0</td>\n",
       "      <td>ajax_refresh_subtotal</td>\n",
       "      <td>click</td>\n",
       "      <td>change_trip_characteristics</td>\n",
       "      <td>Windows Desktop</td>\n",
       "      <td>7103</td>\n",
       "      <td>NDF</td>\n",
       "    </tr>\n",
       "    <tr>\n",
       "      <th>ncf87guaf0</th>\n",
       "      <td>ncf87guaf0</td>\n",
       "      <td>ajax_refresh_subtotal</td>\n",
       "      <td>click</td>\n",
       "      <td>change_trip_characteristics</td>\n",
       "      <td>Windows Desktop</td>\n",
       "      <td>5257</td>\n",
       "      <td>NDF</td>\n",
       "    </tr>\n",
       "    <tr>\n",
       "      <th>...</th>\n",
       "      <td>...</td>\n",
       "      <td>...</td>\n",
       "      <td>...</td>\n",
       "      <td>...</td>\n",
       "      <td>...</td>\n",
       "      <td>...</td>\n",
       "      <td>...</td>\n",
       "    </tr>\n",
       "    <tr>\n",
       "      <th>mhewnxesx9</th>\n",
       "      <td>mhewnxesx9</td>\n",
       "      <td>ajax_refresh_subtotal</td>\n",
       "      <td>click</td>\n",
       "      <td>change_trip_characteristics</td>\n",
       "      <td>Windows Desktop</td>\n",
       "      <td>797</td>\n",
       "      <td>NDF</td>\n",
       "    </tr>\n",
       "    <tr>\n",
       "      <th>mhewnxesx9</th>\n",
       "      <td>mhewnxesx9</td>\n",
       "      <td>ajax_refresh_subtotal</td>\n",
       "      <td>click</td>\n",
       "      <td>change_trip_characteristics</td>\n",
       "      <td>Windows Desktop</td>\n",
       "      <td>532</td>\n",
       "      <td>NDF</td>\n",
       "    </tr>\n",
       "    <tr>\n",
       "      <th>mhewnxesx9</th>\n",
       "      <td>mhewnxesx9</td>\n",
       "      <td>ajax_refresh_subtotal</td>\n",
       "      <td>click</td>\n",
       "      <td>change_trip_characteristics</td>\n",
       "      <td>Windows Desktop</td>\n",
       "      <td>762</td>\n",
       "      <td>NDF</td>\n",
       "    </tr>\n",
       "    <tr>\n",
       "      <th>mhewnxesx9</th>\n",
       "      <td>mhewnxesx9</td>\n",
       "      <td>ajax_refresh_subtotal</td>\n",
       "      <td>click</td>\n",
       "      <td>change_trip_characteristics</td>\n",
       "      <td>Windows Desktop</td>\n",
       "      <td>509</td>\n",
       "      <td>NDF</td>\n",
       "    </tr>\n",
       "    <tr>\n",
       "      <th>mhewnxesx9</th>\n",
       "      <td>mhewnxesx9</td>\n",
       "      <td>ajax_refresh_subtotal</td>\n",
       "      <td>click</td>\n",
       "      <td>change_trip_characteristics</td>\n",
       "      <td>Windows Desktop</td>\n",
       "      <td>44833</td>\n",
       "      <td>NDF</td>\n",
       "    </tr>\n",
       "    <tr>\n",
       "      <th>mhewnxesx9</th>\n",
       "      <td>mhewnxesx9</td>\n",
       "      <td>ajax_refresh_subtotal</td>\n",
       "      <td>click</td>\n",
       "      <td>change_trip_characteristics</td>\n",
       "      <td>Windows Desktop</td>\n",
       "      <td>4171</td>\n",
       "      <td>NDF</td>\n",
       "    </tr>\n",
       "    <tr>\n",
       "      <th>mhewnxesx9</th>\n",
       "      <td>mhewnxesx9</td>\n",
       "      <td>ajax_refresh_subtotal</td>\n",
       "      <td>click</td>\n",
       "      <td>change_trip_characteristics</td>\n",
       "      <td>Windows Desktop</td>\n",
       "      <td>673</td>\n",
       "      <td>NDF</td>\n",
       "    </tr>\n",
       "    <tr>\n",
       "      <th>mhewnxesx9</th>\n",
       "      <td>mhewnxesx9</td>\n",
       "      <td>ajax_refresh_subtotal</td>\n",
       "      <td>click</td>\n",
       "      <td>change_trip_characteristics</td>\n",
       "      <td>Windows Desktop</td>\n",
       "      <td>464</td>\n",
       "      <td>NDF</td>\n",
       "    </tr>\n",
       "    <tr>\n",
       "      <th>mhewnxesx9</th>\n",
       "      <td>mhewnxesx9</td>\n",
       "      <td>ajax_refresh_subtotal</td>\n",
       "      <td>click</td>\n",
       "      <td>change_trip_characteristics</td>\n",
       "      <td>Windows Desktop</td>\n",
       "      <td>499</td>\n",
       "      <td>NDF</td>\n",
       "    </tr>\n",
       "    <tr>\n",
       "      <th>mhewnxesx9</th>\n",
       "      <td>mhewnxesx9</td>\n",
       "      <td>ajax_refresh_subtotal</td>\n",
       "      <td>click</td>\n",
       "      <td>change_trip_characteristics</td>\n",
       "      <td>Windows Desktop</td>\n",
       "      <td>488</td>\n",
       "      <td>NDF</td>\n",
       "    </tr>\n",
       "    <tr>\n",
       "      <th>mhewnxesx9</th>\n",
       "      <td>mhewnxesx9</td>\n",
       "      <td>ajax_refresh_subtotal</td>\n",
       "      <td>click</td>\n",
       "      <td>change_trip_characteristics</td>\n",
       "      <td>Windows Desktop</td>\n",
       "      <td>39331</td>\n",
       "      <td>NDF</td>\n",
       "    </tr>\n",
       "    <tr>\n",
       "      <th>mhewnxesx9</th>\n",
       "      <td>mhewnxesx9</td>\n",
       "      <td>ajax_refresh_subtotal</td>\n",
       "      <td>click</td>\n",
       "      <td>change_trip_characteristics</td>\n",
       "      <td>Windows Desktop</td>\n",
       "      <td>687</td>\n",
       "      <td>NDF</td>\n",
       "    </tr>\n",
       "    <tr>\n",
       "      <th>mhewnxesx9</th>\n",
       "      <td>mhewnxesx9</td>\n",
       "      <td>ajax_refresh_subtotal</td>\n",
       "      <td>click</td>\n",
       "      <td>change_trip_characteristics</td>\n",
       "      <td>Windows Desktop</td>\n",
       "      <td>570</td>\n",
       "      <td>NDF</td>\n",
       "    </tr>\n",
       "    <tr>\n",
       "      <th>mhewnxesx9</th>\n",
       "      <td>mhewnxesx9</td>\n",
       "      <td>ajax_refresh_subtotal</td>\n",
       "      <td>click</td>\n",
       "      <td>change_trip_characteristics</td>\n",
       "      <td>Windows Desktop</td>\n",
       "      <td>29</td>\n",
       "      <td>NDF</td>\n",
       "    </tr>\n",
       "    <tr>\n",
       "      <th>mhewnxesx9</th>\n",
       "      <td>mhewnxesx9</td>\n",
       "      <td>ajax_refresh_subtotal</td>\n",
       "      <td>click</td>\n",
       "      <td>change_trip_characteristics</td>\n",
       "      <td>Windows Desktop</td>\n",
       "      <td>72</td>\n",
       "      <td>NDF</td>\n",
       "    </tr>\n",
       "    <tr>\n",
       "      <th>mhewnxesx9</th>\n",
       "      <td>mhewnxesx9</td>\n",
       "      <td>ajax_refresh_subtotal</td>\n",
       "      <td>click</td>\n",
       "      <td>change_trip_characteristics</td>\n",
       "      <td>Windows Desktop</td>\n",
       "      <td>20</td>\n",
       "      <td>NDF</td>\n",
       "    </tr>\n",
       "    <tr>\n",
       "      <th>mhewnxesx9</th>\n",
       "      <td>mhewnxesx9</td>\n",
       "      <td>ajax_refresh_subtotal</td>\n",
       "      <td>click</td>\n",
       "      <td>change_trip_characteristics</td>\n",
       "      <td>Windows Desktop</td>\n",
       "      <td>28</td>\n",
       "      <td>NDF</td>\n",
       "    </tr>\n",
       "    <tr>\n",
       "      <th>mhewnxesx9</th>\n",
       "      <td>mhewnxesx9</td>\n",
       "      <td>ajax_refresh_subtotal</td>\n",
       "      <td>click</td>\n",
       "      <td>change_trip_characteristics</td>\n",
       "      <td>Windows Desktop</td>\n",
       "      <td>4</td>\n",
       "      <td>NDF</td>\n",
       "    </tr>\n",
       "    <tr>\n",
       "      <th>mhewnxesx9</th>\n",
       "      <td>mhewnxesx9</td>\n",
       "      <td>ajax_refresh_subtotal</td>\n",
       "      <td>click</td>\n",
       "      <td>change_trip_characteristics</td>\n",
       "      <td>Windows Desktop</td>\n",
       "      <td>468</td>\n",
       "      <td>NDF</td>\n",
       "    </tr>\n",
       "    <tr>\n",
       "      <th>mhewnxesx9</th>\n",
       "      <td>mhewnxesx9</td>\n",
       "      <td>ajax_refresh_subtotal</td>\n",
       "      <td>click</td>\n",
       "      <td>change_trip_characteristics</td>\n",
       "      <td>Windows Desktop</td>\n",
       "      <td>411</td>\n",
       "      <td>NDF</td>\n",
       "    </tr>\n",
       "    <tr>\n",
       "      <th>mhewnxesx9</th>\n",
       "      <td>mhewnxesx9</td>\n",
       "      <td>ajax_refresh_subtotal</td>\n",
       "      <td>click</td>\n",
       "      <td>change_trip_characteristics</td>\n",
       "      <td>Windows Desktop</td>\n",
       "      <td>570</td>\n",
       "      <td>NDF</td>\n",
       "    </tr>\n",
       "    <tr>\n",
       "      <th>mhewnxesx9</th>\n",
       "      <td>mhewnxesx9</td>\n",
       "      <td>ajax_refresh_subtotal</td>\n",
       "      <td>click</td>\n",
       "      <td>change_trip_characteristics</td>\n",
       "      <td>Windows Desktop</td>\n",
       "      <td>528</td>\n",
       "      <td>NDF</td>\n",
       "    </tr>\n",
       "    <tr>\n",
       "      <th>mhewnxesx9</th>\n",
       "      <td>mhewnxesx9</td>\n",
       "      <td>ajax_refresh_subtotal</td>\n",
       "      <td>click</td>\n",
       "      <td>change_trip_characteristics</td>\n",
       "      <td>Windows Desktop</td>\n",
       "      <td>391</td>\n",
       "      <td>NDF</td>\n",
       "    </tr>\n",
       "    <tr>\n",
       "      <th>mhewnxesx9</th>\n",
       "      <td>mhewnxesx9</td>\n",
       "      <td>ajax_refresh_subtotal</td>\n",
       "      <td>click</td>\n",
       "      <td>change_trip_characteristics</td>\n",
       "      <td>Windows Desktop</td>\n",
       "      <td>812</td>\n",
       "      <td>NDF</td>\n",
       "    </tr>\n",
       "    <tr>\n",
       "      <th>mhewnxesx9</th>\n",
       "      <td>mhewnxesx9</td>\n",
       "      <td>ajax_refresh_subtotal</td>\n",
       "      <td>click</td>\n",
       "      <td>change_trip_characteristics</td>\n",
       "      <td>Windows Desktop</td>\n",
       "      <td>3638</td>\n",
       "      <td>NDF</td>\n",
       "    </tr>\n",
       "    <tr>\n",
       "      <th>mhewnxesx9</th>\n",
       "      <td>mhewnxesx9</td>\n",
       "      <td>ajax_refresh_subtotal</td>\n",
       "      <td>click</td>\n",
       "      <td>change_trip_characteristics</td>\n",
       "      <td>Windows Desktop</td>\n",
       "      <td>556</td>\n",
       "      <td>NDF</td>\n",
       "    </tr>\n",
       "    <tr>\n",
       "      <th>mhewnxesx9</th>\n",
       "      <td>mhewnxesx9</td>\n",
       "      <td>ajax_refresh_subtotal</td>\n",
       "      <td>click</td>\n",
       "      <td>change_trip_characteristics</td>\n",
       "      <td>Windows Desktop</td>\n",
       "      <td>13656</td>\n",
       "      <td>NDF</td>\n",
       "    </tr>\n",
       "    <tr>\n",
       "      <th>mhewnxesx9</th>\n",
       "      <td>mhewnxesx9</td>\n",
       "      <td>ajax_refresh_subtotal</td>\n",
       "      <td>click</td>\n",
       "      <td>change_trip_characteristics</td>\n",
       "      <td>Windows Desktop</td>\n",
       "      <td>585</td>\n",
       "      <td>NDF</td>\n",
       "    </tr>\n",
       "    <tr>\n",
       "      <th>6o3arsjbb4</th>\n",
       "      <td>6o3arsjbb4</td>\n",
       "      <td>ajax_refresh_subtotal</td>\n",
       "      <td>click</td>\n",
       "      <td>change_trip_characteristics</td>\n",
       "      <td>Mac Desktop</td>\n",
       "      <td>1432</td>\n",
       "      <td>NDF</td>\n",
       "    </tr>\n",
       "    <tr>\n",
       "      <th>6o3arsjbb4</th>\n",
       "      <td>6o3arsjbb4</td>\n",
       "      <td>ajax_refresh_subtotal</td>\n",
       "      <td>click</td>\n",
       "      <td>change_trip_characteristics</td>\n",
       "      <td>Mac Desktop</td>\n",
       "      <td>39</td>\n",
       "      <td>NDF</td>\n",
       "    </tr>\n",
       "  </tbody>\n",
       "</table>\n",
       "<p>315766 rows × 7 columns</p>\n",
       "</div>"
      ],
      "text/plain": [
       "               user_id                 action action_type  \\\n",
       "d1mm9tcy42  d1mm9tcy42  ajax_refresh_subtotal       click   \n",
       "d1mm9tcy42  d1mm9tcy42  ajax_refresh_subtotal       click   \n",
       "d1mm9tcy42  d1mm9tcy42  ajax_refresh_subtotal       click   \n",
       "d1mm9tcy42  d1mm9tcy42  ajax_refresh_subtotal       click   \n",
       "d1mm9tcy42  d1mm9tcy42  ajax_refresh_subtotal       click   \n",
       "d1mm9tcy42  d1mm9tcy42  ajax_refresh_subtotal       click   \n",
       "d1mm9tcy42  d1mm9tcy42  ajax_refresh_subtotal       click   \n",
       "d1mm9tcy42  d1mm9tcy42  ajax_refresh_subtotal       click   \n",
       "ncf87guaf0  ncf87guaf0  ajax_refresh_subtotal       click   \n",
       "ncf87guaf0  ncf87guaf0  ajax_refresh_subtotal       click   \n",
       "ncf87guaf0  ncf87guaf0  ajax_refresh_subtotal       click   \n",
       "ncf87guaf0  ncf87guaf0  ajax_refresh_subtotal       click   \n",
       "ncf87guaf0  ncf87guaf0  ajax_refresh_subtotal       click   \n",
       "ncf87guaf0  ncf87guaf0  ajax_refresh_subtotal       click   \n",
       "ncf87guaf0  ncf87guaf0  ajax_refresh_subtotal       click   \n",
       "ncf87guaf0  ncf87guaf0  ajax_refresh_subtotal       click   \n",
       "ncf87guaf0  ncf87guaf0  ajax_refresh_subtotal       click   \n",
       "ncf87guaf0  ncf87guaf0  ajax_refresh_subtotal       click   \n",
       "ncf87guaf0  ncf87guaf0  ajax_refresh_subtotal       click   \n",
       "ncf87guaf0  ncf87guaf0  ajax_refresh_subtotal       click   \n",
       "ncf87guaf0  ncf87guaf0  ajax_refresh_subtotal       click   \n",
       "ncf87guaf0  ncf87guaf0  ajax_refresh_subtotal       click   \n",
       "ncf87guaf0  ncf87guaf0  ajax_refresh_subtotal       click   \n",
       "ncf87guaf0  ncf87guaf0  ajax_refresh_subtotal       click   \n",
       "ncf87guaf0  ncf87guaf0  ajax_refresh_subtotal       click   \n",
       "ncf87guaf0  ncf87guaf0  ajax_refresh_subtotal       click   \n",
       "ncf87guaf0  ncf87guaf0  ajax_refresh_subtotal       click   \n",
       "ncf87guaf0  ncf87guaf0  ajax_refresh_subtotal       click   \n",
       "ncf87guaf0  ncf87guaf0  ajax_refresh_subtotal       click   \n",
       "ncf87guaf0  ncf87guaf0  ajax_refresh_subtotal       click   \n",
       "...                ...                    ...         ...   \n",
       "mhewnxesx9  mhewnxesx9  ajax_refresh_subtotal       click   \n",
       "mhewnxesx9  mhewnxesx9  ajax_refresh_subtotal       click   \n",
       "mhewnxesx9  mhewnxesx9  ajax_refresh_subtotal       click   \n",
       "mhewnxesx9  mhewnxesx9  ajax_refresh_subtotal       click   \n",
       "mhewnxesx9  mhewnxesx9  ajax_refresh_subtotal       click   \n",
       "mhewnxesx9  mhewnxesx9  ajax_refresh_subtotal       click   \n",
       "mhewnxesx9  mhewnxesx9  ajax_refresh_subtotal       click   \n",
       "mhewnxesx9  mhewnxesx9  ajax_refresh_subtotal       click   \n",
       "mhewnxesx9  mhewnxesx9  ajax_refresh_subtotal       click   \n",
       "mhewnxesx9  mhewnxesx9  ajax_refresh_subtotal       click   \n",
       "mhewnxesx9  mhewnxesx9  ajax_refresh_subtotal       click   \n",
       "mhewnxesx9  mhewnxesx9  ajax_refresh_subtotal       click   \n",
       "mhewnxesx9  mhewnxesx9  ajax_refresh_subtotal       click   \n",
       "mhewnxesx9  mhewnxesx9  ajax_refresh_subtotal       click   \n",
       "mhewnxesx9  mhewnxesx9  ajax_refresh_subtotal       click   \n",
       "mhewnxesx9  mhewnxesx9  ajax_refresh_subtotal       click   \n",
       "mhewnxesx9  mhewnxesx9  ajax_refresh_subtotal       click   \n",
       "mhewnxesx9  mhewnxesx9  ajax_refresh_subtotal       click   \n",
       "mhewnxesx9  mhewnxesx9  ajax_refresh_subtotal       click   \n",
       "mhewnxesx9  mhewnxesx9  ajax_refresh_subtotal       click   \n",
       "mhewnxesx9  mhewnxesx9  ajax_refresh_subtotal       click   \n",
       "mhewnxesx9  mhewnxesx9  ajax_refresh_subtotal       click   \n",
       "mhewnxesx9  mhewnxesx9  ajax_refresh_subtotal       click   \n",
       "mhewnxesx9  mhewnxesx9  ajax_refresh_subtotal       click   \n",
       "mhewnxesx9  mhewnxesx9  ajax_refresh_subtotal       click   \n",
       "mhewnxesx9  mhewnxesx9  ajax_refresh_subtotal       click   \n",
       "mhewnxesx9  mhewnxesx9  ajax_refresh_subtotal       click   \n",
       "mhewnxesx9  mhewnxesx9  ajax_refresh_subtotal       click   \n",
       "6o3arsjbb4  6o3arsjbb4  ajax_refresh_subtotal       click   \n",
       "6o3arsjbb4  6o3arsjbb4  ajax_refresh_subtotal       click   \n",
       "\n",
       "                          action_detail      device_type  secs_elapsed  \\\n",
       "d1mm9tcy42  change_trip_characteristics  Windows Desktop          8134   \n",
       "d1mm9tcy42  change_trip_characteristics  Windows Desktop        175570   \n",
       "d1mm9tcy42  change_trip_characteristics  Windows Desktop           982   \n",
       "d1mm9tcy42  change_trip_characteristics  Windows Desktop          1013   \n",
       "d1mm9tcy42  change_trip_characteristics  Windows Desktop           427   \n",
       "d1mm9tcy42  change_trip_characteristics  Windows Desktop        212772   \n",
       "d1mm9tcy42  change_trip_characteristics  Windows Desktop         42050   \n",
       "d1mm9tcy42  change_trip_characteristics  Windows Desktop           791   \n",
       "ncf87guaf0  change_trip_characteristics  Windows Desktop          3664   \n",
       "ncf87guaf0  change_trip_characteristics  Windows Desktop          3913   \n",
       "ncf87guaf0  change_trip_characteristics  Windows Desktop         29411   \n",
       "ncf87guaf0  change_trip_characteristics  Windows Desktop          3522   \n",
       "ncf87guaf0  change_trip_characteristics  Windows Desktop         36368   \n",
       "ncf87guaf0  change_trip_characteristics  Windows Desktop          3189   \n",
       "ncf87guaf0  change_trip_characteristics  Windows Desktop          1985   \n",
       "ncf87guaf0  change_trip_characteristics  Windows Desktop        408632   \n",
       "ncf87guaf0  change_trip_characteristics  Windows Desktop          1568   \n",
       "ncf87guaf0  change_trip_characteristics  Windows Desktop          2966   \n",
       "ncf87guaf0  change_trip_characteristics  Windows Desktop          4853   \n",
       "ncf87guaf0  change_trip_characteristics  Windows Desktop         27901   \n",
       "ncf87guaf0  change_trip_characteristics  Windows Desktop          2995   \n",
       "ncf87guaf0  change_trip_characteristics  Windows Desktop          4362   \n",
       "ncf87guaf0  change_trip_characteristics  Windows Desktop        211117   \n",
       "ncf87guaf0  change_trip_characteristics  Windows Desktop         22258   \n",
       "ncf87guaf0  change_trip_characteristics  Windows Desktop        225993   \n",
       "ncf87guaf0  change_trip_characteristics  Windows Desktop         13209   \n",
       "ncf87guaf0  change_trip_characteristics  Windows Desktop         97839   \n",
       "ncf87guaf0  change_trip_characteristics  Windows Desktop          6864   \n",
       "ncf87guaf0  change_trip_characteristics  Windows Desktop          7103   \n",
       "ncf87guaf0  change_trip_characteristics  Windows Desktop          5257   \n",
       "...                                 ...              ...           ...   \n",
       "mhewnxesx9  change_trip_characteristics  Windows Desktop           797   \n",
       "mhewnxesx9  change_trip_characteristics  Windows Desktop           532   \n",
       "mhewnxesx9  change_trip_characteristics  Windows Desktop           762   \n",
       "mhewnxesx9  change_trip_characteristics  Windows Desktop           509   \n",
       "mhewnxesx9  change_trip_characteristics  Windows Desktop         44833   \n",
       "mhewnxesx9  change_trip_characteristics  Windows Desktop          4171   \n",
       "mhewnxesx9  change_trip_characteristics  Windows Desktop           673   \n",
       "mhewnxesx9  change_trip_characteristics  Windows Desktop           464   \n",
       "mhewnxesx9  change_trip_characteristics  Windows Desktop           499   \n",
       "mhewnxesx9  change_trip_characteristics  Windows Desktop           488   \n",
       "mhewnxesx9  change_trip_characteristics  Windows Desktop         39331   \n",
       "mhewnxesx9  change_trip_characteristics  Windows Desktop           687   \n",
       "mhewnxesx9  change_trip_characteristics  Windows Desktop           570   \n",
       "mhewnxesx9  change_trip_characteristics  Windows Desktop            29   \n",
       "mhewnxesx9  change_trip_characteristics  Windows Desktop            72   \n",
       "mhewnxesx9  change_trip_characteristics  Windows Desktop            20   \n",
       "mhewnxesx9  change_trip_characteristics  Windows Desktop            28   \n",
       "mhewnxesx9  change_trip_characteristics  Windows Desktop             4   \n",
       "mhewnxesx9  change_trip_characteristics  Windows Desktop           468   \n",
       "mhewnxesx9  change_trip_characteristics  Windows Desktop           411   \n",
       "mhewnxesx9  change_trip_characteristics  Windows Desktop           570   \n",
       "mhewnxesx9  change_trip_characteristics  Windows Desktop           528   \n",
       "mhewnxesx9  change_trip_characteristics  Windows Desktop           391   \n",
       "mhewnxesx9  change_trip_characteristics  Windows Desktop           812   \n",
       "mhewnxesx9  change_trip_characteristics  Windows Desktop          3638   \n",
       "mhewnxesx9  change_trip_characteristics  Windows Desktop           556   \n",
       "mhewnxesx9  change_trip_characteristics  Windows Desktop         13656   \n",
       "mhewnxesx9  change_trip_characteristics  Windows Desktop           585   \n",
       "6o3arsjbb4  change_trip_characteristics      Mac Desktop          1432   \n",
       "6o3arsjbb4  change_trip_characteristics      Mac Desktop            39   \n",
       "\n",
       "           country_destination  \n",
       "d1mm9tcy42               other  \n",
       "d1mm9tcy42               other  \n",
       "d1mm9tcy42               other  \n",
       "d1mm9tcy42               other  \n",
       "d1mm9tcy42               other  \n",
       "d1mm9tcy42               other  \n",
       "d1mm9tcy42               other  \n",
       "d1mm9tcy42               other  \n",
       "ncf87guaf0                 NDF  \n",
       "ncf87guaf0                 NDF  \n",
       "ncf87guaf0                 NDF  \n",
       "ncf87guaf0                 NDF  \n",
       "ncf87guaf0                 NDF  \n",
       "ncf87guaf0                 NDF  \n",
       "ncf87guaf0                 NDF  \n",
       "ncf87guaf0                 NDF  \n",
       "ncf87guaf0                 NDF  \n",
       "ncf87guaf0                 NDF  \n",
       "ncf87guaf0                 NDF  \n",
       "ncf87guaf0                 NDF  \n",
       "ncf87guaf0                 NDF  \n",
       "ncf87guaf0                 NDF  \n",
       "ncf87guaf0                 NDF  \n",
       "ncf87guaf0                 NDF  \n",
       "ncf87guaf0                 NDF  \n",
       "ncf87guaf0                 NDF  \n",
       "ncf87guaf0                 NDF  \n",
       "ncf87guaf0                 NDF  \n",
       "ncf87guaf0                 NDF  \n",
       "ncf87guaf0                 NDF  \n",
       "...                        ...  \n",
       "mhewnxesx9                 NDF  \n",
       "mhewnxesx9                 NDF  \n",
       "mhewnxesx9                 NDF  \n",
       "mhewnxesx9                 NDF  \n",
       "mhewnxesx9                 NDF  \n",
       "mhewnxesx9                 NDF  \n",
       "mhewnxesx9                 NDF  \n",
       "mhewnxesx9                 NDF  \n",
       "mhewnxesx9                 NDF  \n",
       "mhewnxesx9                 NDF  \n",
       "mhewnxesx9                 NDF  \n",
       "mhewnxesx9                 NDF  \n",
       "mhewnxesx9                 NDF  \n",
       "mhewnxesx9                 NDF  \n",
       "mhewnxesx9                 NDF  \n",
       "mhewnxesx9                 NDF  \n",
       "mhewnxesx9                 NDF  \n",
       "mhewnxesx9                 NDF  \n",
       "mhewnxesx9                 NDF  \n",
       "mhewnxesx9                 NDF  \n",
       "mhewnxesx9                 NDF  \n",
       "mhewnxesx9                 NDF  \n",
       "mhewnxesx9                 NDF  \n",
       "mhewnxesx9                 NDF  \n",
       "mhewnxesx9                 NDF  \n",
       "mhewnxesx9                 NDF  \n",
       "mhewnxesx9                 NDF  \n",
       "mhewnxesx9                 NDF  \n",
       "6o3arsjbb4                 NDF  \n",
       "6o3arsjbb4                 NDF  \n",
       "\n",
       "[315766 rows x 7 columns]"
      ]
     },
     "execution_count": 34,
     "metadata": {},
     "output_type": "execute_result"
    }
   ],
   "source": [
    "tr_sessions[tr_sessions.action_detail == 'change_trip_characteristics']"
   ]
  },
  {
   "cell_type": "code",
   "execution_count": null,
   "metadata": {
    "collapsed": false
   },
   "outputs": [],
   "source": [
    "getcntr('update_listing_description', tr_sessions.action_detail, train_data)"
   ]
  },
  {
   "cell_type": "code",
   "execution_count": null,
   "metadata": {
    "collapsed": false
   },
   "outputs": [],
   "source": [
    "getcntr('ajax_refresh_subtotal', tr_sessions.action, train_data)"
   ]
  },
  {
   "cell_type": "code",
   "execution_count": 27,
   "metadata": {
    "collapsed": false
   },
   "outputs": [],
   "source": [
    "def testcnts(q, test_series):\n",
    "    users = test_series[test_series == q].index.unique()\n",
    "    return len(users)\n",
    "\n",
    "def getcntr(q, tr_series, train_data):\n",
    "    users = tr_sessions[tr_series == q].index.unique()\n",
    "    return train_data.loc[users].country_destination.value_counts()\n",
    "\n",
    "def getcntr2(q1, q2, tr_series, train_data):\n",
    "    users1 = tr_sessions[tr_series == q1].index.unique()\n",
    "    users2 = tr_sessions[tr_series == q2].index.unique()\n",
    "    users = set(user1) & set(users2)\n",
    "    return train_data.loc[users].country_destination.value_counts()"
   ]
  },
  {
   "cell_type": "code",
   "execution_count": null,
   "metadata": {
    "collapsed": false
   },
   "outputs": [],
   "source": [
    "tr_sessions[tr_sessions.action == 'travel_plans_current'].country_destination.value_counts()"
   ]
  },
  {
   "cell_type": "code",
   "execution_count": null,
   "metadata": {
    "collapsed": false
   },
   "outputs": [],
   "source": [
    "tr_sessions[tr_sessions.action == 'place_worth'].country_destination.value_counts()"
   ]
  },
  {
   "cell_type": "code",
   "execution_count": null,
   "metadata": {
    "collapsed": false
   },
   "outputs": [],
   "source": [
    "tr_sessions[tr_sessions.action == 'payout_update'].country_destination.value_counts()"
   ]
  },
  {
   "cell_type": "code",
   "execution_count": null,
   "metadata": {
    "collapsed": false
   },
   "outputs": [],
   "source": [
    "tr_sessions[tr_sessions.action == 'guest_billing_receipt'].country_destination.value_counts()"
   ]
  },
  {
   "cell_type": "code",
   "execution_count": null,
   "metadata": {
    "collapsed": false
   },
   "outputs": [],
   "source": [
    "tr_sessions[tr_sessions.action == 'booking'].country_destination.value_counts()"
   ]
  },
  {
   "cell_type": "code",
   "execution_count": null,
   "metadata": {
    "collapsed": false
   },
   "outputs": [],
   "source": [
    "tr_sessions[tr_sessions.action == 'guest_booked_elsewhere']"
   ]
  },
  {
   "cell_type": "code",
   "execution_count": null,
   "metadata": {
    "collapsed": false
   },
   "outputs": [],
   "source": [
    "tr_sessions[tr_sessions.action == 'guest_booked_elsewhere'].country_destination.value_counts()"
   ]
  },
  {
   "cell_type": "code",
   "execution_count": null,
   "metadata": {
    "collapsed": false
   },
   "outputs": [],
   "source": [
    "tr_sessions[tr_sessions.action == 'transaction_history'].country_destination.value_counts()"
   ]
  },
  {
   "cell_type": "code",
   "execution_count": null,
   "metadata": {
    "collapsed": false
   },
   "outputs": [],
   "source": [
    "tr_sessions[tr_sessions.action == 'receipt'].country_destination.value_counts()"
   ]
  },
  {
   "cell_type": "code",
   "execution_count": null,
   "metadata": {
    "collapsed": false
   },
   "outputs": [],
   "source": [
    "tr_sessions[tr_sessions.action == 'countries_option'].country_destination.value_counts()"
   ]
  },
  {
   "cell_type": "code",
   "execution_count": null,
   "metadata": {
    "collapsed": false
   },
   "outputs": [],
   "source": [
    "tr_sessions[tr_sessions.action == 'itinerary'].country_destination.value_counts()"
   ]
  },
  {
   "cell_type": "code",
   "execution_count": null,
   "metadata": {
    "collapsed": false
   },
   "outputs": [],
   "source": [
    "tr_sessions[tr_sessions.action == 'travel_plans_previous'].country_destination.value_counts()"
   ]
  },
  {
   "cell_type": "code",
   "execution_count": null,
   "metadata": {
    "collapsed": false
   },
   "outputs": [],
   "source": [
    "tr_sessions[tr_sessions.action == 'cancel'].country_destination.value_counts()"
   ]
  },
  {
   "cell_type": "code",
   "execution_count": null,
   "metadata": {
    "collapsed": false
   },
   "outputs": [],
   "source": [
    "tr_sessions[tr_sessions.action == 'office_location'].country_destination.value_counts()"
   ]
  },
  {
   "cell_type": "code",
   "execution_count": null,
   "metadata": {
    "collapsed": false
   },
   "outputs": [],
   "source": [
    "tr_sessions[tr_sessions.action_detail == 'your_trips'].country_destination.value_counts()"
   ]
  },
  {
   "cell_type": "code",
   "execution_count": null,
   "metadata": {
    "collapsed": false
   },
   "outputs": [],
   "source": [
    "users"
   ]
  },
  {
   "cell_type": "code",
   "execution_count": null,
   "metadata": {
    "collapsed": true
   },
   "outputs": [],
   "source": [
    "users = tr_sessions.groupby('action')['user_id'].unique()['Mac Desktop']"
   ]
  },
  {
   "cell_type": "code",
   "execution_count": null,
   "metadata": {
    "collapsed": false
   },
   "outputs": [],
   "source": [
    "tr_sessions[tr_sessions.user_id.isin(users)]"
   ]
  },
  {
   "cell_type": "code",
   "execution_count": null,
   "metadata": {
    "collapsed": false
   },
   "outputs": [],
   "source": [
    "users = tr_sessions[tr_sessions.action == 'host_summary'].user_id"
   ]
  },
  {
   "cell_type": "code",
   "execution_count": null,
   "metadata": {
    "collapsed": false
   },
   "outputs": [],
   "source": [
    "tr_sessions[tr_sessions.action == 'phone_number_widget'].country_destination.value_counts()"
   ]
  },
  {
   "cell_type": "code",
   "execution_count": null,
   "metadata": {
    "collapsed": false
   },
   "outputs": [],
   "source": [
    "tr_sessions[tr_sessions.action == 'payment_instruments'].country_destination.value_counts()"
   ]
  },
  {
   "cell_type": "code",
   "execution_count": null,
   "metadata": {
    "collapsed": false
   },
   "outputs": [],
   "source": [
    "tr_sessions[tr_sessions.action == 'agree_terms_uncheck'].country_destination.value_counts(normalize = True)"
   ]
  },
  {
   "cell_type": "code",
   "execution_count": null,
   "metadata": {
    "collapsed": false
   },
   "outputs": [],
   "source": [
    "test_sessions[test_sessions.action == 'print_confirmation']"
   ]
  },
  {
   "cell_type": "code",
   "execution_count": null,
   "metadata": {
    "collapsed": false
   },
   "outputs": [],
   "source": [
    "options = ['recommend', 'recommendations', 'references', 'referrer_status']\n",
    "for i in options:\n",
    "    print tr_sessions[tr_sessions.action == i].country_destination.value_counts()"
   ]
  },
  {
   "cell_type": "code",
   "execution_count": null,
   "metadata": {
    "collapsed": true
   },
   "outputs": [],
   "source": [
    "'pay',\n",
    " 'payment_instruments',\n",
    " 'payment_methods',\n",
    " 'payout_update',\n",
    " 'payout_update'"
   ]
  },
  {
   "cell_type": "code",
   "execution_count": null,
   "metadata": {
    "collapsed": false
   },
   "outputs": [],
   "source": [
    "actions_both30"
   ]
  },
  {
   "cell_type": "code",
   "execution_count": null,
   "metadata": {
    "collapsed": false
   },
   "outputs": [],
   "source": [
    "axes = plt.gca()\n",
    "axes.set_xlim([0,20000])\n",
    "s.hist(ax=axes, bins= 10000)"
   ]
  },
  {
   "cell_type": "code",
   "execution_count": null,
   "metadata": {
    "collapsed": false
   },
   "outputs": [],
   "source": [
    "s2 = tr_sessions.groupby('user_id').filter(lambda x: len(x['action'])>3)"
   ]
  },
  {
   "cell_type": "code",
   "execution_count": null,
   "metadata": {
    "collapsed": false
   },
   "outputs": [],
   "source": [
    "a = [1, 2, 3, 4]\n",
    "a[-1:-3]"
   ]
  },
  {
   "cell_type": "code",
   "execution_count": null,
   "metadata": {
    "collapsed": false
   },
   "outputs": [],
   "source": [
    "s2.groupby('user_id').apply(lambda x: x.iloc[1:2, :] )"
   ]
  },
  {
   "cell_type": "code",
   "execution_count": null,
   "metadata": {
    "collapsed": false
   },
   "outputs": [],
   "source": [
    "s2[s2.country_destination == 'NDF'].action.value_counts()"
   ]
  },
  {
   "cell_type": "code",
   "execution_count": null,
   "metadata": {
    "collapsed": false
   },
   "outputs": [],
   "source": [
    "s = sessions.groupby('user_id')['secs_elapsed'].apply(lambda x:  x.iloc[-1])"
   ]
  },
  {
   "cell_type": "code",
   "execution_count": null,
   "metadata": {
    "collapsed": false
   },
   "outputs": [],
   "source": [
    "sessions.dropna(subset=['user_id'], inplace = True)\n",
    "\n",
    "sessions_tr = sessions[sessions.user_id.isin(train_data.index)]\n",
    "sessions_test = sessions[sessions.user_id.isin(test_data.index)]\n",
    "a_ignore = set(sessions_tr.action.unique()) ^ set(sessions_test.action.unique())\n",
    "#sessions.groupby('action')['action_detail']\n",
    "\n",
    "#set(sessions_test.action_detail.unique()) ^ set(sessions_tr.action_detail.unique())\n",
    "#sessions_test.action_detail.unique()\n",
    "#sessions_tr.action_detail.unique()\n",
    "#train_data['date_account_created'] = pd.to_datetime(train_data.date_account_created)\n",
    "#x = train_data[train_data.date_account_created>='2014']\n",
    "#train_data[train_data.index.isin(sessions_tr.user_id)].timestamp_first_active"
   ]
  },
  {
   "cell_type": "code",
   "execution_count": null,
   "metadata": {
    "collapsed": false
   },
   "outputs": [],
   "source": [
    "actions50 = [sessions_test.groupby('action')['user_id'].nunique() >50]\n",
    "print 'Number of unique actions with more than 50 users:', np.sum(sessions_test.groupby('action')['user_id'].nunique()>50)"
   ]
  },
  {
   "cell_type": "code",
   "execution_count": null,
   "metadata": {
    "collapsed": false
   },
   "outputs": [],
   "source": [
    "#Let's get the actions with just one action type and one action detail.\n",
    "print 'Number of unique actions with just one action type:',\n",
    "np.sum(sessions.groupby('action')['action_detail'].nunique()==1)\n",
    "#Take the intersection of these actions with a_ignore."
   ]
  },
  {
   "cell_type": "code",
   "execution_count": null,
   "metadata": {
    "collapsed": false
   },
   "outputs": [],
   "source": [
    "sessions['action_type'] = sessions['action_type'].fillna('missing')\n",
    "sessions['action_detail'] = sessions['action_detail'].fillna('missing')"
   ]
  },
  {
   "cell_type": "code",
   "execution_count": null,
   "metadata": {
    "collapsed": false
   },
   "outputs": [],
   "source": [
    "#actions with null values\n",
    "actions_null2 = sessions[pd.isnull(sessions.action_type)].action.unique()\n",
    "actions_null == actions_null2"
   ]
  },
  {
   "cell_type": "code",
   "execution_count": null,
   "metadata": {
    "collapsed": false
   },
   "outputs": [],
   "source": [
    "df = pd.DataFrame({'A': ['foo','bar','foo','foo', 'zoo','bar','foo','foo'],\n",
    "                       'B': ['coo', np.NaN,'coo','coo', 'dude', np.NaN,'fooo','fooo']})"
   ]
  },
  {
   "cell_type": "code",
   "execution_count": null,
   "metadata": {
    "collapsed": false
   },
   "outputs": [],
   "source": [
    "def custom_filter(x):\n",
    "     return (x['action_detail'].nunique() > 1) or (x['action_type'].nunique() > 1) \n",
    "actions_df = sessions.groupby('action').filter(lambda x: custom_filter(x))"
   ]
  },
  {
   "cell_type": "code",
   "execution_count": null,
   "metadata": {
    "collapsed": false
   },
   "outputs": [],
   "source": [
    "tr_sessions[tr_sessions.action == 'update'].action_detail.unique()"
   ]
  },
  {
   "cell_type": "code",
   "execution_count": null,
   "metadata": {
    "collapsed": false
   },
   "outputs": [],
   "source": [
    "actions_df.action.unique()"
   ]
  },
  {
   "cell_type": "code",
   "execution_count": null,
   "metadata": {
    "collapsed": false
   },
   "outputs": [],
   "source": [
    "def custom_filter(x):\n",
    "     return (x['action_detail'].nunique() == 1) and (x['action_type'].nunique() == 1) \n",
    "#get all actions with just one action_type and action \n",
    "actions_df = sessions.groupby('action').filter(lambda x: custom_filter(x))"
   ]
  },
  {
   "cell_type": "code",
   "execution_count": null,
   "metadata": {
    "collapsed": true
   },
   "outputs": [],
   "source": [
    "#exclude those actions that are found in one table or the other\n",
    "actions_df = actions_df[~actions_df.action.isin(a_ignore)]"
   ]
  },
  {
   "cell_type": "code",
   "execution_count": null,
   "metadata": {
    "collapsed": false,
    "scrolled": true
   },
   "outputs": [],
   "source": [
    "actions_df.action[pd.isnull(actions_df['secs_elapsed'])].value_counts()"
   ]
  },
  {
   "cell_type": "code",
   "execution_count": null,
   "metadata": {
    "collapsed": false
   },
   "outputs": [],
   "source": [
    "#info = actions_1.groupby(['user_id', 'action']).apply(lambda x: x['secs_elapsed'].sum())\n",
    "action_cnts = actions_df.groupby(['user_id', 'action']).apply(lambda x: x['device_type'].count())"
   ]
  },
  {
   "cell_type": "code",
   "execution_count": null,
   "metadata": {
    "collapsed": false
   },
   "outputs": [],
   "source": [
    "action_cnts = action_cnts.unstack(level=-1)"
   ]
  },
  {
   "cell_type": "code",
   "execution_count": null,
   "metadata": {
    "collapsed": false
   },
   "outputs": [],
   "source": [
    "action_cnts.fillna(0, inplace=True)"
   ]
  },
  {
   "cell_type": "code",
   "execution_count": null,
   "metadata": {
    "collapsed": false
   },
   "outputs": [],
   "source": [
    "pd.to_pickle(action_cnts, '../data/actions.p')"
   ]
  },
  {
   "cell_type": "code",
   "execution_count": null,
   "metadata": {
    "collapsed": false
   },
   "outputs": [],
   "source": [
    "#features with no time\n",
    "#null_time, cnts = np.unique(actions_1[pd.isnull(actions_1['secs_elapsed'])].action, return_counts= True)\n",
    "#zip(cnts, null_time)"
   ]
  },
  {
   "cell_type": "code",
   "execution_count": null,
   "metadata": {
    "collapsed": false
   },
   "outputs": [],
   "source": [
    "#find the number of users in test data with an action that is not found in the training sessions data\n",
    "#We should look to find similar items to substitute them\n",
    "for i in a_ignore:\n",
    "    users = sessions_test[sessions_test.action == i].user_id.unique()\n",
    "    if len(users) > 0:\n",
    "        print i, len(users)"
   ]
  },
  {
   "cell_type": "code",
   "execution_count": null,
   "metadata": {
    "collapsed": false
   },
   "outputs": [],
   "source": [
    "actions_df.action_type.unique()"
   ]
  },
  {
   "cell_type": "code",
   "execution_count": null,
   "metadata": {
    "collapsed": false
   },
   "outputs": [],
   "source": [
    "#iterate through each action and find those that have more than one action detail/ action type\n",
    "#s = sessions.groupby('action')['action_type'].nunique()\n",
    "#sessions.groupby('action')['action_detail'].nunique()"
   ]
  },
  {
   "cell_type": "code",
   "execution_count": null,
   "metadata": {
    "collapsed": false,
    "scrolled": true
   },
   "outputs": [],
   "source": [
    "def ndcg(preds, labels):\n",
    "    \"\"\"Calculate sum of normalzied discounted cumulative gain for the predictions\n",
    "    The correct prediction will have a relevance of 1, incorrect predictions will have a relevance of 0.\n",
    "    Weight the relevance values such that it is reduced logarithmically proportional to it its position     \n",
    "    \n",
    "    Args:\n",
    "        preds: n*5 array of predictor targets\n",
    "        labels: n*1 array targets\n",
    "    Returns:\n",
    "        sum of normalized discounted cumulative gain for all the predictions\n",
    "    \"\"\"\n",
    "    \n",
    "    #find positions where the prediction matches the label\n",
    "    relv_pos = np.where(np.equal(preds, labels))[1]\n",
    "    #weight func: log2(i+1), add one more to adjust for 0-based indexing\n",
    "    total_ndcg = np.sum(1./np.log2(relv_pos+2))\n",
    "    return total_ndcg\n",
    "    \n",
    "def evalerror(cls_prob, dtrain):\n",
    "    \"\"\"find top k predictions from probability matrix and call ndcg to find accuracy of predictions\n",
    "    \n",
    "    Args:\n",
    "        cls_prob: 2D array, probability of each class for each person (n persons by m classes),\n",
    "                  the column index corresponds with class\n",
    "        labels: labels for the n persons\n",
    "    returns:\n",
    "        prediction accuracy using ndcg to evaluate predictions of each AirBNB user\n",
    "    \"\"\"\n",
    "    #determine the top k predictions\n",
    "    labels = dtrain.get_label()\n",
    "    k = 5\n",
    "    top_k = cls_prob.argsort(axis = 1)[:,:k:-1]\n",
    "    #convert true values  and compared with predictions to check for equality\n",
    "    labels = labels[:, None]\n",
    "    return 'error', 1.-ndcg(top_k, labels)/len(labels)"
   ]
  },
  {
   "cell_type": "code",
   "execution_count": null,
   "metadata": {
    "collapsed": false
   },
   "outputs": [],
   "source": [
    "features = sorted(bst.get_fscore().items(), key = lambda x: x[1], reverse = True)\n",
    "[(feat, all_df.columns[int(feat[1:])], score) for feat, score in features]"
   ]
  }
 ],
 "metadata": {
  "kernelspec": {
   "display_name": "Python 2",
   "language": "python",
   "name": "python2"
  },
  "language_info": {
   "codemirror_mode": {
    "name": "ipython",
    "version": 2
   },
   "file_extension": ".py",
   "mimetype": "text/x-python",
   "name": "python",
   "nbconvert_exporter": "python",
   "pygments_lexer": "ipython2",
   "version": "2.7.10"
  }
 },
 "nbformat": 4,
 "nbformat_minor": 0
}
