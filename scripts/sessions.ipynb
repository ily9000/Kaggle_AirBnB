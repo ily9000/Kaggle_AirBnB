{
 "cells": [
  {
   "cell_type": "code",
   "execution_count": null,
   "metadata": {
    "collapsed": false
   },
   "outputs": [],
   "source": [
    "%matplotlib inline\n",
    "import matplotlib.pyplot as plt\n",
    "#import graphviz\n",
    "import numpy as np\n",
    "import pandas as pd\n",
    "import xgboost as xgb\n",
    "import sys\n",
    "import kaggle_xgb\n",
    "import calc_ndcg\n",
    "import itertools\n",
    "import dataEngr\n",
    "reload(dataEngr)\n",
    "reload(calc_ndcg)\n",
    "from sklearn.grid_search import ParameterGrid\n",
    "from sklearn.cross_validation import KFold"
   ]
  },
  {
   "cell_type": "markdown",
   "metadata": {},
   "source": [
    "Read in just the testing and training data."
   ]
  },
  {
   "cell_type": "code",
   "execution_count": null,
   "metadata": {
    "collapsed": false,
    "scrolled": true
   },
   "outputs": [],
   "source": [
    "train_data = pd.read_csv('../data/train_users_2.csv', index_col = 'id')\n",
    "test_data = pd.read_csv('../data/test_users.csv', index_col = 'id')\n",
    "sessionsDf = pd.read_csv('../data/sessions.csv')\n",
    "sessionsDf.dropna(subset=['user_id'], inplace = True)"
   ]
  },
  {
   "cell_type": "code",
   "execution_count": null,
   "metadata": {
    "collapsed": true
   },
   "outputs": [],
   "source": [
    "test_sessions = sessionsDf[sessionsDf.user_id.isin(test_data.index)]\n",
    "tr_sessions = sessionsDf[sessionsDf.user_id.isin(train_data.index)]\n",
    "tr_sessions.set_index('user_id', drop= False, inplace=True)\n",
    "tr_sessions = pd.concat([tr_sessions, train_data.country_destination], join = 'inner', axis = 1)"
   ]
  },
  {
   "cell_type": "code",
   "execution_count": null,
   "metadata": {
    "collapsed": false
   },
   "outputs": [],
   "source": [
    "xgbInput = dataEngr.clfInput()\n",
    "xgbInput.get_sessionsFtr()\n",
    "xgbInput.users_ftrEng()\n",
    "xgbInput.one_hot()\n",
    "xgbInput.split_data(update_trainDf=True)\n",
    "#xgbInput.binarize_targets()\n",
    "#xgbInput.split_bySess()"
   ]
  },
  {
   "cell_type": "code",
   "execution_count": null,
   "metadata": {
    "collapsed": false
   },
   "outputs": [],
   "source": [
    "#how to handle translate_reviews\n",
    "for i in sessionsDf.action.unique():\n",
    "     if 'click' in  str(i):\n",
    "        print i, tr_sessions[tr_sessions.action == i].action_detail.unique()\n",
    "        print len(tr_sessions[tr_sessions.action == i].index.unique())\n",
    "        print  len(test_sessions[test_sessions.action == i].index.unique())\n",
    "\n",
    "# for i in tr_sessions.action_detail.unique():\n",
    "#     if 'click' in  str(i):\n",
    "#         print i, tr_sessions[tr_sessions.action_detail == i].action.unique()\n",
    "#         print len(tr_sessions[tr_sessions.action_detail == i].index.unique())\n",
    "# for i in test_sessions.action_detail.unique():\n",
    "#     if 'click' in  str(i):\n",
    "#         print i, test_sessions[test_sessions.action_detail == i].action.unique()\n",
    "#         print len(test_sessions[test_sessions.action_detail == i].index.unique())"
   ]
  },
  {
   "cell_type": "code",
   "execution_count": null,
   "metadata": {
    "collapsed": false
   },
   "outputs": [],
   "source": [
    "av = 2014 - xgbInput.testDf[(xgbInput.testDf.age>1000) & (xgbInput.testDf.age<2000)].age"
   ]
  },
  {
   "cell_type": "code",
   "execution_count": null,
   "metadata": {
    "collapsed": false
   },
   "outputs": [],
   "source": [
    "xgbInput.allDf.loc[av.index, 'age'] = av.values"
   ]
  },
  {
   "cell_type": "code",
   "execution_count": null,
   "metadata": {
    "collapsed": false,
    "scrolled": false
   },
   "outputs": [],
   "source": [
    "for i in sessionsDf.action.unique():\n",
    "    if len(sessionsDf[sessionsDf.action == i].action_detail.unique())>1:\n",
    "        print i, sessionsDf[sessionsDf.action == i].action_detail.unique()"
   ]
  },
  {
   "cell_type": "code",
   "execution_count": null,
   "metadata": {
    "collapsed": false
   },
   "outputs": [],
   "source": [
    "train_actions = sessionsDf[sessionsDf.user_id.isin(train_data.index)].action.unique()\n",
    "test_actions = sessionsDf[sessionsDf.user_id.isin(test_data.index)].action.unique()\n",
    "a_ignore = set(train_actions) ^ set(test_actions)"
   ]
  },
  {
   "cell_type": "code",
   "execution_count": null,
   "metadata": {
    "collapsed": false
   },
   "outputs": [
    {
     "name": "stdout",
     "output_type": "stream",
     "text": [
      "number of columns before one hot encoding 370\n",
      "number of columns after one hot encoding"
     ]
    }
   ],
   "source": [
    "%run -i run_model.py"
   ]
  },
  {
   "cell_type": "code",
   "execution_count": null,
   "metadata": {
    "collapsed": false
   },
   "outputs": [],
   "source": [
    "#get count for actions in test session\n",
    "for a in a_ignore:\n",
    "    n = len(test_sessions[test_sessions.action== a].user_id.unique())\n",
    "    if n>0:\n",
    "        print a, test_sessions[test_sessions.action== a].action_detail.unique(), \\\n",
    "            test_sessions[test_sessions.action== a].action_type.unique(), n\n",
    "    else:\n",
    "        print 'test', a, tr_sessions[tr_sessions.action== a].action_detail.unique(), \\\n",
    "            tr_sessions[tr_sessions.action== a].action_type.unique(), \\\n",
    "            len(tr_sessions[tr_sessions.action== a].user_id.unique())"
   ]
  },
  {
   "cell_type": "code",
   "execution_count": null,
   "metadata": {
    "collapsed": false
   },
   "outputs": [],
   "source": [
    "for i in tr_sessions.action.unique():\n",
    "    if 'book' in str(i):\n",
    "        print i"
   ]
  },
  {
   "cell_type": "code",
   "execution_count": null,
   "metadata": {
    "collapsed": true
   },
   "outputs": [],
   "source": [
    "post_cnts = tr_sessions.groupby(['user_id']).apply(lambda x: np.sum(x['action_type'] == 'message_post'))"
   ]
  },
  {
   "cell_type": "code",
   "execution_count": null,
   "metadata": {
    "collapsed": false
   },
   "outputs": [],
   "source": [
    "train_df = pd.concat([train_df, posters_cnts], axis = 1, join = 'inner')\n",
    "train_df = train_df.rename(columns = {0:'post_cnts'})"
   ]
  },
  {
   "cell_type": "code",
   "execution_count": null,
   "metadata": {
    "collapsed": false
   },
   "outputs": [],
   "source": [
    "#31358 users posted messages in test set, it's worth distinguishing NDF and non-NDF?\n",
    "#fifty-fifty split\n",
    "print len(test_sessions.query('action_type == \"message_post\"').index.unique())\n",
    "posters = tr_sessions.query('action_type == \"message_post\"').index.unique()\n",
    "train_data.loc[posters, 'country_destination'].value_counts(normalize = True)"
   ]
  },
  {
   "cell_type": "code",
   "execution_count": null,
   "metadata": {
    "collapsed": false
   },
   "outputs": [],
   "source": [
    "#8067 booking requests in test set, it's worth distinguishing NDF and non-NDF\n",
    "print len(test_sessions.query('action_type == \"booking_request\"').index.unique())\n",
    "train_data.loc[all_bookers, 'country_destination'].value_counts(normalize = True)"
   ]
  },
  {
   "cell_type": "code",
   "execution_count": null,
   "metadata": {
    "collapsed": false,
    "scrolled": false
   },
   "outputs": [],
   "source": [
    "all_bookers = tr_sessions.query('action_type == \"booking_request\"').index.unique()\n",
    "users_NDF = tr_sessions.query('action_type == \"booking_request\" & country_destination == \"NDF\"').index.unique()\n",
    "users_USA = tr_sessions.query('action_type == \"booking_request\" & country_destination == \"US\"').index.unique()\n",
    "#tr_sessions[tr_sessions.action_type == 'booking_request'].groupby('user_id').filter(lambda x: len('x.country_destination')>1)"
   ]
  },
  {
   "cell_type": "code",
   "execution_count": null,
   "metadata": {
    "collapsed": false
   },
   "outputs": [],
   "source": [
    "#set hierarchical index???\n",
    "x = tr_sessions.groupby('user_id').count().country_destination\n",
    "#groupby reorders user_id, so put back in the original order\n",
    "x = x.loc[tr_sessions.user_id.unique()]\n",
    "pos = [range(i) for i in x.tolist()]\n",
    "pos = list(itertools.chain.from_iterable(pos))\n",
    "tr_sessions['pos'] = pos\n",
    "len(pos) == len(tr_sessions)"
   ]
  },
  {
   "cell_type": "code",
   "execution_count": null,
   "metadata": {
    "collapsed": false
   },
   "outputs": [],
   "source": [
    "#position normalized by total number of actions\n",
    "pos_norm = [np.arange(total)/float(total-1) for total in x.tolist()]\n",
    "pos_norm = list(itertools.chain.from_iterable(pos_norm))\n",
    "tr_sessions['pos_norm'] = pos_norm\n",
    "len(pos_norm) == len(tr_sessions)"
   ]
  },
  {
   "cell_type": "code",
   "execution_count": null,
   "metadata": {
    "collapsed": false
   },
   "outputs": [],
   "source": [
    "tr_sessions[tr_sessions.action == 'add_guests'].groupby('user_id')['country_destination'].unique()"
   ]
  },
  {
   "cell_type": "code",
   "execution_count": null,
   "metadata": {
    "collapsed": false
   },
   "outputs": [],
   "source": [
    "getcntr('ajax_payout_split_edit', tr_sessions.action, train_data)"
   ]
  },
  {
   "cell_type": "code",
   "execution_count": null,
   "metadata": {
    "collapsed": false
   },
   "outputs": [],
   "source": [
    "getcntr('ajax_google_translate', tr_sessions, train_data)"
   ]
  },
  {
   "cell_type": "code",
   "execution_count": null,
   "metadata": {
    "collapsed": false
   },
   "outputs": [],
   "source": [
    "getcntr('travel_plans_current', tr_sessions.action, train_data)"
   ]
  },
  {
   "cell_type": "code",
   "execution_count": null,
   "metadata": {
    "collapsed": false
   },
   "outputs": [],
   "source": [
    "getcntr('other_hosting_reviews', tr_sessions.action, train_data)"
   ]
  },
  {
   "cell_type": "code",
   "execution_count": null,
   "metadata": {
    "collapsed": false
   },
   "outputs": [],
   "source": [
    "getcntr2('booking_request', 'at_checkpoint', tr_sessions.action_type, tr_sessions.action, train_data)"
   ]
  },
  {
   "cell_type": "code",
   "execution_count": null,
   "metadata": {
    "collapsed": false
   },
   "outputs": [],
   "source": [
    "def testcnts(q, test_series):\n",
    "    users = test_series[test_series == q].index.unique()\n",
    "    return len(users)\n",
    "\n",
    "def getcntr(q, tr_series, train_data):\n",
    "    users = tr_sessions[tr_series == q].index.unique()\n",
    "    return train_data.loc[users].country_destination.value_counts(normalize = True)\n",
    "\n",
    "def getcntr2(q1, q2, tr_series1, tr_series2, train_data):\n",
    "    users1 = tr_sessions[tr_series1 == q1].index.unique()\n",
    "    users2 = tr_sessions[tr_series2 == q2].index.unique()\n",
    "    users = set(users1) & set(users2)\n",
    "    return train_data.loc[users].country_destination.value_counts()"
   ]
  },
  {
   "cell_type": "code",
   "execution_count": null,
   "metadata": {
    "collapsed": false
   },
   "outputs": [],
   "source": [
    "tr_sessions[tr_sessions.action == 'travel_plans_current'].country_destination.value_counts()"
   ]
  },
  {
   "cell_type": "code",
   "execution_count": null,
   "metadata": {
    "collapsed": false
   },
   "outputs": [],
   "source": [
    "tr_sessions[tr_sessions.action == 'place_worth'].country_destination.value_counts()"
   ]
  },
  {
   "cell_type": "code",
   "execution_count": null,
   "metadata": {
    "collapsed": false
   },
   "outputs": [],
   "source": [
    "tr_sessions[tr_sessions.action == 'payout_update'].country_destination.value_counts()"
   ]
  },
  {
   "cell_type": "code",
   "execution_count": null,
   "metadata": {
    "collapsed": false
   },
   "outputs": [],
   "source": [
    "tr_sessions[tr_sessions.action == 'guest_billing_receipt'].country_destination.value_counts()"
   ]
  },
  {
   "cell_type": "code",
   "execution_count": null,
   "metadata": {
    "collapsed": false
   },
   "outputs": [],
   "source": [
    "tr_sessions[tr_sessions.action == 'booking'].country_destination.value_counts()"
   ]
  },
  {
   "cell_type": "code",
   "execution_count": null,
   "metadata": {
    "collapsed": false
   },
   "outputs": [],
   "source": [
    "tr_sessions[tr_sessions.action == 'guest_booked_elsewhere'].country_destination.value_counts()"
   ]
  },
  {
   "cell_type": "code",
   "execution_count": null,
   "metadata": {
    "collapsed": false
   },
   "outputs": [],
   "source": [
    "tr_sessions[tr_sessions.action == 'transaction_history'].country_destination.value_counts()"
   ]
  },
  {
   "cell_type": "code",
   "execution_count": null,
   "metadata": {
    "collapsed": false
   },
   "outputs": [],
   "source": [
    "tr_sessions[tr_sessions.action == 'receipt'].country_destination.value_counts()"
   ]
  },
  {
   "cell_type": "code",
   "execution_count": null,
   "metadata": {
    "collapsed": false
   },
   "outputs": [],
   "source": [
    "tr_sessions[tr_sessions.action == 'countries_option'].country_destination.value_counts()"
   ]
  },
  {
   "cell_type": "code",
   "execution_count": null,
   "metadata": {
    "collapsed": false
   },
   "outputs": [],
   "source": [
    "tr_sessions[tr_sessions.action == 'itinerary'].country_destination.value_counts()"
   ]
  },
  {
   "cell_type": "code",
   "execution_count": null,
   "metadata": {
    "collapsed": false
   },
   "outputs": [],
   "source": [
    "tr_sessions[tr_sessions.action == 'travel_plans_previous'].country_destination.value_counts()"
   ]
  },
  {
   "cell_type": "code",
   "execution_count": null,
   "metadata": {
    "collapsed": false
   },
   "outputs": [],
   "source": [
    "tr_sessions[tr_sessions.action == 'cancel'].country_destination.value_counts()"
   ]
  },
  {
   "cell_type": "code",
   "execution_count": null,
   "metadata": {
    "collapsed": false
   },
   "outputs": [],
   "source": [
    "tr_sessions[tr_sessions.action == 'office_location'].country_destination.value_counts()"
   ]
  },
  {
   "cell_type": "code",
   "execution_count": null,
   "metadata": {
    "collapsed": false
   },
   "outputs": [],
   "source": [
    "tr_sessions[tr_sessions.action_detail == 'your_trips'].country_destination.value_counts()"
   ]
  },
  {
   "cell_type": "code",
   "execution_count": null,
   "metadata": {
    "collapsed": false
   },
   "outputs": [],
   "source": [
    "users = tr_sessions[tr_sessions.action == 'host_summary'].user_id"
   ]
  },
  {
   "cell_type": "code",
   "execution_count": null,
   "metadata": {
    "collapsed": false
   },
   "outputs": [],
   "source": [
    "tr_sessions[tr_sessions.action == 'phone_number_widget'].country_destination.value_counts()"
   ]
  },
  {
   "cell_type": "code",
   "execution_count": null,
   "metadata": {
    "collapsed": false
   },
   "outputs": [],
   "source": [
    "tr_sessions[tr_sessions.action == 'payment_instruments'].country_destination.value_counts()"
   ]
  },
  {
   "cell_type": "code",
   "execution_count": null,
   "metadata": {
    "collapsed": false
   },
   "outputs": [],
   "source": [
    "tr_sessions[tr_sessions.action == 'agree_terms_uncheck'].country_destination.value_counts(normalize = True)"
   ]
  },
  {
   "cell_type": "code",
   "execution_count": null,
   "metadata": {
    "collapsed": false
   },
   "outputs": [],
   "source": [
    "test_sessions[test_sessions.action == 'print_confirmation']"
   ]
  },
  {
   "cell_type": "code",
   "execution_count": null,
   "metadata": {
    "collapsed": false,
    "scrolled": true
   },
   "outputs": [],
   "source": [
    "options = ['recommend', 'recommendations', 'references', 'referrer_status']\n",
    "for i in options:\n",
    "    print tr_sessions[tr_sessions.action == i].country_destination.value_counts()"
   ]
  },
  {
   "cell_type": "code",
   "execution_count": null,
   "metadata": {
    "collapsed": false
   },
   "outputs": [],
   "source": [
    "axes = plt.gca()\n",
    "axes.set_xlim([0,20000])\n",
    "s.hist(ax=axes, bins= 10000)"
   ]
  },
  {
   "cell_type": "code",
   "execution_count": null,
   "metadata": {
    "collapsed": false
   },
   "outputs": [],
   "source": [
    "s2 = tr_sessions.groupby('user_id').filter(lambda x: len(x['action'])>3)"
   ]
  },
  {
   "cell_type": "code",
   "execution_count": null,
   "metadata": {
    "collapsed": false
   },
   "outputs": [],
   "source": [
    "s2.groupby('user_id').apply(lambda x: x.iloc[1:2, :] )"
   ]
  },
  {
   "cell_type": "code",
   "execution_count": null,
   "metadata": {
    "collapsed": false
   },
   "outputs": [],
   "source": [
    "s2[s2.country_destination == 'NDF'].action.value_counts()"
   ]
  },
  {
   "cell_type": "code",
   "execution_count": null,
   "metadata": {
    "collapsed": false
   },
   "outputs": [],
   "source": [
    "s = sessions.groupby('user_id')['secs_elapsed'].apply(lambda x:  x.iloc[-1])"
   ]
  },
  {
   "cell_type": "code",
   "execution_count": null,
   "metadata": {
    "collapsed": false
   },
   "outputs": [],
   "source": [
    "train_actions = sessions[sessions.user_id.isin(train_data.index)].action.unique()\n",
    "test_actions = sessions[sessions.user_id.isin(test_data.index)].action.unique()\n",
    "a_ignore = set(train_actions) ^ set(test_actions)"
   ]
  },
  {
   "cell_type": "code",
   "execution_count": null,
   "metadata": {
    "collapsed": false
   },
   "outputs": [],
   "source": [
    "actions50 = [sessions_test.groupby('action')['user_id'].nunique() >50]\n",
    "print 'Number of unique actions with more than 50 users:', np.sum(sessions_test.groupby('action')['user_id'].nunique()>50)"
   ]
  },
  {
   "cell_type": "code",
   "execution_count": null,
   "metadata": {
    "collapsed": false
   },
   "outputs": [],
   "source": [
    "#Let's get the actions with just one action type and one action detail.\n",
    "print 'Number of unique actions with just one action type:',\n",
    "np.sum(sessions.groupby('action')['action_detail'].nunique()==1)\n",
    "#Take the intersection of these actions with a_ignore."
   ]
  },
  {
   "cell_type": "code",
   "execution_count": null,
   "metadata": {
    "collapsed": false
   },
   "outputs": [],
   "source": [
    "sessions['action_type'] = sessions['action_type'].fillna('missing')\n",
    "sessions['action_detail'] = sessions['action_detail'].fillna('missing')"
   ]
  },
  {
   "cell_type": "code",
   "execution_count": null,
   "metadata": {
    "collapsed": false,
    "scrolled": true
   },
   "outputs": [],
   "source": [
    "#actions with more than one action_detail\n",
    "#sessions['action_type'] = sessions['action_type'].fillna('none')\n",
    "#sessions['action_detail'] = sessions['action_detail'].fillna('none')\n",
    "\n",
    "def custom_filter(x):\n",
    "    conditions = (x['action_detail'].nunique() > 1) or (x['action_type'].nunique() > 1)\n",
    "    if conditions:\n",
    "        return True\n",
    "actions_df = sessions.groupby('action').filter(lambda x: custom_filter(x))\n",
    "for i in actions_df.action.unique():\n",
    "    print i, sessions[sessions.action==i].action_type.unique(), sessions[sessions.action==i].action_detail.unique()"
   ]
  },
  {
   "cell_type": "code",
   "execution_count": null,
   "metadata": {
    "collapsed": true
   },
   "outputs": [],
   "source": [
    "#exclude those actions that are exclusively found in one table or the other\n",
    "sessions = sessions[~sessions.action.isin(a_ignore)]"
   ]
  },
  {
   "cell_type": "code",
   "execution_count": null,
   "metadata": {
    "collapsed": false
   },
   "outputs": [],
   "source": [
    "#info = actions_1.groupby(['user_id', 'action']).apply(lambda x: x['secs_elapsed'].sum())\n",
    "action_cnts = sessions.groupby(['user_id', 'action']).apply(lambda x: x['device_type'].count())"
   ]
  },
  {
   "cell_type": "code",
   "execution_count": null,
   "metadata": {
    "collapsed": false
   },
   "outputs": [],
   "source": [
    "action_cnts = action_cnts.unstack(level=-1)"
   ]
  },
  {
   "cell_type": "code",
   "execution_count": null,
   "metadata": {
    "collapsed": false
   },
   "outputs": [],
   "source": [
    "action_cnts.fillna(0, inplace=True)"
   ]
  },
  {
   "cell_type": "code",
   "execution_count": null,
   "metadata": {
    "collapsed": false
   },
   "outputs": [],
   "source": [
    "users = pd.concat([allDf, action_cnts], axis = 1, join = 'inner').index"
   ]
  },
  {
   "cell_type": "code",
   "execution_count": null,
   "metadata": {
    "collapsed": false
   },
   "outputs": [],
   "source": [
    "pd.to_pickle(action_cnts, '../data/actions.p')"
   ]
  },
  {
   "cell_type": "code",
   "execution_count": null,
   "metadata": {
    "collapsed": true
   },
   "outputs": [],
   "source": [
    "pd.DataFrame(,index = sessions.user_id[])"
   ]
  },
  {
   "cell_type": "code",
   "execution_count": null,
   "metadata": {
    "collapsed": false
   },
   "outputs": [],
   "source": [
    "#find the number of users in test data with an action that is not found in the training sessions data\n",
    "#We should look to find similar items to substitute them\n",
    "for i in a_ignore:\n",
    "    users = sessions_test[sessions_test.action == i].user_id.unique()\n",
    "    if len(users) > 0:\n",
    "        print i, len(users)"
   ]
  },
  {
   "cell_type": "code",
   "execution_count": null,
   "metadata": {
    "collapsed": false
   },
   "outputs": [],
   "source": [
    "tr_sessions[tr_sessions['user_id'] == '1etkf91jg7']"
   ]
  },
  {
   "cell_type": "code",
   "execution_count": null,
   "metadata": {
    "collapsed": false
   },
   "outputs": [],
   "source": [
    "getcntr('apply_reservation', tr_sessions.action, train_data)"
   ]
  },
  {
   "cell_type": "code",
   "execution_count": null,
   "metadata": {
    "collapsed": false
   },
   "outputs": [],
   "source": [
    "tr_sessions.query(\"action == 'apply_coupon_error' & pos_norm > .9\")"
   ]
  },
  {
   "cell_type": "code",
   "execution_count": null,
   "metadata": {
    "collapsed": false
   },
   "outputs": [],
   "source": [
    "def get_counts(x):\n",
    "    return sessionsDf.action_detail.value_counts()['message_post']\n",
    "        \n",
    "sessionsDf.groupby(['user_id']).apply(lambda x: get_counts(x))"
   ]
  },
  {
   "cell_type": "code",
   "execution_count": null,
   "metadata": {
    "collapsed": true
   },
   "outputs": [],
   "source": [
    "dev_prop = sessions.groupby(['user_id']).apply(lambda x: x['device_type'].value_counts(normalize = True))"
   ]
  },
  {
   "cell_type": "code",
   "execution_count": null,
   "metadata": {
    "collapsed": false
   },
   "outputs": [],
   "source": [
    "pd.concat([allDf, dev_counts], join = 'outer')"
   ]
  },
  {
   "cell_type": "code",
   "execution_count": null,
   "metadata": {
    "collapsed": false
   },
   "outputs": [],
   "source": [
    "dev_countsDf = dev_counts.unstack()"
   ]
  },
  {
   "cell_type": "code",
   "execution_count": null,
   "metadata": {
    "collapsed": true
   },
   "outputs": [],
   "source": [
    "#merge these actions with action_detail\n",
    "mergedActs = sessions.action + '_' + sessions.action_detail\n",
    "#ignoring patch\n",
    "#ignoring 'pending'\n",
    "actions = ['index', 'show', 'create', 'reviews', 'delete', 'recommendations', 'update']\n",
    "for a in actions:\n",
    "    sessions.loc[sessions.action == a, 'action'] = mergedActs[sessions.action == a]"
   ]
  },
  {
   "cell_type": "code",
   "execution_count": null,
   "metadata": {
    "collapsed": false
   },
   "outputs": [],
   "source": [
    "#iterate through each action and find those that have more than one action detail/ action type\n",
    "#s = sessions.groupby('action')['action_type'].nunique()\n",
    "#sessions.groupby('action')['action_detail'].nunique()"
   ]
  },
  {
   "cell_type": "code",
   "execution_count": null,
   "metadata": {
    "collapsed": false
   },
   "outputs": [],
   "source": [
    "features = sorted(bst.get_fscore().items(), key = lambda x: x[1], reverse = True)\n",
    "[(feat, all_df.columns[int(feat[1:])], score) for feat, score in features]"
   ]
  }
 ],
 "metadata": {
  "kernelspec": {
   "display_name": "Python 2",
   "language": "python",
   "name": "python2"
  },
  "language_info": {
   "codemirror_mode": {
    "name": "ipython",
    "version": 2
   },
   "file_extension": ".py",
   "mimetype": "text/x-python",
   "name": "python",
   "nbconvert_exporter": "python",
   "pygments_lexer": "ipython2",
   "version": "2.7.11"
  }
 },
 "nbformat": 4,
 "nbformat_minor": 0
}
