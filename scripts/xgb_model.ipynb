{
 "cells": [
  {
   "cell_type": "code",
   "execution_count": 1,
   "metadata": {
    "collapsed": false,
    "scrolled": false
   },
   "outputs": [
    {
     "data": {
      "text/plain": [
       "<module 'dataEngr' from 'dataEngr.pyc'>"
      ]
     },
     "execution_count": 1,
     "metadata": {},
     "output_type": "execute_result"
    }
   ],
   "source": [
    "#%matplotlib inline\n",
    "#import matplotlib.pyplot as plt\n",
    "#import graphviz\n",
    "import numpy as np\n",
    "import pandas as pd\n",
    "from sklearn import preprocessing\n",
    "import xgboost as xgb\n",
    "import kaggle_xgb\n",
    "import calc_ndcg\n",
    "#from sklearn.grid_search import ParameterGrid\n",
    "import pickle\n",
    "import dataEngr\n",
    "reload(dataEngr)"
   ]
  },
  {
   "cell_type": "markdown",
   "metadata": {},
   "source": [
    "Read in just the testing and training data."
   ]
  },
  {
   "cell_type": "code",
   "execution_count": 7,
   "metadata": {
    "collapsed": false
   },
   "outputs": [
    {
     "name": "stdout",
     "output_type": "stream",
     "text": [
      "number of columns before one hot encoding 369\n",
      "number of columns after one hot encoding 468\n"
     ]
    }
   ],
   "source": [
    "xgbInput = dataEngr.clfInput()\n",
    "xgbInput.get_sessionsFtr()\n",
    "xgbInput.users_ftrEng()\n",
    "xgbInput.one_hot()\n",
    "#xgbInput.binarize_targets()\n",
    "xgbInput.split_data()"
   ]
  },
  {
   "cell_type": "code",
   "execution_count": 2,
   "metadata": {
    "collapsed": false
   },
   "outputs": [
    {
     "name": "stdout",
     "output_type": "stream",
     "text": [
      "number of columns before one hot encoding 369\n",
      "number of columns after one hot encoding 468\n"
     ]
    }
   ],
   "source": [
    "%run -i run_model.py"
   ]
  },
  {
   "cell_type": "code",
   "execution_count": 4,
   "metadata": {
    "collapsed": false
   },
   "outputs": [
    {
     "data": {
      "text/plain": [
       "['In',\n",
       " 'Out',\n",
       " '_',\n",
       " '_1',\n",
       " '__',\n",
       " '___',\n",
       " '__builtin__',\n",
       " '__builtins__',\n",
       " '__doc__',\n",
       " '__file__',\n",
       " '__name__',\n",
       " '__package__',\n",
       " '_dh',\n",
       " '_i',\n",
       " '_i1',\n",
       " '_i2',\n",
       " '_i3',\n",
       " '_i4',\n",
       " '_ih',\n",
       " '_ii',\n",
       " '_iii',\n",
       " '_oh',\n",
       " '_sh',\n",
       " 'calc_ndcg',\n",
       " 'dataEngr',\n",
       " 'exit',\n",
       " 'get_ipython',\n",
       " 'get_submission',\n",
       " 'kaggle_xgb',\n",
       " 'main',\n",
       " 'np',\n",
       " 'pd',\n",
       " 'pickle',\n",
       " 'preprocessing',\n",
       " 'quit',\n",
       " 'train_xgb',\n",
       " 'xgb']"
      ]
     },
     "execution_count": 4,
     "metadata": {},
     "output_type": "execute_result"
    }
   ],
   "source": [
    "dir()"
   ]
  },
  {
   "cell_type": "code",
   "execution_count": null,
   "metadata": {
    "collapsed": false
   },
   "outputs": [],
   "source": [
    "param = {'num_class': 12, 'objective': 'multi:softprob', 'seed': 0}\n",
    "param['eta'] = 0.20\n",
    "param['max_depth'] = 6\n",
    "param['subsample'] = .5\n",
    "param['col_sample_bytree'] = .8\n",
    "xgbresults = {}\n",
    "cv_train = pd.read_pickle('cv_results/actions_e20/train_err.p')\n",
    "cv_valid = pd.read_pickle('cv_results/actions_e20/validate_err.p')\n",
    "nrounds = 40\n",
    "for train_indx, valid_indx in cv_bydate(xgbInput):\n",
    "    dtrain = xgb.DMatrix(xgbInput.train_X[train_indx], label = xgbInput.train_Y[train_indx],\n",
    "                missing = -1)\n",
    "    dvalid = xgb.DMatrix(xgbInput.train_X[valid_indx], label = xgbInput.train_Y[valid_indx],\n",
    "                missing = -1)\n",
    "    evallist = [(dtrain, 'train'), (dvalid, 'eval')]\n",
    "    bst = xgb.train(param, dtrain, nrounds, evallist, feval = calc_ndcg.evalerror, evals_result = xgbresults)\n",
    "    cv_train = pd.concat([cv_train, pd.Series(xgbresults['train']['error'])], axis = 1)\n",
    "    cv_valid = pd.concat([cv_valid, pd.Series(xgbresults['eval']['error'])], axis = 1)\n",
    "    pd.concat([param_err, cv_train.mean(axis = 1)]\n",
    "    pd.concat([cv_valid.mean(axis = 1)])\n",
    "pd.to_pickle(cv_train, 'cv_results/actions_e20/train_err.p')\n",
    "pd.to_pickle(cv_valid, 'cv_results/actions_e20/validate_err.p')"
   ]
  },
  {
   "cell_type": "code",
   "execution_count": null,
   "metadata": {
    "collapsed": false
   },
   "outputs": [],
   "source": [
    "def cv_sessions(xgbInput):\n",
    "    \"\"\"Cross-validation on a subset of training data which meets a condition\"\"\"\n",
    "    \n",
    "    condition = 'dac_year == 2014 & action_counts != -1'\n",
    "    idx = np.nonzero(xgbInput.trainDf.index.isin(xgbInput.trainDf.query(condition).index))\n",
    "    idx = idx[0]\n",
    "    np.random.shuffle(idx[0])\n",
    "    n = len(idx)\n",
    "    \n",
    "    for i in range(0, kfolds):\n",
    "        idx[0]\n",
    "        \n",
    "def cv_bydate(xgbInput):\n",
    "    \"\"\"Select folds for cross validation as all cases that occurred in a given with month \n",
    "    in 2014, with sessions data.\n",
    "    Only cases in 2014 have sessions data and the last test case is on June 30.\n",
    "    \"\"\"\n",
    "    \n",
    "    for i in range(4,7):\n",
    "        condition = 'dac_year == 2014 & dac_month == @i & action_counts != -1'\n",
    "        valid_mask = xgbInput.trainDf.index.isin(xgbInput.trainDf.query(condition).index)\n",
    "        valid_indx = np.where(valid_mask)[0]\n",
    "        train_indx = np.where(~valid_mask)[0]\n",
    "        yield train_indx, valid_indx"
   ]
  },
  {
   "cell_type": "code",
   "execution_count": null,
   "metadata": {
    "collapsed": false
   },
   "outputs": [],
   "source": [
    "pd.read_pickle('cv_results/sessions_e20_25n/validate_err.p')"
   ]
  },
  {
   "cell_type": "code",
   "execution_count": null,
   "metadata": {
    "collapsed": false
   },
   "outputs": [],
   "source": [
    "a = pd.read_pickle('cv_results/actions_e20/validate_err.p')\n",
    "a = a.astype(float)\n",
    "a['mean'] = a.mean(axis = 1)"
   ]
  },
  {
   "cell_type": "code",
   "execution_count": null,
   "metadata": {
    "collapsed": false
   },
   "outputs": [],
   "source": [
    "null_tr_browsers = []\n",
    "null_testbrowsers = []\n",
    "for i in train_data.first_browser.unique():\n",
    "    if i not in test_data.first_browser.unique():\n",
    "        null_tr_browsers.append(i)\n",
    "for i in test_data.first_browser.unique():\n",
    "    if i not in train_data.first_browser.unique():\n",
    "        null_testbrowsers.append(i)"
   ]
  },
  {
   "cell_type": "code",
   "execution_count": null,
   "metadata": {
    "collapsed": false
   },
   "outputs": [],
   "source": [
    "%run run_model.py"
   ]
  },
  {
   "cell_type": "code",
   "execution_count": null,
   "metadata": {
    "collapsed": false
   },
   "outputs": [],
   "source": [
    "np.where(av<14, -1)"
   ]
  },
  {
   "cell_type": "code",
   "execution_count": null,
   "metadata": {
    "collapsed": false
   },
   "outputs": [],
   "source": [
    "av = xgbInput.allDf.age.values"
   ]
  },
  {
   "cell_type": "code",
   "execution_count": 5,
   "metadata": {
    "collapsed": false
   },
   "outputs": [],
   "source": [
    "with open('../xgbmodels/actions2_e20_30n.p') as f:\n",
    "    bst = pickle.load(f)"
   ]
  },
  {
   "cell_type": "code",
   "execution_count": 8,
   "metadata": {
    "collapsed": false,
    "scrolled": true
   },
   "outputs": [
    {
     "data": {
      "text/plain": [
       "[('f350', 'age', 289),\n",
       " ('f358', 'tfa_hour', 147),\n",
       " ('f353', 'dac_day', 134),\n",
       " ('f321', 'secs_elapsed', 113),\n",
       " ('f233', 'requested', 105),\n",
       " ('f352', 'dac_month', 90),\n",
       " ('f351', 'dac_year', 88),\n",
       " ('f188', 'pending_pending', 82),\n",
       " ('f320', 'action_counts', 82),\n",
       " ('f354', 'dac_dayofweek', 75),\n",
       " ('f363', 'signup_method_basic', 68),\n",
       " ('f27', 'ajax_refresh_subtotal', 66),\n",
       " ('f244', 'search_results', 65),\n",
       " ('f359', 'gender_-unknown-', 58),\n",
       " ('f328', 'Mac Desktop_counts', 58),\n",
       " ('f318', 'message_posttotal', 58),\n",
       " ('f283', 'this_hosting_reviews', 47),\n",
       " ('f136', 'index_view_search_results', 47),\n",
       " ('f254', 'show_p3', 44),\n",
       " ('f331', 'Windows Desktop_counts', 43),\n",
       " ('f306', 'update_update_listing', 43),\n",
       " ('f266', 'similar_listings', 41),\n",
       " ('f174', 'other_hosting_reviews_first', 40),\n",
       " ('f426', 'first_affiliate_tracked_untracked', 39),\n",
       " ('f190', 'personalize', 39),\n",
       " ('f156', 'lookup', 36),\n",
       " ('f19', 'ajax_google_translate_reviews', 36),\n",
       " ('f434', 'first_device_type_Mac Desktop', 35),\n",
       " ('f252', 'show_none', 35),\n",
       " ('f395', 'affiliate_channel_content', 34),\n",
       " ('f366', 'signup_flow_0', 32),\n",
       " ('f356', 'tfa_month', 32),\n",
       " ('f364', 'signup_method_facebook', 30),\n",
       " ('f429', 'signup_app_Web', 30),\n",
       " ('f333', 'iPad Tablet_counts', 30),\n",
       " ('f168', 'none_message_post', 29),\n",
       " ('f50', 'cancellation_policies', 28),\n",
       " ('f125', 'identity', 28),\n",
       " ('f78', 'create_create_phone_numbers', 28),\n",
       " ('f293', 'travel_plans_current', 27),\n",
       " ('f85', 'dashboard', 27),\n",
       " ('f360', 'gender_FEMALE', 26),\n",
       " ('f419', 'first_affiliate_tracked_-1', 26),\n",
       " ('f423', 'first_affiliate_tracked_omg', 25),\n",
       " ('f214', 'qt2', 24),\n",
       " ('f128', 'index_-unknown-', 24),\n",
       " ('f119', 'header_userpic', 24),\n",
       " ('f38', 'ask_question', 23),\n",
       " ('f66', 'confirm_email', 23),\n",
       " ('f400', 'affiliate_channel_sem-non-brand', 21),\n",
       " ('f449', 'first_browser_Firefox', 21),\n",
       " ('f322', '-unknown-_counts', 21),\n",
       " ('f440', 'first_browser_-unknown-', 21),\n",
       " ('f146', 'languages_multiselect', 21),\n",
       " ('f461', 'first_browser_Safari', 20),\n",
       " ('f46', 'calendar_tab_inner2', 19),\n",
       " ('f255', 'show_personalize', 19),\n",
       " ('f445', 'first_browser_Chrome', 19),\n",
       " ('f355', 'tfa_year', 18),\n",
       " ('f410', 'affiliate_provider_google', 18),\n",
       " ('f361', 'gender_MALE', 17),\n",
       " ('f135', 'index_user_wishlists', 17),\n",
       " ('f243', 'search', 17),\n",
       " ('f96', 'edit', 17),\n",
       " ('f397', 'affiliate_channel_other', 17),\n",
       " ('f267', 'similar_listings_v2', 17),\n",
       " ('f375', 'language_de', 17),\n",
       " ('f437', 'first_device_type_Windows Desktop', 16),\n",
       " ('f157', 'manage_listing', 16),\n",
       " ('f312', 'verify', 16),\n",
       " ('f257', 'show_user_profile', 16),\n",
       " ('f161', 'message_to_host_focus', 15),\n",
       " ('f330', 'Tablet_counts', 15),\n",
       " ('f36', 'apply_reservation', 15),\n",
       " ('f79', 'create_create_user', 15),\n",
       " ('f21', 'ajax_lwlb_contact', 14),\n",
       " ('f131', 'index_message_thread', 14),\n",
       " ('f238', 'reviews_listing_reviews', 14),\n",
       " ('f39', 'at_checkpoint', 14),\n",
       " ('f73', 'create_-unknown-', 14),\n",
       " ('f334', 'iPhone_counts', 13),\n",
       " ('f241', 'salute', 13),\n",
       " ('f309', 'update_update_user_profile', 13),\n",
       " ('f171', 'open_graph_setting', 13),\n",
       " ('f433', 'first_device_type_Desktop (Other)', 12),\n",
       " ('f107', 'faq_category', 12),\n",
       " ('f40', 'authenticate', 12),\n",
       " ('f406', 'affiliate_provider_direct', 12),\n",
       " ('f248', 'settings', 12),\n",
       " ('f396', 'affiliate_channel_direct', 12),\n",
       " ('f377', 'language_en', 12),\n",
       " ('f420', 'first_affiliate_tracked_linked', 12),\n",
       " ('f169', 'notifications', 11),\n",
       " ('f102', 'endpoint_error', 11),\n",
       " ('f25', 'ajax_photo_widget_form_iframe', 11),\n",
       " ('f10', 'active', 11),\n",
       " ('f380', 'language_fr', 11),\n",
       " ('f259', 'show_wishlist', 11),\n",
       " ('f205', 'populate_from_facebook', 10),\n",
       " ('f200', 'phone_verification_success', 10),\n",
       " ('f290', 'track_page_view', 10),\n",
       " ('f54', 'change_currency', 10),\n",
       " ('f439', 'first_device_type_iPhone', 10),\n",
       " ('f403', 'affiliate_provider_bing', 10),\n",
       " ('f49', 'cancel', 10),\n",
       " ('f127', 'impressions', 10),\n",
       " ('f240', 'reviews_user_reviews', 10),\n",
       " ('f97', 'edit_verification', 10),\n",
       " ('f65', 'complete_status', 10),\n",
       " ('f271', 'social_connections', 10),\n",
       " ('f164', 'my', 9),\n",
       " ('f287', 'top_destinations', 9),\n",
       " ('f428', 'signup_app_Moweb', 9),\n",
       " ('f191', 'phone_number_widget', 9),\n",
       " ('f90', 'delete_delete_phone_numbers', 9),\n",
       " ('f399', 'affiliate_channel_sem-brand', 9),\n",
       " ('f16', 'ajax_check_dates', 9),\n",
       " ('f140', 'itinerary', 9),\n",
       " ('f378', 'language_es', 9),\n",
       " ('f47', 'callback', 8),\n",
       " ('f48', 'campaigns', 8),\n",
       " ('f324', 'Android Phone_counts', 8),\n",
       " ('f51', 'cancellation_policy_click', 8),\n",
       " ('f416', 'affiliate_provider_vast', 8),\n",
       " ('f227', 'references', 8),\n",
       " ('f253', 'show_p1', 8),\n",
       " ('f13', 'agree_terms_check', 8),\n",
       " ('f260', 'signature', 8),\n",
       " ('f62', 'collections', 8),\n",
       " ('f173', 'other_hosting_reviews', 8),\n",
       " ('f424', 'first_affiliate_tracked_product', 8),\n",
       " ('f137', 'index_your_listings', 7),\n",
       " ('f206', 'populate_help_dropdown', 7),\n",
       " ('f42', 'available', 7),\n",
       " ('f367', 'signup_flow_8', 7),\n",
       " ('f111', 'friends', 7),\n",
       " ('f229', 'remove_dashboard_alert', 7),\n",
       " ('f408', 'affiliate_provider_facebook', 7),\n",
       " ('f139', 'issue', 7),\n",
       " ('f414', 'affiliate_provider_other', 7),\n",
       " ('f5', 'account', 7),\n",
       " ('f249', 'show_-unknown-', 7),\n",
       " ('f383', 'language_it', 7),\n",
       " ('f149', 'listings', 7),\n",
       " ('f371', 'signup_flow_25', 7),\n",
       " ('f450', 'first_browser_IE', 6),\n",
       " ('f281', 'terms', 6),\n",
       " ('f282', 'terms_and_conditions', 6),\n",
       " ('f216', 'qt_with', 6),\n",
       " ('f435', 'first_device_type_Other/Unknown', 6),\n",
       " ('f438', 'first_device_type_iPad', 6),\n",
       " ('f187', 'pending_-unknown-', 6),\n",
       " ('f197', 'phone_verification_number_submitted_for_sms', 6),\n",
       " ('f401', 'affiliate_channel_seo', 6),\n",
       " ('f404', 'affiliate_provider_craigslist', 6),\n",
       " ('f130', 'index_message_inbox', 6),\n",
       " ('f3', '15_message_post', 6),\n",
       " ('f386', 'language_nl', 6),\n",
       " ('f18', 'ajax_google_translate_description', 6),\n",
       " ('f201', 'photography', 5),\n",
       " ('f357', 'tfa_day', 5),\n",
       " ('f421', 'first_affiliate_tracked_local ops', 5),\n",
       " ('f296', 'unavailabilities', 5),\n",
       " ('f432', 'first_device_type_Android Tablet', 5),\n",
       " ('f430', 'signup_app_iOS', 5),\n",
       " ('f185', 'payout_preferences', 5),\n",
       " ('f224', 'recommendations_listing_recommendations', 5),\n",
       " ('f409', 'affiliate_provider_facebook-open-graph', 5),\n",
       " ('f323', 'Android App Unknown Phone/Tablet_counts', 5),\n",
       " ('f388', 'language_pl', 5),\n",
       " ('f263', 'signup_modal', 5),\n",
       " ('f176', 'p4_refund_policy_terms', 5),\n",
       " ('f385', 'language_ko', 5),\n",
       " ('f181', 'payment_methods', 5),\n",
       " ('f71', 'coupon_code_click', 5),\n",
       " ('f160', 'message_to_host_change', 4),\n",
       " ('f145', 'kba_update', 4),\n",
       " ('f212', 'profile_pic', 4),\n",
       " ('f220', 'receipt', 4),\n",
       " ('f106', 'faq', 4),\n",
       " ('f133', 'index_reservations', 4),\n",
       " ('f292', 'transaction_history_paginated', 4),\n",
       " ('f143', 'jumio_token', 4),\n",
       " ('f86', 'decision_tree', 4),\n",
       " ('f247', 'set_user', 4),\n",
       " ('f326', 'Chromebook_counts', 4),\n",
       " ('f394', 'language_zh', 4),\n",
       " ('f12', 'add_note', 4),\n",
       " ('f11', 'add_guests', 4),\n",
       " ('f0', '10_message_post', 4),\n",
       " ('f144', 'kba', 4),\n",
       " ('f262', 'signup_login', 4),\n",
       " ('f261', 'signed_out_modal', 4),\n",
       " ('f63', 'complete', 4),\n",
       " ('f179', 'pay', 4),\n",
       " ('f117', 'handle_vanity_url', 3),\n",
       " ('f198', 'phone_verification_number_sucessfully_submitted', 3),\n",
       " ('f180', 'payment_instruments', 3),\n",
       " ('f20', 'ajax_image_upload', 3),\n",
       " ('f362', 'gender_OTHER', 3),\n",
       " ('f154', 'login', 3),\n",
       " ('f155', 'login_modal', 3),\n",
       " ('f142', 'jumio_redirect', 3),\n",
       " ('f308', 'update_update_user', 3),\n",
       " ('f178', 'patch', 3),\n",
       " ('f301', 'update_friends_display', 3),\n",
       " ('f60', 'click', 3),\n",
       " ('f444', 'first_browser_BlackBerry Browser', 3),\n",
       " ('f165', 'my_listings', 2),\n",
       " ('f280', 'tell_a_friend', 2),\n",
       " ('f134', 'index_user_tax_forms', 2),\n",
       " ('f291', 'transaction_history', 2),\n",
       " ('f239', 'reviews_new', 2),\n",
       " ('f196', 'phone_verification_number_submitted_for_call', 2),\n",
       " ('f295', 'trust', 2),\n",
       " ('f110', 'founders', 2),\n",
       " ('f288', 'tos_confirm', 2),\n",
       " ('f368', 'signup_flow_12', 2),\n",
       " ('f219', 'read_policy_click', 2),\n",
       " ('f109', 'forgot_password', 2),\n",
       " ('f105', 'facebook_auto_login', 2),\n",
       " ('f26', 'ajax_price_and_availability', 2),\n",
       " ('f398', 'affiliate_channel_remarketing', 2),\n",
       " ('f81', 'create_multiple', 2),\n",
       " ('f87', 'delete_-unknown-', 2),\n",
       " ('f246', 'set_password', 2),\n",
       " ('f310', 'upload', 2),\n",
       " ('f14', 'agree_terms_uncheck', 2),\n",
       " ('f2', '12_message_post', 2),\n",
       " ('f4', 'about_us', 2),\n",
       " ('f148', 'listing', 2),\n",
       " ('f431', 'first_device_type_Android Phone', 2),\n",
       " ('f304', 'update_notifications', 2),\n",
       " ('f83', 'create_signup', 2),\n",
       " ('f447', 'first_browser_Chromium', 2),\n",
       " ('f221', 'recent_reservations', 2),\n",
       " ('f275', 'status', 2),\n",
       " ('f425', 'first_affiliate_tracked_tracked-other', 2),\n",
       " ('f374', 'language_da', 2),\n",
       " ('f457', 'first_browser_Opera', 1),\n",
       " ('f456', 'first_browser_Mobile Safari', 1),\n",
       " ('f204', 'popular', 1),\n",
       " ('f215', 'qt_reply_v2', 1),\n",
       " ('f162', 'mobile_landing_page', 1),\n",
       " ('f114', 'guarantee', 1),\n",
       " ('f194', 'phone_verification_error', 1),\n",
       " ('f195', 'phone_verification_modal', 1),\n",
       " ('f228', 'referrer_status', 1),\n",
       " ('f189', 'pending_tickets', 1),\n",
       " ('f29', 'ajax_statsd', 1),\n",
       " ('f327', 'Linux Desktop_counts', 1),\n",
       " ('f407', 'affiliate_provider_email-marketing', 1),\n",
       " ('f17', 'ajax_google_translate', 1),\n",
       " ('f34', 'apply_coupon_error', 1),\n",
       " ('f52', 'change', 1),\n",
       " ('f123', 'host_summary', 1),\n",
       " ('f384', 'language_ja', 1),\n",
       " ('f415', 'affiliate_provider_padmapper', 1),\n",
       " ('f417', 'affiliate_provider_yahoo', 1),\n",
       " ('f80', 'create_list_your_space', 1),\n",
       " ('f151', 'localization_settings', 1),\n",
       " ('f93', 'destroy', 1),\n",
       " ('f311', 'uptodate', 1),\n",
       " ('f412', 'affiliate_provider_meetup', 1),\n",
       " ('f298', 'update_-unknown-', 1),\n",
       " ('f231', 'request_new_confirm_email', 1),\n",
       " ('f41', 'authorize', 1),\n",
       " ('f268', 'slideshow', 1),\n",
       " ('f307', 'update_update_listing_description', 1),\n",
       " ('f302', 'update_hide_from_search_engines', 1),\n",
       " ('f67', 'connect', 1),\n",
       " ('f100', 'email_share', 1),\n",
       " ('f61', 'clickthrough', 1),\n",
       " ('f278', 'supported', 1),\n",
       " ('f211', 'privacy', 1),\n",
       " ('f77', 'create_create_listing', 1),\n",
       " ('f70', 'country_options', 1),\n",
       " ('f72', 'coupon_field_focus', 1)]"
      ]
     },
     "execution_count": 8,
     "metadata": {},
     "output_type": "execute_result"
    }
   ],
   "source": [
    "features = sorted(bst.get_fscore().items(), key = lambda x: x[1], reverse = True)\n",
    "[(feat, xgbInput.allDf.columns[int(feat[1:])], score) for feat, score in features]"
   ]
  }
 ],
 "metadata": {
  "kernelspec": {
   "display_name": "Python 2",
   "language": "python",
   "name": "python2"
  },
  "language_info": {
   "codemirror_mode": {
    "name": "ipython",
    "version": 2
   },
   "file_extension": ".py",
   "mimetype": "text/x-python",
   "name": "python",
   "nbconvert_exporter": "python",
   "pygments_lexer": "ipython2",
   "version": "2.7.11"
  }
 },
 "nbformat": 4,
 "nbformat_minor": 0
}
