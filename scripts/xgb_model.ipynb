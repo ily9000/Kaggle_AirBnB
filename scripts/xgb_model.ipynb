{
 "cells": [
  {
   "cell_type": "code",
   "execution_count": 2,
   "metadata": {
    "collapsed": false,
    "scrolled": false
   },
   "outputs": [
    {
     "data": {
      "text/plain": [
       "<module 'dataEngr' from 'dataEngr.pyc'>"
      ]
     },
     "execution_count": 2,
     "metadata": {},
     "output_type": "execute_result"
    }
   ],
   "source": [
    "#%matplotlib inline\n",
    "#import matplotlib.pyplot as plt\n",
    "#import graphviz\n",
    "import numpy as np\n",
    "import pandas as pd\n",
    "from sklearn import preprocessing\n",
    "import xgboost as xgb\n",
    "import kaggle_xgb\n",
    "import calc_ndcg\n",
    "#from sklearn.grid_search import ParameterGrid\n",
    "import pickle\n",
    "import dataEngr\n",
    "reload(dataEngr)"
   ]
  },
  {
   "cell_type": "markdown",
   "metadata": {},
   "source": [
    "Read in just the testing and training data."
   ]
  },
  {
   "cell_type": "code",
   "execution_count": null,
   "metadata": {
    "collapsed": false
   },
   "outputs": [],
   "source": [
    "xgbInput = dataEngr.clfInput()\n",
    "xgbInput.get_sessionsFtr()\n",
    "xgbInput.users_ftrEng()\n",
    "xgbInput.one_hot()\n",
    "#xgbInput.binarize_targets()\n",
    "xgbInput.split_data()"
   ]
  },
  {
   "cell_type": "code",
   "execution_count": 1,
   "metadata": {
    "collapsed": false
   },
   "outputs": [
    {
     "name": "stdout",
     "output_type": "stream",
     "text": [
      "number of columns before one hot encoding 369\n",
      "number of columns after one hot encoding 468\n"
     ]
    }
   ],
   "source": [
    "%run -i run_model.py"
   ]
  },
  {
   "cell_type": "code",
   "execution_count": null,
   "metadata": {
    "collapsed": false
   },
   "outputs": [],
   "source": [
    "param = {'num_class': 12, 'objective': 'multi:softprob', 'seed': 0}\n",
    "param['eta'] = 0.20\n",
    "param['max_depth'] = 6\n",
    "param['subsample'] = .5\n",
    "param['colsample_bytree'] = .8\n",
    "xgbresults = {}\n",
    "cv_train = pd.read_pickle('cv_results/actions_e20/train_err.p')\n",
    "cv_valid = pd.read_pickle('cv_results/actions_e20/validate_err.p')\n",
    "nrounds = 40\n",
    "for train_indx, valid_indx in cv_bydate(xgbInput):\n",
    "    dtrain = xgb.DMatrix(xgbInput.train_X[train_indx], label = xgbInput.train_Y[train_indx],\n",
    "                missing = -1)\n",
    "    dvalid = xgb.DMatrix(xgbInput.train_X[valid_indx], label = xgbInput.train_Y[valid_indx],\n",
    "                missing = -1)\n",
    "    evallist = [(dtrain, 'train'), (dvalid, 'eval')]\n",
    "    bst = xgb.train(param, dtrain, nrounds, evallist, feval = calc_ndcg.evalerror, evals_result = xgbresults)\n",
    "    cv_train = pd.concat([cv_train, pd.Series(xgbresults['train']['error'])], axis = 1)\n",
    "    cv_valid = pd.concat([cv_valid, pd.Series(xgbresults['eval']['error'])], axis = 1)\n",
    "    pd.concat([param_err, cv_train.mean(axis = 1)]\n",
    "    pd.concat([cv_valid.mean(axis = 1)])\n",
    "pd.to_pickle(cv_train, 'cv_results/actions_e20/train_err.p')\n",
    "pd.to_pickle(cv_valid, 'cv_results/actions_e20/validate_err.p')"
   ]
  },
  {
   "cell_type": "code",
   "execution_count": null,
   "metadata": {
    "collapsed": false
   },
   "outputs": [],
   "source": [
    "def cv_sessions(xgbInput):\n",
    "    \"\"\"Cross-validation on a subset of training data which meets a condition\"\"\"\n",
    "    \n",
    "    condition = 'dac_year == 2014 & action_counts != -1'\n",
    "    idx = np.nonzero(xgbInput.trainDf.index.isin(xgbInput.trainDf.query(condition).index))\n",
    "    idx = idx[0]\n",
    "    np.random.shuffle(idx[0])\n",
    "    n = len(idx)\n",
    "    \n",
    "    for i in range(0, kfolds):\n",
    "        idx[0]\n",
    "        \n",
    "def cv_bydate(xgbInput):\n",
    "    \"\"\"Select folds for cross validation as all cases that occurred in a given with month \n",
    "    in 2014, with sessions data.\n",
    "    Only cases in 2014 have sessions data and the last test case is on June 30.\n",
    "    \"\"\"\n",
    "    \n",
    "    for i in range(4,7):\n",
    "        condition = 'dac_year == 2014 & dac_month == @i & action_counts != -1'\n",
    "        valid_mask = xgbInput.trainDf.index.isin(xgbInput.trainDf.query(condition).index)\n",
    "        valid_indx = np.where(valid_mask)[0]\n",
    "        train_indx = np.where(~valid_mask)[0]\n",
    "        yield train_indx, valid_indx"
   ]
  },
  {
   "cell_type": "code",
   "execution_count": null,
   "metadata": {
    "collapsed": false
   },
   "outputs": [],
   "source": [
    "pd.read_pickle('cv_results/sessions_e20_25n/validate_err.p')"
   ]
  },
  {
   "cell_type": "code",
   "execution_count": null,
   "metadata": {
    "collapsed": false
   },
   "outputs": [],
   "source": [
    "a = pd.read_pickle('cv_results/actions_e20/validate_err.p')\n",
    "a = a.astype(float)\n",
    "a['mean'] = a.mean(axis = 1)"
   ]
  },
  {
   "cell_type": "code",
   "execution_count": null,
   "metadata": {
    "collapsed": false
   },
   "outputs": [],
   "source": [
    "null_tr_browsers = []\n",
    "null_testbrowsers = []\n",
    "for i in train_data.first_browser.unique():\n",
    "    if i not in test_data.first_browser.unique():\n",
    "        null_tr_browsers.append(i)\n",
    "for i in test_data.first_browser.unique():\n",
    "    if i not in train_data.first_browser.unique():\n",
    "        null_testbrowsers.append(i)"
   ]
  },
  {
   "cell_type": "code",
   "execution_count": null,
   "metadata": {
    "collapsed": false
   },
   "outputs": [],
   "source": [
    "%run run_model.py"
   ]
  },
  {
   "cell_type": "code",
   "execution_count": null,
   "metadata": {
    "collapsed": false
   },
   "outputs": [],
   "source": [
    "np.where(av<14, -1)"
   ]
  },
  {
   "cell_type": "code",
   "execution_count": null,
   "metadata": {
    "collapsed": false
   },
   "outputs": [],
   "source": [
    "av = xgbInput.allDf.age.values"
   ]
  },
  {
   "cell_type": "code",
   "execution_count": null,
   "metadata": {
    "collapsed": false
   },
   "outputs": [],
   "source": [
    "with open('../xgbmodels/actions2_e20_30n.p') as f:\n",
    "    bst = pickle.load(f)"
   ]
  },
  {
   "cell_type": "code",
   "execution_count": null,
   "metadata": {
    "collapsed": false,
    "scrolled": true
   },
   "outputs": [],
   "source": [
    "features = sorted(bst.get_fscore().items(), key = lambda x: x[1], reverse = True)\n",
    "[(feat, xgbInput.allDf.columns[int(feat[1:])], score) for feat, score in features]"
   ]
  }
 ],
 "metadata": {
  "kernelspec": {
   "display_name": "Python 2",
   "language": "python",
   "name": "python2"
  },
  "language_info": {
   "codemirror_mode": {
    "name": "ipython",
    "version": 2
   },
   "file_extension": ".py",
   "mimetype": "text/x-python",
   "name": "python",
   "nbconvert_exporter": "python",
   "pygments_lexer": "ipython2",
   "version": "2.7.11"
  }
 },
 "nbformat": 4,
 "nbformat_minor": 0
}
