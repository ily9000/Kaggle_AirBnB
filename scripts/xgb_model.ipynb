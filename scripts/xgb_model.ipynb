{
 "cells": [
  {
   "cell_type": "code",
   "execution_count": 2,
   "metadata": {
    "collapsed": false,
    "scrolled": false
   },
   "outputs": [
    {
     "data": {
      "text/plain": [
       "<module 'dataEngr' from 'dataEngr.pyc'>"
      ]
     },
     "execution_count": 2,
     "metadata": {},
     "output_type": "execute_result"
    }
   ],
   "source": [
    "#%matplotlib inline\n",
    "#import matplotlib.pyplot as plt\n",
    "#import graphviz\n",
    "import numpy as np\n",
    "import pandas as pd\n",
    "from sklearn import preprocessing\n",
    "import xgboost as xgb\n",
    "import kaggle_xgb\n",
    "import calc_ndcg\n",
    "#from sklearn.grid_search import ParameterGrid\n",
    "import pickle\n",
    "import dataEngr\n",
    "reload(dataEngr)"
   ]
  },
  {
   "cell_type": "markdown",
   "metadata": {},
   "source": [
    "Read in just the testing and training data."
   ]
  },
  {
   "cell_type": "code",
   "execution_count": null,
   "metadata": {
    "collapsed": false
   },
   "outputs": [],
   "source": [
    "xgbInput = dataEngr.clfInput()\n",
    "xgbInput.get_sessionsFtr()\n",
    "xgbInput.users_ftrEng()\n",
    "xgbInput.one_hot()\n",
    "#xgbInput.binarize_targets()\n",
    "xgbInput.split_data(update_trainDf=True)"
   ]
  },
  {
   "cell_type": "code",
   "execution_count": null,
   "metadata": {
    "collapsed": false
   },
   "outputs": [
    {
     "name": "stdout",
     "output_type": "stream",
     "text": [
      "number of columns before one hot encoding 370\n",
      "number of columns after one hot encoding 469\n",
      "15"
     ]
    },
    {
     "name": "stderr",
     "output_type": "stream",
     "text": [
      "[0]\teval-error:0.155979\n",
      "[1]\teval-error:0.153003\n",
      "[2]\teval-error:0.155197\n",
      "[3]\teval-error:0.154204\n",
      "[4]\teval-error:0.153658\n",
      "[5]\teval-error:0.151832\n",
      "[6]\teval-error:0.151362\n",
      "[7]\teval-error:0.150855\n",
      "[8]\teval-error:0.150198\n",
      "[9]\teval-error:0.150452\n",
      "[10]\teval-error:0.151138\n",
      "[11]\teval-error:0.151200\n",
      "[12]\teval-error:0.150859\n",
      "[13]\teval-error:0.150898\n",
      "[14]\teval-error:0.150317\n",
      "[15]\teval-error:0.150496\n",
      "[16]\teval-error:0.150266\n",
      "[17]\teval-error:0.150039\n",
      "[18]\teval-error:0.150156\n",
      "[19]\teval-error:0.149701\n",
      "[20]\teval-error:0.149570\n",
      "[21]\teval-error:0.148937\n",
      "[22]\teval-error:0.148301\n",
      "[23]\teval-error:0.149242\n",
      "[24]\teval-error:0.148908\n",
      "[25]\teval-error:0.148358\n",
      "[26]\teval-error:0.147466\n",
      "[27]\teval-error:0.147397\n",
      "[28]\teval-error:0.147502\n",
      "[29]\teval-error:0.147495\n",
      "[30]\teval-error:0.147566\n",
      "[31]\teval-error:0.147330\n",
      "[32]\teval-error:0.146907\n",
      "[33]\teval-error:0.146344\n",
      "[34]\teval-error:0.146182\n",
      "[35]\teval-error:0.145787\n",
      "[36]\teval-error:0.146490\n",
      "[37]\teval-error:0.145880\n",
      "[38]\teval-error:0.145680\n",
      "[39]\teval-error:0.145040\n",
      "[40]\teval-error:0.145240\n",
      "[41]\teval-error:0.144989\n",
      "[42]\teval-error:0.145047\n",
      "[43]\teval-error:0.145163\n",
      "[44]\teval-error:0.145089\n",
      "[45]\teval-error:0.145487\n",
      "[46]\teval-error:0.145242\n",
      "[47]\teval-error:0.145256\n",
      "[48]\teval-error:0.145254\n",
      "[49]\teval-error:0.145292\n",
      "[50]\teval-error:0.145324\n",
      "[51]\teval-error:0.145145\n",
      "[52]\teval-error:0.145438\n",
      "[53]\teval-error:0.145142\n",
      "[54]\teval-error:0.144761\n",
      "[55]\teval-error:0.144661\n"
     ]
    }
   ],
   "source": [
    "%run -i custom_paramsearch.py"
   ]
  },
  {
   "cell_type": "code",
   "execution_count": null,
   "metadata": {
    "collapsed": false,
    "scrolled": true
   },
   "outputs": [],
   "source": [
    "%run -i custom_paramsearch.py"
   ]
  },
  {
   "cell_type": "code",
   "execution_count": null,
   "metadata": {
    "collapsed": false
   },
   "outputs": [],
   "source": [
    "with open('../xgbmodels/actions2_e13_96n.p') as f:\n",
    "    bst = pickle.load(f)"
   ]
  },
  {
   "cell_type": "code",
   "execution_count": null,
   "metadata": {
    "collapsed": false,
    "scrolled": true
   },
   "outputs": [],
   "source": [
    "features = sorted(bst.get_fscore().items(), key = lambda x: x[1], reverse = True)\n",
    "[(feat, xgbInput.allDf.columns[int(feat[1:])], score) for feat, score in features]"
   ]
  }
 ],
 "metadata": {
  "kernelspec": {
   "display_name": "Python 2",
   "language": "python",
   "name": "python2"
  },
  "language_info": {
   "codemirror_mode": {
    "name": "ipython",
    "version": 2
   },
   "file_extension": ".py",
   "mimetype": "text/x-python",
   "name": "python",
   "nbconvert_exporter": "python",
   "pygments_lexer": "ipython2",
   "version": "2.7.11"
  }
 },
 "nbformat": 4,
 "nbformat_minor": 0
}
