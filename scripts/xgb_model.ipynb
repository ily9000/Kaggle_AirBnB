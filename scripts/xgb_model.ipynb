{
 "cells": [
  {
   "cell_type": "code",
   "execution_count": null,
   "metadata": {
    "collapsed": false
   },
   "outputs": [],
   "source": [
    "#%matplotlib inline\n",
    "#import matplotlib.pyplot as plt\n",
    "#import graphviz\n",
    "import numpy as np\n",
    "import pandas as pd\n",
    "from sklearn import preprocessing\n",
    "import xgboost as xgb\n",
    "import kaggle_xgb\n",
    "import calc_ndcg\n",
    "#from sklearn.grid_search import ParameterGrid\n",
    "import pickle\n",
    "import fetch_data\n",
    "reload(fetch_data)"
   ]
  },
  {
   "cell_type": "markdown",
   "metadata": {},
   "source": [
    "Read in just the testing and training data."
   ]
  },
  {
   "cell_type": "code",
   "execution_count": 4,
   "metadata": {
    "collapsed": false
   },
   "outputs": [
    {
     "name": "stdout",
     "output_type": "stream",
     "text": [
      "number of columns before one hot encoding 273\n",
      "number of columns after one hot encoding 417\n"
     ]
    }
   ],
   "source": [
    "xgbInput = fetch_data.clfInput()\n",
    "xgbInput.sessions_ftrEng()\n",
    "xgbInput.users_ftrEng()\n",
    "xgbInput.one_hot()\n",
    "#xgbInput.binarize_targets()\n",
    "#xgbInput.split_data()"
   ]
  },
  {
   "cell_type": "code",
   "execution_count": null,
   "metadata": {
    "collapsed": false
   },
   "outputs": [],
   "source": [
    "param = {'num_class': 12, 'objective': 'multi:softprob', 'seed': 0}\n",
    "param['eta'] = 0.20\n",
    "param['max_depth'] = 6\n",
    "param['subsample'] = .5\n",
    "param['col_sample_bytree'] = .6\n",
    "results = {}\n",
    "cv_train = pd.read_pickle('cv_results/actions_e20/train_err.p')\n",
    "cv_valid = pd.read_pickle('cv_results/actions_e20/validate_err.p')\n",
    "nrounds = 40\n",
    "for train_indx, valid_indx in cv_bydate(xgbInput):\n",
    "    dtrain = xgb.DMatrix(xgbInput.train_X[train_indx], label = xgbInput.train_Y[train_indx],\n",
    "                missing = -1)\n",
    "    dvalid = xgb.DMatrix(xgbInput.train_X[valid_indx], label = xgbInput.train_Y[valid_indx],\n",
    "                missing = -1)\n",
    "    evallist = [(dtrain, 'train'), (dvalid, 'eval')]\n",
    "    bst = xgb.train(param, dtrain, nrounds, evallist, feval = calc_ndcg.evalerror, evals_result = results)\n",
    "    cv_train = pd.concat([cv_train, pd.Series(results['train']['error'])], axis = 1)\n",
    "    cv_valid = pd.concat([cv_valid, pd.Series(results['eval']['error'])], axis = 1)\n",
    "    pd.to_pickle(cv_train, 'cv_results/actions_e20/train_err.p')\n",
    "    pd.to_pickle(cv_valid, 'cv_results/actions_e20/validate_err.p')"
   ]
  },
  {
   "cell_type": "code",
   "execution_count": null,
   "metadata": {
    "collapsed": false
   },
   "outputs": [],
   "source": [
    "def cv_sessions(xgbInput):\n",
    "    \"\"\"Cross-validation on a subset of training data which meets a condition\"\"\"\n",
    "    \n",
    "    condition = 'dac_year == 2014 & action_counts != -1'\n",
    "    idx = np.nonzero(xgbInput.trainDf.index.isin(xgbInput.trainDf.query(condition).index))\n",
    "    idx = idx[0]\n",
    "    np.random.shuffle(idx[0])\n",
    "    n = len(idx)\n",
    "    \n",
    "    for i in range(0, kfolds):\n",
    "        idx[0]\n",
    "        \n",
    "def cv_bydate(xgbInput):\n",
    "    \"\"\"Select folds for cross validation as all cases that occurred in a given with month \n",
    "    in 2014, with sessions data.\n",
    "    Only cases in 2014 have sessions data and the last test case is on June 30.\n",
    "    \"\"\"\n",
    "    \n",
    "    for i in range(4,7):\n",
    "        condition = 'dac_year == 2014 & dac_month == @i & action_counts != -1'\n",
    "        valid_mask = xgbInput.trainDf.index.isin(xgbInput.trainDf.query(condition).index)\n",
    "        valid_indx = np.where(valid_mask)[0]\n",
    "        train_indx = np.where(~valid_mask)[0]\n",
    "        yield train_indx, valid_indx"
   ]
  },
  {
   "cell_type": "code",
   "execution_count": null,
   "metadata": {
    "collapsed": false
   },
   "outputs": [],
   "source": [
    "train_data[train_data.index.isin(sessions[sessions.action_detail == 'change_contact_host_dates'].user_id)].country_destination.value_counts(normalize = True)"
   ]
  },
  {
   "cell_type": "code",
   "execution_count": null,
   "metadata": {
    "collapsed": false
   },
   "outputs": [],
   "source": [
    "null_tr_browsers = []\n",
    "null_testbrowsers = []\n",
    "for i in train_data.first_browser.unique():\n",
    "    if i not in test_data.first_browser.unique():\n",
    "        null_tr_browsers.append(i)\n",
    "for i in test_data.first_browser.unique():\n",
    "    if i not in train_data.first_browser.unique():\n",
    "        null_testbrowsers.append(i)"
   ]
  },
  {
   "cell_type": "code",
   "execution_count": null,
   "metadata": {
    "collapsed": false
   },
   "outputs": [],
   "source": [
    "train_data[train_data.first_browser=='-unknown-'].first_browser.value_counts()"
   ]
  },
  {
   "cell_type": "code",
   "execution_count": null,
   "metadata": {
    "collapsed": false
   },
   "outputs": [],
   "source": [
    "train_data[train_data.affiliate_provider == \"gsp\"].country_destination.value_counts(normalize = True)"
   ]
  },
  {
   "cell_type": "code",
   "execution_count": null,
   "metadata": {
    "collapsed": false
   },
   "outputs": [],
   "source": [
    "print df.first_browser.value_counts()\n",
    "print test_data.first_browser.value_counts()"
   ]
  },
  {
   "cell_type": "code",
   "execution_count": null,
   "metadata": {
    "collapsed": false
   },
   "outputs": [],
   "source": [
    "xgbInput.allDf.loc[xgbInput.allDf.query('1000 > age > 100').index, 'age'] = 105\n",
    "#xgbInput.allDf.loc[self.allDf.query('age > 1000').index, 'age'] = 110"
   ]
  },
  {
   "cell_type": "code",
   "execution_count": 1,
   "metadata": {
    "collapsed": false
   },
   "outputs": [
    {
     "name": "stdout",
     "output_type": "stream",
     "text": [
      "number of columns before one hot encoding 273\n",
      "number of columns after one hot encoding 417\n"
     ]
    }
   ],
   "source": [
    "%run run_model.py"
   ]
  },
  {
   "cell_type": "code",
   "execution_count": null,
   "metadata": {
    "collapsed": false
   },
   "outputs": [],
   "source": [
    "np.where(av<14, -1)"
   ]
  },
  {
   "cell_type": "code",
   "execution_count": null,
   "metadata": {
    "collapsed": false
   },
   "outputs": [],
   "source": [
    "av = xgbInput.allDf.age.values"
   ]
  },
  {
   "cell_type": "code",
   "execution_count": 2,
   "metadata": {
    "collapsed": false
   },
   "outputs": [],
   "source": [
    "with open('../xgbmodels/actions_e20_26n.p') as f:\n",
    "    bst = pickle.load(f)"
   ]
  },
  {
   "cell_type": "code",
   "execution_count": 5,
   "metadata": {
    "collapsed": false
   },
   "outputs": [
    {
     "data": {
      "text/plain": [
       "[('f0', 'age', 332),\n",
       " ('f257', 'dac_day', 186),\n",
       " ('f4', 'secs_elapsed', 185),\n",
       " ('f262', 'tfa_hour', 161),\n",
       " ('f3', 'action_counts', 129),\n",
       " ('f256', 'dac_month', 117),\n",
       " ('f37', 'ajax_refresh_subtotal', 105),\n",
       " ('f258', 'dac_dayofweek', 103),\n",
       " ('f1', 'booking_request', 98),\n",
       " ('f255', 'dac_year', 97),\n",
       " ('f227', 'this_hosting_reviews', 72),\n",
       " ('f267', 'signup_method_basic', 70),\n",
       " ('f155', 'personalize', 66),\n",
       " ('f2', 'message_post', 64),\n",
       " ('f201', 'search_results', 62),\n",
       " ('f274', 'signup_flow_3', 56),\n",
       " ('f212', 'similar_listings', 55),\n",
       " ('f263', 'gender_-unknown-', 49),\n",
       " ('f128', 'lookup', 48),\n",
       " ('f237', 'travel_plans_current', 46),\n",
       " ('f29', 'ajax_google_translate_reviews', 45),\n",
       " ('f356', 'first_device_type_Mac Desktop', 44),\n",
       " ('f348', 'first_affiliate_tracked_untracked', 44),\n",
       " ('f268', 'signup_method_facebook', 43),\n",
       " ('f260', 'tfa_month', 40),\n",
       " ('f179', 'qt2', 38),\n",
       " ('f78', 'dashboard', 38),\n",
       " ('f56', 'cancellation_policies', 35),\n",
       " ('f143', 'other_hosting_reviews_first', 35),\n",
       " ('f351', 'signup_app_Web', 34),\n",
       " ('f316', 'affiliate_channel_content', 34),\n",
       " ('f110', 'identity', 33),\n",
       " ('f234', 'track_page_view', 33),\n",
       " ('f205', 'show_personalize', 32),\n",
       " ('f53', 'calendar_tab_inner2', 32),\n",
       " ('f249', 'verify', 32),\n",
       " ('f264', 'gender_FEMALE', 32),\n",
       " ('f121', 'languages_multiselect', 31),\n",
       " ('f370', 'first_browser_Chrome', 29),\n",
       " ('f105', 'header_userpic', 28),\n",
       " ('f136', 'my', 28),\n",
       " ('f47', 'ask_question', 26),\n",
       " ('f20', 'active', 26),\n",
       " ('f320', 'affiliate_channel_sem-brand', 25),\n",
       " ('f362', 'first_browser_-unknown-', 24),\n",
       " ('f213', 'similar_listings_v2', 24),\n",
       " ('f272', 'signup_flow_1', 24),\n",
       " ('f341', 'first_affiliate_tracked_-1', 23),\n",
       " ('f345', 'first_affiliate_tracked_omg', 23),\n",
       " ('f35', 'ajax_photo_widget_form_iframe', 23),\n",
       " ('f132', 'message_to_host_change', 22),\n",
       " ('f31', 'ajax_lwlb_contact', 22),\n",
       " ('f405', 'first_browser_Safari', 21),\n",
       " ('f318', 'affiliate_channel_other', 21),\n",
       " ('f321', 'affiliate_channel_sem-non-brand', 20),\n",
       " ('f68', 'complete_status', 20),\n",
       " ('f271', 'signup_flow_0', 20),\n",
       " ('f46', 'apply_reservation', 19),\n",
       " ('f84', 'edit_verification', 19),\n",
       " ('f140', 'open_graph_setting', 18),\n",
       " ('f317', 'affiliate_channel_direct', 18),\n",
       " ('f379', 'first_browser_Firefox', 18),\n",
       " ('f115', 'itinerary', 17),\n",
       " ('f129', 'manage_listing', 17),\n",
       " ('f265', 'gender_MALE', 17),\n",
       " ('f293', 'language_de', 16),\n",
       " ('f48', 'at_checkpoint', 16),\n",
       " ('f5', 'Mac Desktop', 16),\n",
       " ('f359', 'first_device_type_Windows Desktop', 15),\n",
       " ('f94', 'faq_category', 15),\n",
       " ('f177', 'profile_pic', 15),\n",
       " ('f203', 'settings', 14),\n",
       " ('f355', 'first_device_type_Desktop (Other)', 14),\n",
       " ('f298', 'language_fr', 14),\n",
       " ('f296', 'language_es', 14),\n",
       " ('f59', 'change_currency', 14),\n",
       " ('f342', 'first_affiliate_tracked_linked', 14),\n",
       " ('f26', 'ajax_check_dates', 14),\n",
       " ('f133', 'message_to_host_focus', 14),\n",
       " ('f277', 'signup_flow_6', 14),\n",
       " ('f278', 'signup_flow_8', 14),\n",
       " ('f361', 'first_device_type_iPhone', 13),\n",
       " ('f198', 'reviews_new', 13),\n",
       " ('f184', 'receipt', 13),\n",
       " ('f112', 'impressions', 12),\n",
       " ('f54', 'callback', 12),\n",
       " ('f346', 'first_affiliate_tracked_product', 12),\n",
       " ('f226', 'terms_and_conditions', 12),\n",
       " ('f156', 'phone_number_widget', 12),\n",
       " ('f331', 'affiliate_provider_google', 12),\n",
       " ('f273', 'signup_flow_2', 12),\n",
       " ('f206', 'signature', 11),\n",
       " ('f208', 'signup_login', 11),\n",
       " ('f57', 'cancellation_policy_click', 11),\n",
       " ('f322', 'affiliate_channel_seo', 11),\n",
       " ('f189', 'references', 11),\n",
       " ('f171', 'populate_help_dropdown', 11),\n",
       " ('f295', 'language_en', 10),\n",
       " ('f335', 'affiliate_provider_other', 10),\n",
       " ('f55', 'cancel', 10),\n",
       " ('f170', 'populate_from_facebook', 10),\n",
       " ('f325', 'affiliate_provider_craigslist', 9),\n",
       " ('f324', 'affiliate_provider_bing', 9),\n",
       " ('f89', 'endpoint_error', 9),\n",
       " ('f152', 'payout_preferences', 9),\n",
       " ('f12', '12', 9),\n",
       " ('f13', '15', 9),\n",
       " ('f303', 'language_it', 9),\n",
       " ('f165', 'phone_verification_success', 8),\n",
       " ('f259', 'tfa_year', 8),\n",
       " ('f357', 'first_device_type_Other/Unknown', 8),\n",
       " ('f197', 'review_page', 8),\n",
       " ('f199', 'salute', 8),\n",
       " ('f127', 'login_modal', 8),\n",
       " ('f6', 'Windows Desktop', 8),\n",
       " ('f329', 'affiliate_provider_facebook', 8),\n",
       " ('f261', 'tfa_day', 8),\n",
       " ('f306', 'language_nl', 8),\n",
       " ('f360', 'first_device_type_iPad', 7),\n",
       " ('f209', 'signup_modal', 7),\n",
       " ('f162', 'phone_verification_number_submitted_for_sms', 7),\n",
       " ('f350', 'signup_app_Moweb', 7),\n",
       " ('f103', 'handle_vanity_url', 7),\n",
       " ('f28', 'ajax_google_translate_description', 7),\n",
       " ('f231', 'top_destinations', 7),\n",
       " ('f30', 'ajax_image_upload', 7),\n",
       " ('f97', 'friends', 7),\n",
       " ('f392', 'first_browser_Mobile Safari', 7),\n",
       " ('f142', 'other_hosting_reviews', 7),\n",
       " ('f176', 'privacy', 7),\n",
       " ('f384', 'first_browser_IE', 7),\n",
       " ('f76', 'create_multiple', 7),\n",
       " ('f288', 'signup_flow_25', 6),\n",
       " ('f118', 'jumio_token', 6),\n",
       " ('f220', 'status', 6),\n",
       " ('f23', 'agree_terms_check', 6),\n",
       " ('f232', 'tos_confirm', 6),\n",
       " ('f147', 'pay', 6),\n",
       " ('f148', 'payment_methods', 6),\n",
       " ('f305', 'language_ko', 6),\n",
       " ('f163', 'phone_verification_number_sucessfully_submitted', 5),\n",
       " ('f119', 'kba', 5),\n",
       " ('f353', 'first_device_type_Android Phone', 5),\n",
       " ('f347', 'first_affiliate_tracked_tracked-other', 5),\n",
       " ('f22', 'add_note', 5),\n",
       " ('f88', 'email_wishlist', 5),\n",
       " ('f337', 'affiliate_provider_vast', 5),\n",
       " ('f310', 'language_ru', 5),\n",
       " ('f319', 'affiliate_channel_remarketing', 5),\n",
       " ('f10', '10', 5),\n",
       " ('f145', 'p4_refund_policy_terms', 5),\n",
       " ('f7', 'iPhone', 5),\n",
       " ('f207', 'signed_out_modal', 4),\n",
       " ('f100', 'guarantee', 4),\n",
       " ('f225', 'tell_a_friend', 4),\n",
       " ('f42', 'apply_coupon_click', 4),\n",
       " ('f236', 'transaction_history_paginated', 4),\n",
       " ('f327', 'affiliate_provider_direct', 4),\n",
       " ('f154', 'pending_tickets', 4),\n",
       " ('f15', 'account', 4),\n",
       " ('f308', 'language_pl', 4),\n",
       " ('f67', 'complete_redirect', 4),\n",
       " ('f178', 'push_notification_callback', 4),\n",
       " ('f372', 'first_browser_Chromium', 4),\n",
       " ('f180', 'qt_with', 4),\n",
       " ('f72', 'coupon_code_click', 4),\n",
       " ('f287', 'signup_flow_24', 3),\n",
       " ('f41', 'apply_code', 3),\n",
       " ('f354', 'first_device_type_Android Tablet', 3),\n",
       " ('f343', 'first_affiliate_tracked_local ops', 3),\n",
       " ('f239', 'trust', 3),\n",
       " ('f243', 'update_friends_display', 3),\n",
       " ('f120', 'kba_update', 3),\n",
       " ('f99', 'glob', 3),\n",
       " ('f314', 'language_zh', 3),\n",
       " ('f14', 'about_us', 3),\n",
       " ('f9', 'iPad Tablet', 3),\n",
       " ('f266', 'gender_OTHER', 3),\n",
       " ('f66', 'complete', 3),\n",
       " ('f202', 'set_user', 3),\n",
       " ('f169', 'popular', 2),\n",
       " ('f161', 'phone_verification_number_submitted_for_call', 2),\n",
       " ('f280', 'signup_flow_12', 2),\n",
       " ('f49', 'authorize', 2),\n",
       " ('f114', 'issue', 2),\n",
       " ('f44', 'apply_coupon_error', 2),\n",
       " ('f311', 'language_sv', 2),\n",
       " ('f102', 'guest_booked_elsewhere', 2),\n",
       " ('f222', 'submit_contact', 2),\n",
       " ('f21', 'add_guests', 2),\n",
       " ('f404', 'first_browser_RockMelt', 2),\n",
       " ('f134', 'mobile_landing_page', 2),\n",
       " ('f328', 'affiliate_provider_email-marketing', 2),\n",
       " ('f87', 'email_share', 2),\n",
       " ('f245', 'update_notifications', 2),\n",
       " ('f190', 'referrer_status', 2),\n",
       " ('f158', 'phone_verification_call_taking_too_long', 2),\n",
       " ('f92', 'facebook_auto_login', 2),\n",
       " ('f93', 'faq', 2),\n",
       " ('f96', 'founders', 2),\n",
       " ('f330', 'affiliate_provider_facebook-open-graph', 2),\n",
       " ('f8', 'Android Phone', 2),\n",
       " ('f185', 'recent_reservations', 2),\n",
       " ('f79', 'decision_tree', 2),\n",
       " ('f352', 'signup_app_iOS', 2),\n",
       " ('f73', 'coupon_field_focus', 2),\n",
       " ('f160', 'phone_verification_modal', 1),\n",
       " ('f166', 'photography', 1),\n",
       " ('f285', 'signup_flow_21', 1),\n",
       " ('f111', 'image_order', 1),\n",
       " ('f192', 'request_new_confirm_email', 1),\n",
       " ('f251', 'webcam_upload', 1),\n",
       " ('f368', 'first_browser_BlackBerry Browser', 1),\n",
       " ('f219', 'spoken_languages', 1),\n",
       " ('f58', 'change', 1),\n",
       " ('f186', 'recommend', 1),\n",
       " ('f228', 'toggle_archived_thread', 1),\n",
       " ('f248', 'uptodate', 1),\n",
       " ('f183', 'read_policy_click', 1),\n",
       " ('f43', 'apply_coupon_click_success', 1),\n",
       " ('f336', 'affiliate_provider_padmapper', 1),\n",
       " ('f235', 'transaction_history', 1),\n",
       " ('f36', 'ajax_price_and_availability', 1),\n",
       " ('f39', 'ajax_statsd', 1),\n",
       " ('f83', 'domains', 1),\n",
       " ('f86', 'email_itinerary_colorbox', 1),\n",
       " ('f244', 'update_hide_from_search_engines', 1),\n",
       " ('f247', 'upload', 1),\n",
       " ('f98', 'friends_new', 1),\n",
       " ('f315', 'affiliate_channel_api', 1),\n",
       " ('f11', '11', 1),\n",
       " ('f223', 'supported', 1),\n",
       " ('f65', 'clickthrough', 1),\n",
       " ('f371', 'first_browser_Chrome Mobile', 1),\n",
       " ('f77', 'create_paypal', 1)]"
      ]
     },
     "execution_count": 5,
     "metadata": {},
     "output_type": "execute_result"
    }
   ],
   "source": [
    "features = sorted(bst.get_fscore().items(), key = lambda x: x[1], reverse = True)\n",
    "[(feat, xgbInput.allDf.columns[int(feat[1:])], score) for feat, score in features]"
   ]
  }
 ],
 "metadata": {
  "kernelspec": {
   "display_name": "Python 2",
   "language": "python",
   "name": "python2"
  },
  "language_info": {
   "codemirror_mode": {
    "name": "ipython",
    "version": 2
   },
   "file_extension": ".py",
   "mimetype": "text/x-python",
   "name": "python",
   "nbconvert_exporter": "python",
   "pygments_lexer": "ipython2",
   "version": "2.7.10"
  }
 },
 "nbformat": 4,
 "nbformat_minor": 0
}
